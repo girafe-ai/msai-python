{
  "nbformat": 4,
  "nbformat_minor": 0,
  "metadata": {
    "colab": {
      "provenance": []
    },
    "kernelspec": {
      "name": "python3",
      "display_name": "Python 3"
    },
    "language_info": {
      "name": "python"
    }
  },
  "cells": [
    {
      "cell_type": "markdown",
      "source": [
        "# Seminar 4.\n",
        "\n",
        "Classes, imports (+ random & math), try statement"
      ],
      "metadata": {
        "id": "lOi5IpB0jjNA"
      }
    },
    {
      "cell_type": "markdown",
      "source": [
        "Let's create example class - Item for online store website.\n",
        "\n",
        "- `self` is current instance. we can use it to access instance attributes and methods\n",
        "- every regular method automatically gets current instance as a first argument\n",
        "- `__init__` runs automatically and this is a place to declare instance attributes."
      ],
      "metadata": {
        "id": "UJGFO02Vj3Gt"
      }
    },
    {
      "cell_type": "code",
      "source": [
        "class Item:\n",
        "    def __init__(self, name, price, currency='$'):\n",
        "        self.name = name\n",
        "        self.price = price\n",
        "        self.currency = currency\n",
        "\n",
        "    def display(self):\n",
        "        print(f'I\\'m an item \"{self.name}\" for {self.currency} {self.price}')\n",
        "\n",
        "\n",
        "ball = Item('Ball', 10)\n",
        "ball2 = Item('Ball', 5, '₽')\n",
        "ball.display()  # Item.display(ball)\n",
        "ball2.display()  # Item.display(ball2)"
      ],
      "metadata": {
        "colab": {
          "base_uri": "https://localhost:8080/"
        },
        "id": "50w-j3_L8fZw",
        "outputId": "2682ea2f-5f16-4140-ac32-8bc1d7ac5e2b"
      },
      "execution_count": null,
      "outputs": [
        {
          "output_type": "stream",
          "name": "stdout",
          "text": [
            "I'm an item \"Ball\" for $ 10\n",
            "I'm an item \"Ball\" for ₽ 5\n"
          ]
        }
      ]
    },
    {
      "cell_type": "markdown",
      "source": [
        "There are several magic/dunder/special methods. They are used to override behaviour of built-in functionality."
      ],
      "metadata": {
        "id": "6dlZFiWJk2Qm"
      }
    },
    {
      "cell_type": "code",
      "source": [
        "class Item:\n",
        "\n",
        "    def __init__(self, name, price, currency='$'):\n",
        "        self.name = name\n",
        "        self.price = price\n",
        "        self.currency = currency\n",
        "\n",
        "    def __repr__(self):\n",
        "        \"\"\"\n",
        "        String representation of object.\n",
        "        Used to display object in console or to cast it to string.\n",
        "        \"\"\"\n",
        "        return f'I\\'m an item \"{self.name}\" for {self.currency} {self.price}'\n",
        "\n",
        "    def __lt__(self, other):\n",
        "        \"\"\"\n",
        "        \"<\" operator overloading.\n",
        "        \"\"\"\n",
        "        return self.price < other.price\n",
        "\n",
        "    def __bool__(self):\n",
        "        \"\"\"\n",
        "        Truth value testing overloading.\n",
        "        \"\"\"\n",
        "        return bool(self.price)\n",
        "\n",
        "\n",
        "ball = Item('Ball', 10)\n",
        "ball2 = Item('Ball', 5, '₽')\n",
        "print(ball)\n",
        "print(ball2)\n",
        "\n",
        "print(ball < ball2)\n",
        "\n",
        "list_example = [1]\n",
        "if list_example:  # len(list_example)\n",
        "    print('list_example is not empty')\n",
        "\n",
        "if Item('Ball', 0):  # if bool(ball)\n",
        "    print('ball is True')\n",
        "else:\n",
        "    print('ball is False')"
      ],
      "metadata": {
        "colab": {
          "base_uri": "https://localhost:8080/"
        },
        "id": "zIBhbbgIDH2y",
        "outputId": "202c873d-a026-475f-fc27-1b3e0521eaae"
      },
      "execution_count": null,
      "outputs": [
        {
          "output_type": "stream",
          "name": "stdout",
          "text": [
            "I'm an item \"Ball\" for $ 10\n",
            "I'm an item \"Ball\" for ₽ 5\n",
            "False\n",
            "list_example is not empty\n",
            "ball is False\n"
          ]
        }
      ]
    },
    {
      "cell_type": "markdown",
      "source": [
        "Let's use imports to get modules from The Python Standard Library.\n",
        "- The Python Standard Library includes a lot of useful packages\n",
        "- two of them - `math `to do math and `random` to generate random numbers\n",
        "- you can use `import module` or `from module import attribute` syntax\n",
        "- you can also use `from module import *` but don't"
      ],
      "metadata": {
        "id": "iAlY_AaPll-A"
      }
    },
    {
      "cell_type": "code",
      "source": [
        "import math\n",
        "from random import randint\n",
        "\n",
        "\n",
        "class ItemCountLevel:\n",
        "    EMPTY = 'empty'\n",
        "    LOW = 'low'\n",
        "    MIDDLE = 'middle'\n",
        "    HIGH = 'high'\n",
        "\n",
        "\n",
        "class Item:\n",
        "\n",
        "    def __init__(self, name, price, currency='$'):\n",
        "        self.name = name\n",
        "        self.price = price\n",
        "        self.currency = currency\n",
        "\n",
        "    def __repr__(self):\n",
        "        return f'I\\'m an item \"{self.name}\" for {self.currency} {self.price}'\n",
        "\n",
        "    def get_count(self):\n",
        "        return randint(0, 1500)\n",
        "\n",
        "    def get_count_level(self):\n",
        "        \"\"\"\n",
        "        count = 0  - EMPTY\n",
        "        log(count) < 5  - LOW\n",
        "        log(count) < 10  - MIDDLE\n",
        "        log(count) - HIGH\n",
        "        \"\"\"\n",
        "        count = self.get_count()\n",
        "        if count == 0:\n",
        "            return ItemCountLevel.EMPTY\n",
        "        elif math.log(count) < 5:\n",
        "            return ItemCountLevel.LOW\n",
        "        elif math.log(count) < 10:\n",
        "            return ItemCountLevel.MIDDLE\n",
        "        else:\n",
        "            return ItemCountLevel.HIGH\n",
        "\n",
        "\n",
        "\n",
        "ball = Item('Ball', 5)\n",
        "for _ in range(10):\n",
        "    print(ball.get_count_level())"
      ],
      "metadata": {
        "colab": {
          "base_uri": "https://localhost:8080/"
        },
        "id": "OmpAiDsbGG14",
        "outputId": "42c3fea0-536c-43c2-8454-30ba6d1e2e75"
      },
      "execution_count": null,
      "outputs": [
        {
          "output_type": "stream",
          "name": "stdout",
          "text": [
            "middle\n",
            "middle\n",
            "middle\n",
            "middle\n",
            "middle\n",
            "middle\n",
            "middle\n",
            "low\n",
            "middle\n",
            "middle\n"
          ]
        }
      ]
    },
    {
      "cell_type": "markdown",
      "source": [
        "Class attributes and instance attributes are not the same."
      ],
      "metadata": {
        "id": "Hd430uwlm-T8"
      }
    },
    {
      "cell_type": "code",
      "source": [
        "import math\n",
        "from random import randint\n",
        "\n",
        "\n",
        "class ItemCountLevel:\n",
        "    EMPTY = 'empty'\n",
        "    LOW = 'low'\n",
        "    MIDDLE = 'middle'\n",
        "    HIGH = 'high'\n",
        "\n",
        "\n",
        "class Item:\n",
        "    currency = '$'\n",
        "\n",
        "    def __init__(self, name, price):\n",
        "        self.name = name\n",
        "        self.price = price\n",
        "\n",
        "    def __repr__(self):\n",
        "        return f'I\\'m an item \"{self.name}\" for {self.currency} {self.price}'\n",
        "\n",
        "    def get_count(self):\n",
        "        return randint(0, 1500)\n",
        "\n",
        "    def get_count_level(self):\n",
        "        \"\"\"\n",
        "        count = 0  - EMPTY\n",
        "        log(count) < 5  - LOW\n",
        "        log(count) < 10  - MIDDLE\n",
        "        log(count) - HIGH\n",
        "        \"\"\"\n",
        "        count = self.get_count()\n",
        "        if count == 0:\n",
        "            return ItemCountLevel.EMPTY\n",
        "        elif math.log(count) < 5:\n",
        "            return ItemCountLevel.LOW\n",
        "        elif math.log(count) < 10:\n",
        "            return ItemCountLevel.MIDDLE\n",
        "        else:\n",
        "            return ItemCountLevel.HIGH\n",
        "\n",
        "\n",
        "\n",
        "ball1 = Item('Ball 1', 5)\n",
        "ball2 = Item('Ball 2', 10)\n",
        "Item.currency = '&'\n",
        "\n",
        "print(ball1)\n",
        "print(ball2)"
      ],
      "metadata": {
        "colab": {
          "base_uri": "https://localhost:8080/"
        },
        "id": "kOtYqHu6Xytn",
        "outputId": "cff29b0e-8fc8-45cf-faf6-6b0e79be7ee2"
      },
      "execution_count": null,
      "outputs": [
        {
          "output_type": "stream",
          "name": "stdout",
          "text": [
            "I'm an item \"Ball 1\" for & 5\n",
            "I'm an item \"Ball 2\" for & 10\n"
          ]
        }
      ]
    },
    {
      "cell_type": "markdown",
      "source": [
        "You can use trick with `@property` and `_` to \"hide\" attribute from being edited.\n",
        "\n",
        "Python will raise exception in that case.\n",
        "\n",
        "To catch exceptions and prevent program from being stopped we use try statement\n",
        "- use `except` statement to catch specific exceptions or all exceptions\n",
        "- use `except` several times if you want to do different actions on different exceptions\n",
        "- use `else` to execute code when no exception were thrown (sometimes it is useful)\n",
        "- use `finally` to execude code in any case (even after `return`)"
      ],
      "metadata": {
        "id": "7WvQfpZbnKG8"
      }
    },
    {
      "cell_type": "code",
      "source": [
        "import math\n",
        "from random import randint\n",
        "\n",
        "\n",
        "class ItemCountLevel:\n",
        "    EMPTY = 'empty'\n",
        "    LOW = 'low'\n",
        "    MIDDLE = 'middle'\n",
        "    HIGH = 'high'\n",
        "\n",
        "\n",
        "class Item:\n",
        "    currency = '$'\n",
        "\n",
        "    def __init__(self, name, price):\n",
        "        self.name = name\n",
        "        self._price = price\n",
        "\n",
        "    def __repr__(self):\n",
        "        return f'I\\'m an item \"{self.name}\" for {self.currency} {self.price}'\n",
        "\n",
        "    @property\n",
        "    def price(self):\n",
        "        return self._price\n",
        "\n",
        "    def get_count(self):\n",
        "        return randint(0, 1500)\n",
        "\n",
        "    def get_count_level(self):\n",
        "        \"\"\"\n",
        "        count = 0  - EMPTY\n",
        "        log(count) < 5  - LOW\n",
        "        log(count) < 10  - MIDDLE\n",
        "        log(count) - HIGH\n",
        "        \"\"\"\n",
        "        count = self.get_count()\n",
        "        if count == 0:\n",
        "            return ItemCountLevel.EMPTY\n",
        "        elif math.log(count) < 5:\n",
        "            return ItemCountLevel.LOW\n",
        "        elif math.log(count) < 10:\n",
        "            return ItemCountLevel.MIDDLE\n",
        "        else:\n",
        "            return ItemCountLevel.HIGH\n",
        "\n",
        "\n",
        "\n",
        "ball1 = Item('Ball 1', 5)\n",
        "print(ball1.price)\n",
        "\n",
        "def foo():\n",
        "    try:\n",
        "        return\n",
        "        ball1.price = 10\n",
        "    except AttributeError:\n",
        "        print('price can\\'t be changed')\n",
        "    except Exception as e:\n",
        "        print(f'other error {e}')\n",
        "    else:\n",
        "        print(f'no exception')\n",
        "    finally:\n",
        "        print('i\\'m here')\n",
        "\n",
        "foo()\n",
        "\n",
        "print(ball1)"
      ],
      "metadata": {
        "colab": {
          "base_uri": "https://localhost:8080/"
        },
        "id": "ZGLqc9kGa0rm",
        "outputId": "c54abb7d-7751-48c6-f2c4-52f4fa2cde5b"
      },
      "execution_count": null,
      "outputs": [
        {
          "output_type": "stream",
          "name": "stdout",
          "text": [
            "5\n",
            "i'm here\n",
            "I'm an item \"Ball 1\" for $ 5\n"
          ]
        }
      ]
    }
  ]
}