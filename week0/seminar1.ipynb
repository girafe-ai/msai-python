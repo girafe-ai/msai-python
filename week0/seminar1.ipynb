{
  "cells": [
    {
      "cell_type": "markdown",
      "metadata": {
        "id": "vNtBaTbMLog5"
      },
      "source": [
        "# Python introduction"
      ]
    },
    {
      "cell_type": "code",
      "source": [
        "import this"
      ],
      "metadata": {
        "id": "LQ3mlksbPor_",
        "outputId": "6c9de2e6-3951-41b9-94e8-42fd5c242ae3",
        "colab": {
          "base_uri": "https://localhost:8080/"
        }
      },
      "execution_count": null,
      "outputs": [
        {
          "output_type": "stream",
          "name": "stdout",
          "text": [
            "The Zen of Python, by Tim Peters\n",
            "\n",
            "Beautiful is better than ugly.\n",
            "Explicit is better than implicit.\n",
            "Simple is better than complex.\n",
            "Complex is better than complicated.\n",
            "Flat is better than nested.\n",
            "Sparse is better than dense.\n",
            "Readability counts.\n",
            "Special cases aren't special enough to break the rules.\n",
            "Although practicality beats purity.\n",
            "Errors should never pass silently.\n",
            "Unless explicitly silenced.\n",
            "In the face of ambiguity, refuse the temptation to guess.\n",
            "There should be one-- and preferably only one --obvious way to do it.\n",
            "Although that way may not be obvious at first unless you're Dutch.\n",
            "Now is better than never.\n",
            "Although never is often better than *right* now.\n",
            "If the implementation is hard to explain, it's a bad idea.\n",
            "If the implementation is easy to explain, it may be a good idea.\n",
            "Namespaces are one honking great idea -- let's do more of those!\n"
          ]
        }
      ]
    },
    {
      "cell_type": "markdown",
      "source": [
        "### Standard input / output streams"
      ],
      "metadata": {
        "id": "hSJC5_COL2Xk"
      }
    },
    {
      "cell_type": "code",
      "source": [
        "print(\"Hello to the standard output\")\n",
        "\n",
        "user_input = input()\n",
        "\n",
        "print(\"User entered: \", user_input)\n",
        "\n",
        "user_input = input(\"Here you can give a prompt to a user: \")\n",
        "\n",
        "print(\"Second user input: \", user_input)"
      ],
      "metadata": {
        "colab": {
          "base_uri": "https://localhost:8080/"
        },
        "id": "oB7bz6rDL1vI",
        "outputId": "9ecd81f5-1f11-4de4-8363-336733888b7b"
      },
      "execution_count": null,
      "outputs": [
        {
          "output_type": "stream",
          "name": "stdout",
          "text": [
            "Hello to the standard output\n",
            "hello\n",
            "User entered:  hello\n",
            "Here you can give a prompt to an user: some input\n",
            "Second user input:  some input\n"
          ]
        }
      ]
    },
    {
      "cell_type": "markdown",
      "source": [
        "### Dynamic typing\n",
        "\n",
        "Python is dynamically typed language.\n",
        "\n",
        "In case you don't know what it means, check [here](https://realpython.com/lessons/dynamic-vs-static/), [here](https://towardsdatascience.com/dynamic-typing-in-python-307f7c22b24e), or [here](https://www.educative.io/answers/is-python-a-dynamically-typed-language)"
      ],
      "metadata": {
        "id": "aR-Bl2YnMuT5"
      }
    },
    {
      "cell_type": "code",
      "source": [
        "# statically typed and dynamically typed\n",
        "\n",
        "# statically typed: C++\n",
        "# variable: integer, float, string, ....\n",
        "# int32 variable = 12\n",
        "# .....\n",
        "# variable = \"string\", 1.0 # you cannot do this\n",
        "# variable = 13\n",
        "\n",
        "\n",
        "# IT'S A BAD PATTERN\n",
        "\n",
        "# dynamically typed: python, js\n",
        "# variable = 12\n",
        "# .......\n",
        "# variable = \"string\"\n",
        "# .......\n",
        "# variable = 12.0\n",
        "# .......\n",
        "# variable = CustomClass()"
      ],
      "metadata": {
        "id": "MscVSx2tU7n7"
      },
      "execution_count": null,
      "outputs": []
    },
    {
      "cell_type": "markdown",
      "metadata": {
        "id": "ERaXmyAfLog7"
      },
      "source": [
        "## Builtins\n",
        "\n",
        "We can find out object's type using builtin `type` function"
      ]
    },
    {
      "cell_type": "code",
      "execution_count": null,
      "metadata": {
        "scrolled": true,
        "id": "DS7tC6uoLog8",
        "outputId": "43f7d621-18b2-4bb4-bcac-cea6c27fe523",
        "colab": {
          "base_uri": "https://localhost:8080/"
        }
      },
      "outputs": [
        {
          "output_type": "stream",
          "name": "stdout",
          "text": [
            "int type <class 'int'>\n",
            "float type <class 'float'>\n",
            "string type <class 'str'>\n",
            "list type <class 'list'>\n",
            "tuple type <class 'tuple'>\n",
            "dictionary type <class 'dict'>\n",
            "None type <class 'NoneType'>\n",
            "boolean type <class 'bool'>\n"
          ]
        }
      ],
      "source": [
        "int_var = 1\n",
        "float_var = 1.\n",
        "string_var = \"msai\"\n",
        "list_var = [1, 2, 3]  # list (or dynamic array)\n",
        "tuple_var = (1, 2, 3)  # tuple\n",
        "dict_var = {\"1\": 1, \"2\": 2, \"3\": 3}  # dictionary\n",
        "none_var = None\n",
        "bool_var = True\n",
        "\n",
        "print(f'int type {type(int_var)}')\n",
        "print(f'float type {type(float_var)}')\n",
        "print(f'string type {type(string_var)}')\n",
        "print(f'list type {type(list_var)}')\n",
        "print(f'tuple type {type(tuple_var)}')\n",
        "print(f'dictionary type {type(dict_var)}')\n",
        "print(f'None type {type(none_var)}')\n",
        "print(f'boolean type {type(bool_var)}')"
      ]
    },
    {
      "cell_type": "code",
      "source": [
        "# a = [1,2,3]\n",
        "# # ....\n",
        "# a = {\"123\": 123}  # if there're no more variables pointing\n",
        "#                   # to [1,2,3] it'll be deleted by gc"
      ],
      "metadata": {
        "id": "5rFxh-QkWgUJ"
      },
      "execution_count": null,
      "outputs": []
    },
    {
      "cell_type": "markdown",
      "metadata": {
        "id": "32Q_OBVPLog9"
      },
      "source": [
        "`isnstance` returns `False` if object is not an object of the given type."
      ]
    },
    {
      "cell_type": "code",
      "execution_count": null,
      "metadata": {
        "id": "R4dDjDANLog9",
        "outputId": "2080dcab-2c1b-40c4-c39c-75da106d508e",
        "colab": {
          "base_uri": "https://localhost:8080/"
        }
      },
      "outputs": [
        {
          "output_type": "stream",
          "name": "stdout",
          "text": [
            "True\n",
            "True\n",
            "True\n"
          ]
        }
      ],
      "source": [
        "print(isinstance(1., float))\n",
        "print(isinstance(1, int))\n",
        "\n",
        "# Is object is instance of any given type from (int, float)\n",
        "print(isinstance(1, (int, float)))"
      ]
    },
    {
      "cell_type": "markdown",
      "metadata": {
        "id": "x9h7Y5CZLog-"
      },
      "source": [
        "## id\n",
        "\n",
        "Return the `identity` of an object. This is an integer which is guaranteed to be unique and constant for this object during its lifetime. Two objects with non-overlapping lifetimes may have the same `id()` value.\n",
        "\n",
        "`CPython` implementation detail: This is the `address` of the object in memory."
      ]
    },
    {
      "cell_type": "code",
      "source": [
        "a = 123\n",
        "\n",
        "print(id(a))"
      ],
      "metadata": {
        "colab": {
          "base_uri": "https://localhost:8080/"
        },
        "id": "UfYyk9H1XjaP",
        "outputId": "ba56bb31-75ee-4fcb-f1db-d7c5e5472c8e"
      },
      "execution_count": null,
      "outputs": [
        {
          "output_type": "stream",
          "name": "stdout",
          "text": [
            "134239320068144\n"
          ]
        }
      ]
    },
    {
      "cell_type": "code",
      "source": [
        "a = [1,2,3,4]\n",
        "\n",
        "print(id(a))"
      ],
      "metadata": {
        "colab": {
          "base_uri": "https://localhost:8080/"
        },
        "id": "IZZTUNwjXsAf",
        "outputId": "8ec6ed54-4870-4556-9a4a-2395ec0e449c"
      },
      "execution_count": null,
      "outputs": [
        {
          "output_type": "stream",
          "name": "stdout",
          "text": [
            "134238049210944\n"
          ]
        }
      ]
    },
    {
      "cell_type": "code",
      "execution_count": null,
      "metadata": {
        "id": "apgena3JLog-",
        "outputId": "0bff86f7-3e37-4b80-f35c-9b6f64ffcba3",
        "colab": {
          "base_uri": "https://localhost:8080/"
        }
      },
      "outputs": [
        {
          "output_type": "stream",
          "name": "stdout",
          "text": [
            "Identity of None: 98503481983968\n",
            "Identity of integer \"1\": 134239320064240\n"
          ]
        }
      ],
      "source": [
        "none_var = None\n",
        "int_var = 1\n",
        "\n",
        "print(f'Identity of None: {id(none_var)}')\n",
        "print(f'Identity of integer \"1\": {id(int_var)}')\n"
      ]
    },
    {
      "cell_type": "markdown",
      "metadata": {
        "id": "J8ss_20sLog-"
      },
      "source": [
        "## None\n",
        "`None` object is `immutable` `singletone` object.\n",
        "\n",
        "Represents an absence of a value"
      ]
    },
    {
      "cell_type": "code",
      "source": [
        "a = None\n",
        "b = None\n",
        "\n",
        "print(id(a))\n",
        "print(id(b))"
      ],
      "metadata": {
        "colab": {
          "base_uri": "https://localhost:8080/"
        },
        "id": "f0hQcR84YH7q",
        "outputId": "7cf6273e-4301-493b-97ed-9dfd49b0adff"
      },
      "execution_count": null,
      "outputs": [
        {
          "output_type": "stream",
          "name": "stdout",
          "text": [
            "98503481983968\n",
            "98503481983968\n"
          ]
        }
      ]
    },
    {
      "cell_type": "code",
      "execution_count": null,
      "metadata": {
        "scrolled": true,
        "id": "Hb12Om6gLog_",
        "outputId": "70418863-47d1-4e57-fa78-ebcd133e7c20",
        "colab": {
          "base_uri": "https://localhost:8080/"
        }
      },
      "outputs": [
        {
          "output_type": "stream",
          "name": "stdout",
          "text": [
            "none_var is another_none_var: True\n",
            "True\n"
          ]
        }
      ],
      "source": [
        "none_var = None\n",
        "another_none_var = None\n",
        "\n",
        "print(f'none_var is another_none_var: {none_var is another_none_var}')\n",
        "print(f\"{id(none_var) == id(another_none_var)}\")"
      ]
    },
    {
      "cell_type": "markdown",
      "metadata": {
        "id": "bbS14S1sLog_"
      },
      "source": [
        "## Numeric\n",
        "\n",
        "* integers\n",
        "* floating point numbers\n",
        "* complex numbers\n",
        "\n",
        "The division operator `/` for integers gives a floating-point real number (an object of type float).\n",
        "The exponentiation `**` also returns a float when the power is negative.\n",
        "\n",
        "If `number < 0` and `power < 1` - `**` return complex number."
      ]
    },
    {
      "cell_type": "code",
      "source": [
        "print(type((-1) ** 0.5))"
      ],
      "metadata": {
        "colab": {
          "base_uri": "https://localhost:8080/"
        },
        "id": "56ResuUjZ4fF",
        "outputId": "e6e2f42f-e2d5-498b-ffaf-f38ae6edf2a8"
      },
      "execution_count": null,
      "outputs": [
        {
          "output_type": "stream",
          "name": "stdout",
          "text": [
            "<class 'complex'>\n"
          ]
        }
      ]
    },
    {
      "cell_type": "code",
      "execution_count": null,
      "metadata": {
        "id": "-a43Nk0qLohA",
        "outputId": "49b0d7bb-3f36-48f7-e1e8-cf829a5da196",
        "colab": {
          "base_uri": "https://localhost:8080/"
        }
      },
      "outputs": [
        {
          "output_type": "stream",
          "name": "stdout",
          "text": [
            "sum:\n",
            "int sum: 20\n",
            "int sum with cast to float: 20.3\n",
            "float sum: 20.3\n",
            "float sum with cast to complex: (20+10j)\n",
            "\n",
            "quotient:\n",
            "int quotient: 1.0\n",
            "float quotient: 1.0\n",
            "complex quotient: (1+1j)\n",
            "\n",
            "floored quotient:\n",
            "int floored quotient: 1\n",
            "float floored quotient: 1.0\n",
            "\n",
            "remainder:\n",
            "int remainder: 3\n",
            "int remainder with cast to float: 3.0\n",
            "float remainder: 3.0\n",
            "\n",
            "power:\n",
            "int in power of int: 100\n",
            "int in power of negative int: 0.01\n",
            "int in power of negative int and power less than 1: (1.9363366072701937e-16+3.1622776601683795j)\n",
            "\n",
            "absolute value:\n",
            "int absolute value: 10: 10\n",
            "float absolute value: 10.0: 10.0\n",
            "complex absolute value: 14.142135623730951\n"
          ]
        }
      ],
      "source": [
        "int_var = 10\n",
        "float_var = 10.\n",
        "complex_var = 10. + 10.j\n",
        "\n",
        "\n",
        "# sum\n",
        "print('sum:')\n",
        "print(f'int sum: {int_var + 10}')\n",
        "print(f'int sum with cast to float: {int_var + 10.30}')\n",
        "print(f'float sum: {float_var + 10.30}')\n",
        "print(f'float sum with cast to complex: {float_var + complex_var}')\n",
        "\n",
        "# quotient\n",
        "print('\\nquotient:')\n",
        "print(f'int quotient: {int_var / 10}')\n",
        "print(f'float quotient: {float_var / 10.}')\n",
        "print(f'complex quotient: {complex_var / 10.}')\n",
        "\n",
        "# floored quotient\n",
        "print('\\nfloored quotient:')\n",
        "print(f'int floored quotient: {int_var // 10}')\n",
        "print(f'float floored quotient: {float_var // 10.}')\n",
        "\n",
        "# remainder\n",
        "print('\\nremainder:')\n",
        "print(f'int remainder: {int_var % 7}')\n",
        "print(f'int remainder with cast to float: {int_var % 7.}')\n",
        "print(f'float remainder: {float_var % 7}')\n",
        "\n",
        "# power\n",
        "print('\\npower:')\n",
        "print(f'int in power of int: {int_var ** 2}')\n",
        "print(f'int in power of negative int: {int_var ** -2}')\n",
        "print(f'int in power of negative int and power less than 1: {(-int_var) ** 0.5}')\n",
        "\n",
        "# absolute value\n",
        "print('\\nabsolute value:')\n",
        "print(f'int absolute value: {abs(int_var)}: {abs(-int_var)}')\n",
        "print(f'float absolute value: {abs(float_var)}: {abs(-float_var)}')\n",
        "print(f'complex absolute value: {abs(complex_var)}')"
      ]
    },
    {
      "cell_type": "markdown",
      "metadata": {
        "id": "oyko0vcALohA"
      },
      "source": [
        "## Boolean\n",
        "Booleans in Python are represented by two `singletones` - `True` and `False`"
      ]
    },
    {
      "cell_type": "code",
      "execution_count": null,
      "metadata": {
        "id": "DBij9A7nLohB",
        "outputId": "2f946aea-412e-4809-c7aa-df9e5bf158fa",
        "colab": {
          "base_uri": "https://localhost:8080/"
        }
      },
      "outputs": [
        {
          "output_type": "stream",
          "name": "stdout",
          "text": [
            "True type <class 'bool'>\n",
            "False type <class 'bool'>\n",
            "a > b expression: False\n",
            "Empty list -> bool: False\n"
          ]
        }
      ],
      "source": [
        "true_var = True\n",
        "false_var = False\n",
        "\n",
        "print(f'True type {type(true_var)}')\n",
        "print(f'False type {type(true_var)}')\n",
        "\n",
        "# Some expressions could be boolean\n",
        "a = 20\n",
        "b = 21\n",
        "\n",
        "print(f'a > b expression: {a > b}')\n",
        "\n",
        "# Objects can be casted to booleans\n",
        "print(f'Empty list -> bool: {bool([])}')"
      ]
    },
    {
      "cell_type": "markdown",
      "metadata": {
        "id": "lqySt9RXLohB"
      },
      "source": [
        "`bool` is a subclass of `int`, so `True` is an instance of `int`.\n",
        "\n",
        "Originally, Python had no `bool` type, and things that returned truth values returned `1` or `0`.\n",
        "\n",
        "When they added `bool`, `True` and `False` had to be drop-in replacements for `1` and `0` as much as possible for backward compatibility, hence the subclassing."
      ]
    },
    {
      "cell_type": "code",
      "execution_count": null,
      "metadata": {
        "id": "ALqZhEggLohB",
        "outputId": "c21c59f0-0526-42ac-fea8-c523f766dd75",
        "colab": {
          "base_uri": "https://localhost:8080/"
        }
      },
      "outputs": [
        {
          "output_type": "stream",
          "name": "stdout",
          "text": [
            "True is instance of type int: True\n",
            "Object 1: int\n",
            "Object False: boolean\n"
          ]
        }
      ],
      "source": [
        "print(f'True is instance of type int: {isinstance(True, int)}')\n",
        "\n",
        "# If you want to catch such things, first you need to check if object is boolean\n",
        "obj = 1\n",
        "\n",
        "if isinstance(obj, bool):\n",
        "    print(f'Object {obj}: boolean')\n",
        "elif isinstance(obj, int):\n",
        "    print(f'Object {obj}: int')\n",
        "\n",
        "obj = False\n",
        "\n",
        "if isinstance(obj, bool):\n",
        "    print(f'Object {obj}: boolean')\n",
        "elif isinstance(obj, int):\n",
        "    print(f'Object {obj}: int')\n"
      ]
    },
    {
      "cell_type": "code",
      "source": [
        "# boolean arithmetics\n",
        "\n",
        "a = True\n",
        "b = False\n",
        "\n",
        "print(a and b)\n",
        "print(a or b)\n",
        "print(not a)"
      ],
      "metadata": {
        "colab": {
          "base_uri": "https://localhost:8080/"
        },
        "id": "VI7VqTyNdIj3",
        "outputId": "5ca7dd4d-56a4-4db8-e0c0-e8c5bc064e8e"
      },
      "execution_count": null,
      "outputs": [
        {
          "output_type": "stream",
          "name": "stdout",
          "text": [
            "False\n",
            "True\n",
            "False\n"
          ]
        }
      ]
    },
    {
      "cell_type": "markdown",
      "source": [
        "Boolean arithmetics is \"lazy\":\n",
        "- if you have `or` and your lhs is `True` -> you do not need to calculate rhs\n",
        "\n",
        "`True or something == True`\n",
        "- if you have `and` and your lhs is `False` -> you do not need to calculate rhs\n",
        "\n",
        "`False and something == False`"
      ],
      "metadata": {
        "id": "w9DzOkh1dnnw"
      }
    },
    {
      "cell_type": "code",
      "source": [
        "### INTERESTING CASE WITH IF STATEMENT\n",
        "a = 123\n",
        "\n",
        "\n",
        "if True or a / 0:\n",
        "    print(\"ALL IS GOOD\")"
      ],
      "metadata": {
        "colab": {
          "base_uri": "https://localhost:8080/"
        },
        "id": "cYBYH_r8dSl3",
        "outputId": "375e2e56-6bb4-4d35-c457-df5fce4b52a9"
      },
      "execution_count": null,
      "outputs": [
        {
          "output_type": "stream",
          "name": "stdout",
          "text": [
            "ALL IS GOOD\n"
          ]
        }
      ]
    },
    {
      "cell_type": "code",
      "source": [
        "### INTERESTING CASE WITH IF STATEMENT\n",
        "a = 123\n",
        "\n",
        "\n",
        "if False and a / 0:\n",
        "    print(\"ALL IS GOOD\")\n",
        "else:\n",
        "    print(\"STILL GOOD\")"
      ],
      "metadata": {
        "colab": {
          "base_uri": "https://localhost:8080/"
        },
        "id": "n05HwKZidi0u",
        "outputId": "2704a186-8059-46db-be71-38a5d0c08e3a"
      },
      "execution_count": null,
      "outputs": [
        {
          "output_type": "stream",
          "name": "stdout",
          "text": [
            "STILL GOOD\n"
          ]
        }
      ]
    },
    {
      "cell_type": "code",
      "source": [
        "something = True\n",
        "other_something = False\n",
        "\n",
        "if something:\n",
        "    print(\"do something\")\n",
        "elif other_something:\n",
        "    print(\"do other something\")\n",
        "else:\n",
        "    print(\"do it\")"
      ],
      "metadata": {
        "colab": {
          "base_uri": "https://localhost:8080/"
        },
        "id": "tahsX8OSa7wJ",
        "outputId": "fa7553dc-6e76-4728-f943-37566abf2ceb"
      },
      "execution_count": null,
      "outputs": [
        {
          "output_type": "stream",
          "name": "stdout",
          "text": [
            "do something\n"
          ]
        }
      ]
    },
    {
      "cell_type": "code",
      "source": [
        "something = True\n",
        "other_something = True\n",
        "\n",
        "if something:\n",
        "    print(\"do something\")\n",
        "elif other_something:\n",
        "    print(\"do other something\")\n",
        "else:\n",
        "    print(\"do it\")"
      ],
      "metadata": {
        "colab": {
          "base_uri": "https://localhost:8080/"
        },
        "id": "NqK6sxI6bXnD",
        "outputId": "4febae9b-bf11-4e1e-c91d-d86bf8c2236f"
      },
      "execution_count": null,
      "outputs": [
        {
          "output_type": "stream",
          "name": "stdout",
          "text": [
            "do something\n"
          ]
        }
      ]
    },
    {
      "cell_type": "code",
      "source": [
        "something = False\n",
        "other_something1 = False\n",
        "other_something2 = True\n",
        "\n",
        "\n",
        "if something:\n",
        "    print(\"do something\")\n",
        "elif other_something1:\n",
        "    print(\"do other something1\")\n",
        "elif other_something2:\n",
        "    print(\"do other something2\")\n",
        "else:\n",
        "    print(\"do it\")"
      ],
      "metadata": {
        "colab": {
          "base_uri": "https://localhost:8080/"
        },
        "id": "sPneiS_qbf9b",
        "outputId": "623ef6b7-45ca-4e61-af50-d75b7c91339d"
      },
      "execution_count": null,
      "outputs": [
        {
          "output_type": "stream",
          "name": "stdout",
          "text": [
            "do other something2\n"
          ]
        }
      ]
    },
    {
      "cell_type": "code",
      "source": [
        "# [-255 - eps, 255 + eps] -> these values are reserved by the interpreter\n",
        "# they are singletons\n",
        "\n",
        "a = 256\n",
        "b = 256\n",
        "\n",
        "print(a is b)\n",
        "print(id(a) == id(b))"
      ],
      "metadata": {
        "colab": {
          "base_uri": "https://localhost:8080/"
        },
        "id": "6OIACYdzbwQI",
        "outputId": "5e97e22c-2148-4fce-9931-45bf0eacd54b"
      },
      "execution_count": null,
      "outputs": [
        {
          "output_type": "stream",
          "name": "stdout",
          "text": [
            "True\n",
            "True\n"
          ]
        }
      ]
    },
    {
      "cell_type": "code",
      "source": [
        "a = 2560000\n",
        "b = 2560000\n",
        "\n",
        "print(a is b)\n",
        "print(id(a) == id(b))"
      ],
      "metadata": {
        "colab": {
          "base_uri": "https://localhost:8080/"
        },
        "id": "MIH6X9IfceEC",
        "outputId": "802e3ec5-728b-43ac-8a2b-917ba14c27d2"
      },
      "execution_count": null,
      "outputs": [
        {
          "output_type": "stream",
          "name": "stdout",
          "text": [
            "False\n",
            "False\n"
          ]
        }
      ]
    },
    {
      "cell_type": "code",
      "source": [
        "# TODO\n",
        "\n",
        "a = \"a\" * 10\n",
        "b = \"a\" * 10\n",
        "\n",
        "print(a is b)"
      ],
      "metadata": {
        "colab": {
          "base_uri": "https://localhost:8080/"
        },
        "id": "zGYkFBEXc4Fq",
        "outputId": "fe70d838-88a4-4fd1-a0bc-ed090bee83e6"
      },
      "execution_count": null,
      "outputs": [
        {
          "output_type": "stream",
          "name": "stdout",
          "text": [
            "True\n"
          ]
        }
      ]
    },
    {
      "cell_type": "markdown",
      "metadata": {
        "id": "YCaSQdY8LohC"
      },
      "source": [
        "## List\n",
        "\n",
        "(aka `vector` in `cpp`)\n",
        "\n",
        "Lists are `ordered` `mutable` sequences. Lists have no type check.\n",
        "\n",
        "In Python Lists are not linked lists, but dynamic arrays with pre-allocated memory."
      ]
    },
    {
      "cell_type": "code",
      "execution_count": null,
      "metadata": {
        "id": "ioDqwiPPLohC",
        "outputId": "96fce334-1c21-44b4-c7b5-bb74e13a8ca8",
        "colab": {
          "base_uri": "https://localhost:8080/"
        }
      },
      "outputs": [
        {
          "output_type": "stream",
          "name": "stdout",
          "text": [
            "[1, 1.0, 'Hello']\n"
          ]
        }
      ],
      "source": [
        "# Initialization\n",
        "list_var = [1, 1.0, \"Hello\"]\n",
        "print(list_var)"
      ]
    },
    {
      "cell_type": "code",
      "execution_count": null,
      "metadata": {
        "id": "LbTKoWu4LohC",
        "outputId": "c1f1c82d-38f4-4857-b941-da5a0e0aef7e",
        "colab": {
          "base_uri": "https://localhost:8080/"
        }
      },
      "outputs": [
        {
          "output_type": "stream",
          "name": "stdout",
          "text": [
            "list_var: [1, 2, 3, 4]\n",
            "Empty list: []\n",
            "list from string: ['h', 'e', 'l', 'l', 'o', ' ', 'w', 'o', 'r', 'l', 'd']\n"
          ]
        }
      ],
      "source": [
        "list_var = [1, 2, 3, 4]\n",
        "empty_list = [] # most common way, list() may be used\n",
        "empty_list = list()\n",
        "\n",
        "print(f'list_var: {list_var}')\n",
        "print(f'Empty list: {empty_list}')\n",
        "\n",
        "# list from iterable\n",
        "print(f'list from string: {list(\"hello world\")}')"
      ]
    },
    {
      "cell_type": "code",
      "execution_count": null,
      "metadata": {
        "id": "TVKLibOuLohD",
        "outputId": "ba24c0d2-5820-461f-80d3-d7793caf1523",
        "colab": {
          "base_uri": "https://localhost:8080/"
        }
      },
      "outputs": [
        {
          "output_type": "stream",
          "name": "stdout",
          "text": [
            "Sorted list_var: [1, 2, 3, 7, 10]\n",
            "Reversed sorted list_var: [10, 7, 3, 2, 1]\n"
          ]
        }
      ],
      "source": [
        "# Sort\n",
        "# This method sorts the list in place, using only < comparisons between items.\n",
        "list_var = [10, 1, 7, 3, 2]\n",
        "list_var.sort() # O(n log n)\n",
        "print(f\"Sorted list_var: {list_var}\")\n",
        "\n",
        "# Reversed sort\n",
        "list_var = [10, 1, 7, 3, 2]\n",
        "list_var.sort(reverse=True)\n",
        "print(f\"Reversed sorted list_var: {list_var}\")"
      ]
    },
    {
      "cell_type": "code",
      "execution_count": null,
      "metadata": {
        "id": "heE0B3DyLohD",
        "outputId": "51126246-9f63-4a22-8642-1e419d94e03c",
        "colab": {
          "base_uri": "https://localhost:8080/"
        }
      },
      "outputs": [
        {
          "output_type": "stream",
          "name": "stdout",
          "text": [
            "Initial list: [10, 1, 7, 3, 2]\n",
            "Sorted list: [1, 2, 3, 7, 10]\n",
            "Reversed sorted list: [10, 7, 3, 2, 1]\n"
          ]
        }
      ],
      "source": [
        "# sort() method modifies the sequence in place for economy of space when sorting a large sequence.\n",
        "# If we do not want to modify initial sequence we should use sorted()\n",
        "list_var = [10, 1, 7, 3, 2]\n",
        "sorted_list = sorted(list_var)\n",
        "reversed_sorted_list = sorted(list_var, reverse=True)\n",
        "\n",
        "print(f'Initial list: {list_var}')\n",
        "print(f'Sorted list: {sorted_list}')\n",
        "print(f'Reversed sorted list: {reversed_sorted_list}')"
      ]
    },
    {
      "cell_type": "code",
      "source": [
        "list_var = [10, 1, 7.0, 3, 2]\n",
        "\n",
        "sorted(list_var)"
      ],
      "metadata": {
        "colab": {
          "base_uri": "https://localhost:8080/"
        },
        "id": "73O--etlfmP-",
        "outputId": "c8d9b80a-e1a9-4ed5-8463-7112457be5a5"
      },
      "execution_count": null,
      "outputs": [
        {
          "output_type": "execute_result",
          "data": {
            "text/plain": [
              "[1, 2, 3, 7.0, 10]"
            ]
          },
          "metadata": {},
          "execution_count": 51
        }
      ]
    },
    {
      "cell_type": "code",
      "source": [
        "list_var = [10, 1, 7.0, 3, 2, \"12\"]\n",
        "\n",
        "sorted(list_var)"
      ],
      "metadata": {
        "colab": {
          "base_uri": "https://localhost:8080/",
          "height": 208
        },
        "id": "n5zpVKjXfrnu",
        "outputId": "e2eabb41-0aad-40a1-85d5-4f27e664339b"
      },
      "execution_count": null,
      "outputs": [
        {
          "output_type": "error",
          "ename": "TypeError",
          "evalue": "ignored",
          "traceback": [
            "\u001b[0;31m---------------------------------------------------------------------------\u001b[0m",
            "\u001b[0;31mTypeError\u001b[0m                                 Traceback (most recent call last)",
            "\u001b[0;32m<ipython-input-54-48bfa25f9e00>\u001b[0m in \u001b[0;36m<cell line: 3>\u001b[0;34m()\u001b[0m\n\u001b[1;32m      1\u001b[0m \u001b[0mlist_var\u001b[0m \u001b[0;34m=\u001b[0m \u001b[0;34m[\u001b[0m\u001b[0;36m10\u001b[0m\u001b[0;34m,\u001b[0m \u001b[0;36m1\u001b[0m\u001b[0;34m,\u001b[0m \u001b[0;36m7.0\u001b[0m\u001b[0;34m,\u001b[0m \u001b[0;36m3\u001b[0m\u001b[0;34m,\u001b[0m \u001b[0;36m2\u001b[0m\u001b[0;34m,\u001b[0m \u001b[0;34m\"12\"\u001b[0m\u001b[0;34m]\u001b[0m\u001b[0;34m\u001b[0m\u001b[0;34m\u001b[0m\u001b[0m\n\u001b[1;32m      2\u001b[0m \u001b[0;34m\u001b[0m\u001b[0m\n\u001b[0;32m----> 3\u001b[0;31m \u001b[0msorted\u001b[0m\u001b[0;34m(\u001b[0m\u001b[0mlist_var\u001b[0m\u001b[0;34m)\u001b[0m\u001b[0;34m\u001b[0m\u001b[0;34m\u001b[0m\u001b[0m\n\u001b[0m",
            "\u001b[0;31mTypeError\u001b[0m: '<' not supported between instances of 'str' and 'int'"
          ]
        }
      ]
    },
    {
      "cell_type": "code",
      "source": [
        "list_var = [\"1\",\"2\",\"10\"]\n",
        "\n",
        "sorted(list_var)"
      ],
      "metadata": {
        "colab": {
          "base_uri": "https://localhost:8080/"
        },
        "id": "OHmuHaXCf_se",
        "outputId": "1fd3feb2-76c0-4c19-d65e-82c0da5e2ef1"
      },
      "execution_count": null,
      "outputs": [
        {
          "output_type": "execute_result",
          "data": {
            "text/plain": [
              "['1', '10', '2']"
            ]
          },
          "metadata": {},
          "execution_count": 56
        }
      ]
    },
    {
      "cell_type": "code",
      "source": [
        "list_var = [10, 1, 7.0, 3, 2, \"12\"]\n",
        "\n",
        "sorted(list_var, key=lambda x: int(x))"
      ],
      "metadata": {
        "colab": {
          "base_uri": "https://localhost:8080/"
        },
        "id": "0urimu2vf53y",
        "outputId": "4dee381d-a3aa-49db-c751-e3fe2274aa7e"
      },
      "execution_count": null,
      "outputs": [
        {
          "output_type": "execute_result",
          "data": {
            "text/plain": [
              "[1, 2, 3, 7.0, 10, '12']"
            ]
          },
          "metadata": {},
          "execution_count": 55
        }
      ]
    },
    {
      "cell_type": "markdown",
      "metadata": {
        "id": "iNUwwLQeLohD"
      },
      "source": [
        "The `list` data type has some more methods.\n",
        "\n",
        "Here are all of the methods of list objects:"
      ]
    },
    {
      "cell_type": "code",
      "execution_count": null,
      "metadata": {
        "id": "KtNqbtMPLohE",
        "outputId": "d829ae0e-3d90-4163-d471-e5efdd52d917",
        "colab": {
          "base_uri": "https://localhost:8080/"
        }
      },
      "outputs": [
        {
          "output_type": "stream",
          "name": "stdout",
          "text": [
            "list_var: [1]\n"
          ]
        }
      ],
      "source": [
        "# list.append(x)\n",
        "# Add an item to the end of the list\n",
        "list_var = []\n",
        "list_var.append(1) # O(1), but not really\n",
        "print(f'list_var: {list_var}')"
      ]
    },
    {
      "cell_type": "code",
      "execution_count": null,
      "metadata": {
        "id": "xzdQsW5vLohE",
        "outputId": "532faa0e-9c6e-4e45-83a1-f95915f8cc1d",
        "colab": {
          "base_uri": "https://localhost:8080/"
        }
      },
      "outputs": [
        {
          "output_type": "stream",
          "name": "stdout",
          "text": [
            "list_var: [1, 2, 3]\n"
          ]
        }
      ],
      "source": [
        "# list.extend(iterable)\n",
        "# Extend the list by appending all the items from the iterable\n",
        "list_var = [1]\n",
        "list_var.extend([2, 3]) # O(m), m - size of concat list, but sometimes it can be n + m\n",
        "print(f'list_var: {list_var}')"
      ]
    },
    {
      "cell_type": "code",
      "execution_count": null,
      "metadata": {
        "id": "S_WxrWGWLohE",
        "outputId": "d1a95ae7-9f3d-4c85-f3fd-2ab25b553871",
        "colab": {
          "base_uri": "https://localhost:8080/"
        }
      },
      "outputs": [
        {
          "output_type": "stream",
          "name": "stdout",
          "text": [
            "list_var: [42, 1, 2, 3]\n",
            "list_var: [42, 1, 2, 3, 42]\n"
          ]
        }
      ],
      "source": [
        "# list.insert(i, x)\n",
        "# Insert an item at a given position.\n",
        "# The first argument is the index of the element before which to insert,\n",
        "# so a.insert(0, x) inserts at the front of the list,\n",
        "# and a.insert(len(a), x) is equivalent to a.append(x).\n",
        "list_var = [1, 2, 3]\n",
        "list_var.insert(0, 42) # O(n)\n",
        "print(f'list_var: {list_var}')\n",
        "\n",
        "# if i > len(list_var) item will be added in the end of list.\n",
        "list_var.insert(10, 42)\n",
        "print(f'list_var: {list_var}')"
      ]
    },
    {
      "cell_type": "code",
      "execution_count": null,
      "metadata": {
        "id": "FJ4vKy5YLohF",
        "outputId": "a8e6bd58-0a38-489c-dc1b-38b5ec447466",
        "colab": {
          "base_uri": "https://localhost:8080/"
        }
      },
      "outputs": [
        {
          "output_type": "stream",
          "name": "stdout",
          "text": [
            "list_var: [10, 12, 1]\n",
            "list_var: [10, 12]\n",
            "List contains no 1\n"
          ]
        }
      ],
      "source": [
        "# list.remove(x)\n",
        "# Remove the first item from the list whose value is equal to x.\n",
        "# It raises a ValueError if there is no such item.\n",
        "list_var = [1, 10, 12, 1]\n",
        "list_var.remove(1) # O(n)\n",
        "print(f'list_var: {list_var}')\n",
        "\n",
        "# Let's remove a few more 1 objects\n",
        "list_var.remove(1)\n",
        "print(f'list_var: {list_var}')\n",
        "\n",
        "try:\n",
        "    list_var.remove(1)\n",
        "except ValueError:\n",
        "    print(\"List contains no 1\")"
      ]
    },
    {
      "cell_type": "code",
      "execution_count": null,
      "metadata": {
        "id": "-bjJcEk3LohF",
        "outputId": "5f610432-29f1-4fb2-c752-a88f41148460",
        "colab": {
          "base_uri": "https://localhost:8080/"
        }
      },
      "outputs": [
        {
          "output_type": "stream",
          "name": "stdout",
          "text": [
            "list_var: [1, 10, 12]\n",
            "last_item: 1\n",
            "list_var: [1, 10]\n",
            "i_elem: 12\n",
            "Got exception: IndexError('pop index out of range')\n"
          ]
        }
      ],
      "source": [
        "# list.pop(i)\n",
        "# Remove the item at the given position in the list, and return it.\n",
        "# If no index is specified, a.pop() removes and returns the last item in the list.\n",
        "list_var = [1, 10, 12, 1]\n",
        "last_item = list_var.pop() # O(1), but not really\n",
        "print(f'list_var: {list_var}')\n",
        "print(f'last_item: {last_item}')\n",
        "\n",
        "# Let's get intermediate element\n",
        "i_elem = list_var.pop(2) # O(n)\n",
        "print(f'list_var: {list_var}')\n",
        "print(f'i_elem: {i_elem}')\n",
        "\n",
        "# If i > len(list_var) we will get IndexError\n",
        "list_var = [1, 10, 12, 1]\n",
        "try:\n",
        "    list_var.pop(42)\n",
        "except IndexError as e:\n",
        "    print(f'Got exception: {e!r}')"
      ]
    },
    {
      "cell_type": "code",
      "execution_count": null,
      "metadata": {
        "id": "iQK9BRj2LohF",
        "outputId": "e691ba6f-4150-484b-a1c6-6be7c5aed728",
        "colab": {
          "base_uri": "https://localhost:8080/"
        }
      },
      "outputs": [
        {
          "output_type": "stream",
          "name": "stdout",
          "text": [
            "list_var: []\n"
          ]
        }
      ],
      "source": [
        "# list.clear()\n",
        "# Remove all items from the list.\n",
        "list_var = [1, 10, 12, 1]\n",
        "list_var.clear() # O(n)\n",
        "print(f'list_var: {list_var}')"
      ]
    },
    {
      "cell_type": "code",
      "execution_count": null,
      "metadata": {
        "id": "mHpKJUnMLohG",
        "outputId": "b52e2221-5197-4acc-8533-abd76097a241",
        "colab": {
          "base_uri": "https://localhost:8080/"
        }
      },
      "outputs": [
        {
          "output_type": "stream",
          "name": "stdout",
          "text": [
            "Index of 1: 0\n",
            "Index of 1: 1\n",
            "No such item\n"
          ]
        }
      ],
      "source": [
        "# list.index(x[, start[, end]])\n",
        "# Return zero-based index in the list of the first item whose value is equal to x.\n",
        "# Raises a ValueError if there is no such item.\n",
        "\n",
        "# The optional arguments start and end are interpreted as in the slice notation and are used\n",
        "# to limit the search to a particular subsequence of the list.\n",
        "\n",
        "# The returned index is computed relative to the beginning of the full sequence rather than the start argument.\n",
        "list_var = [1, 1, 2, 2, 3, 4]\n",
        "idx = list_var.index(1)\n",
        "print(f'Index of 1: {idx}')\n",
        "\n",
        "# start=1\n",
        "idx = list_var.index(1, 1)\n",
        "print(f'Index of 1: {idx}')\n",
        "\n",
        "try:\n",
        "    # start=0, end=3\n",
        "    idx = list_var.index(3, 0, 4)\n",
        "except ValueError:\n",
        "    print(f'No such item')"
      ]
    },
    {
      "cell_type": "code",
      "execution_count": null,
      "metadata": {
        "id": "mwuFCb5xLohG",
        "outputId": "e0c2be7e-305e-45ff-af6c-355df4de0592",
        "colab": {
          "base_uri": "https://localhost:8080/"
        }
      },
      "outputs": [
        {
          "output_type": "stream",
          "name": "stdout",
          "text": [
            "Count of 1: 2\n"
          ]
        }
      ],
      "source": [
        "# list.count(x)\n",
        "# Return the number of times x appears in the list.\n",
        "\n",
        "list_var = [1, 1, 2, 2, 3, 4]\n",
        "count = list_var.count(1) # O(n)\n",
        "print(f'Count of 1: {count}')"
      ]
    },
    {
      "cell_type": "code",
      "execution_count": null,
      "metadata": {
        "id": "zkXvflOpLohH",
        "outputId": "565109bb-cdf2-4298-b071-a4c61ffdc876",
        "colab": {
          "base_uri": "https://localhost:8080/"
        }
      },
      "outputs": [
        {
          "output_type": "stream",
          "name": "stdout",
          "text": [
            "list_var: [4, 3, 2, 2, 1, 1]\n"
          ]
        }
      ],
      "source": [
        "# list.reverse()\n",
        "# Reverse the elements of the list in place.\n",
        "list_var = [1, 1, 2, 2, 3, 4]\n",
        "list_var.reverse() # O(n)\n",
        "\n",
        "print(f'list_var: {list_var}')"
      ]
    },
    {
      "cell_type": "code",
      "source": [
        "list_var_1 = [1,2,3]\n",
        "\n",
        "list_var_1[0] = 42\n",
        "\n",
        "print(list_var_1)"
      ],
      "metadata": {
        "colab": {
          "base_uri": "https://localhost:8080/"
        },
        "id": "mRIdU7wWiOx9",
        "outputId": "7a201f3d-cb66-4618-b68a-70027f3e6243"
      },
      "execution_count": null,
      "outputs": [
        {
          "output_type": "stream",
          "name": "stdout",
          "text": [
            "[42, 2, 3]\n"
          ]
        }
      ]
    },
    {
      "cell_type": "code",
      "source": [
        "list_var_1 = [1,2,3]\n",
        "list_var_2 = list_var_1\n",
        "\n",
        "list_var_1[0] = 42\n",
        "\n",
        "print(list_var_1)\n",
        "print(list_var_2)\n",
        "print(list_var_1 is list_var_2)"
      ],
      "metadata": {
        "colab": {
          "base_uri": "https://localhost:8080/"
        },
        "id": "ac0Jh_SoiDCD",
        "outputId": "eee3426c-1aab-4479-a19c-18edf37d4382"
      },
      "execution_count": null,
      "outputs": [
        {
          "output_type": "stream",
          "name": "stdout",
          "text": [
            "[42, 2, 3]\n",
            "[42, 2, 3]\n",
            "True\n"
          ]
        }
      ]
    },
    {
      "cell_type": "code",
      "execution_count": null,
      "metadata": {
        "id": "uH47Ce95LohH",
        "outputId": "909ce5b5-b902-43c2-8c16-7354867b6cce",
        "colab": {
          "base_uri": "https://localhost:8080/"
        }
      },
      "outputs": [
        {
          "output_type": "stream",
          "name": "stdout",
          "text": [
            "list_var: [1, 1, 2, 2, 3, 4]\n",
            "list_var_copy: [1, 1, 2, 2, 3, 4]\n"
          ]
        }
      ],
      "source": [
        "# list.copy()\n",
        "# Return a shallow copy of the list. Equivalent to a[:]\n",
        "list_var = [1, 1, 2, 2, 3, 4]\n",
        "list_var_copy = list_var.copy() # O(n)\n",
        "# list_var_copy = list_var[:] # O(n)\n",
        "\n",
        "\n",
        "\n",
        "print(f'list_var: {list_var}')\n",
        "print(f'list_var_copy: {list_var_copy}')"
      ]
    },
    {
      "cell_type": "code",
      "source": [
        "list_var[0] = 42\n",
        "\n",
        "print(list_var)\n",
        "print(list_var_copy)"
      ],
      "metadata": {
        "colab": {
          "base_uri": "https://localhost:8080/"
        },
        "id": "PTc7mDt7is1x",
        "outputId": "9606f3cf-ea5a-497b-b3cc-0516fe46a162"
      },
      "execution_count": null,
      "outputs": [
        {
          "output_type": "stream",
          "name": "stdout",
          "text": [
            "[42, 1, 2, 2, 3, 4]\n",
            "[1, 1, 2, 2, 3, 4]\n"
          ]
        }
      ]
    },
    {
      "cell_type": "code",
      "execution_count": null,
      "metadata": {
        "id": "IbukDjzRLohH",
        "outputId": "c154538a-7722-4961-b105-532b251ff4e1"
      },
      "outputs": [
        {
          "name": "stdout",
          "output_type": "stream",
          "text": [
            "list_var: [[1], [1], [1, 2, 3]]\n",
            "list_var_copy: [[1], [1], [1, 2, 3]]\n"
          ]
        }
      ],
      "source": [
        "# Note: You may ask what is `shallow copy`.\n",
        "# Let's look at example\n",
        "list_var = [[], [1], [1, 2, 3]]\n",
        "list_var_copy = list_var.copy()\n",
        "\n",
        "list_var[0].append(1)\n",
        "\n",
        "print(f'list_var: {list_var}')\n",
        "print(f'list_var_copy: {list_var_copy}')"
      ]
    },
    {
      "cell_type": "code",
      "source": [
        "a = [0]\n",
        "b = a\n",
        "\n",
        "a[0] = 1\n",
        "print(a)\n",
        "print(b)"
      ],
      "metadata": {
        "colab": {
          "base_uri": "https://localhost:8080/"
        },
        "id": "HMkfg5a7i79h",
        "outputId": "e1502e2b-cde7-4432-cf9d-46aef917f48c"
      },
      "execution_count": null,
      "outputs": [
        {
          "output_type": "stream",
          "name": "stdout",
          "text": [
            "[1]\n",
            "[1]\n"
          ]
        }
      ]
    },
    {
      "cell_type": "code",
      "source": [
        "a = [0]\n",
        "b = a.copy()\n",
        "\n",
        "a[0] = 1\n",
        "print(a)\n",
        "print(b)"
      ],
      "metadata": {
        "colab": {
          "base_uri": "https://localhost:8080/"
        },
        "id": "ZJk7J-_rjB8m",
        "outputId": "b3240201-9259-4f14-dadc-b1c4747dd851"
      },
      "execution_count": null,
      "outputs": [
        {
          "output_type": "stream",
          "name": "stdout",
          "text": [
            "[1]\n",
            "[0]\n"
          ]
        }
      ]
    },
    {
      "cell_type": "code",
      "source": [
        "a = [[0]]\n",
        "b = a.copy()\n",
        "\n",
        "a[0][0] = 1\n",
        "print(a)\n",
        "print(b)\n",
        "print(f\"{id(a)=}, {id(b)=}\")\n",
        "print(f\"{id(a[0])=}, {id(b[0])=}\")"
      ],
      "metadata": {
        "colab": {
          "base_uri": "https://localhost:8080/"
        },
        "id": "GV6fZRL5jDYI",
        "outputId": "e6f936b0-73d9-4fa0-e009-a73ba8c6352d"
      },
      "execution_count": null,
      "outputs": [
        {
          "output_type": "stream",
          "name": "stdout",
          "text": [
            "[[1]]\n",
            "[[1]]\n",
            "id(a)=134238048612288, id(b)=134238046966016\n",
            "id(a[0])=134238049278528, id(b[0])=134238049278528\n"
          ]
        }
      ]
    },
    {
      "cell_type": "markdown",
      "metadata": {
        "id": "JBEO3eFrLohH"
      },
      "source": [
        "You can see that `list_var_copy` is new object collection populated with `references` to the child objects found in the original.\n",
        "\n",
        "In essence, a `shallow copy` is only one level deep.\n",
        "The copying process does not recurse and therefore won’t create copies of the child objects themselves.\n",
        "\n",
        "To avoid such behaviour you should use `deepcopy`"
      ]
    },
    {
      "cell_type": "code",
      "execution_count": null,
      "metadata": {
        "id": "yU07aQ0NLohH",
        "outputId": "b95e75e8-fca6-4460-9353-55691d6b37b7",
        "colab": {
          "base_uri": "https://localhost:8080/"
        }
      },
      "outputs": [
        {
          "output_type": "stream",
          "name": "stdout",
          "text": [
            "list_var: [[1], [1], [1, 2, 3]]\n",
            "list_var_copy: [[], [1], [1, 2, 3]]\n"
          ]
        }
      ],
      "source": [
        "from copy import deepcopy\n",
        "\n",
        "list_var = [[], [1], [1, 2, 3]]\n",
        "list_var_copy = deepcopy(list_var)\n",
        "\n",
        "list_var[0].append(1)\n",
        "\n",
        "print(f'list_var: {list_var}')\n",
        "print(f'list_var_copy: {list_var_copy}')"
      ]
    },
    {
      "cell_type": "code",
      "source": [
        "a = [[0]]\n",
        "b = deepcopy(a)\n",
        "\n",
        "a[0][0] = 1\n",
        "print(a)\n",
        "print(b)\n",
        "print(f\"{id(a)=}, {id(b)=}\")\n",
        "print(f\"{id(a[0])=}, {id(b[0])=}\")"
      ],
      "metadata": {
        "colab": {
          "base_uri": "https://localhost:8080/"
        },
        "id": "QM3xxgC0jmXi",
        "outputId": "6073a8b2-176b-4eaa-f897-570a9b5fa6b3"
      },
      "execution_count": null,
      "outputs": [
        {
          "output_type": "stream",
          "name": "stdout",
          "text": [
            "[[1]]\n",
            "[[0]]\n",
            "id(a)=134238048899136, id(b)=134238048602368\n",
            "id(a[0])=134238048330240, id(b[0])=134238046975744\n"
          ]
        }
      ]
    },
    {
      "cell_type": "code",
      "execution_count": null,
      "metadata": {
        "id": "cxkUAGi3LohH",
        "outputId": "a7f45227-0c06-423c-de26-6611e728b990",
        "colab": {
          "base_uri": "https://localhost:8080/"
        }
      },
      "outputs": [
        {
          "output_type": "stream",
          "name": "stdout",
          "text": [
            "True\n"
          ]
        }
      ],
      "source": [
        "# Compare two lists\n",
        "print([1, 2, 3] == [1, 2, 3]) # O(n)"
      ]
    },
    {
      "cell_type": "code",
      "execution_count": null,
      "metadata": {
        "id": "-KSkTL0cLohI",
        "outputId": "4852f4f3-99b9-4a8c-9800-396ec2f95664",
        "colab": {
          "base_uri": "https://localhost:8080/"
        }
      },
      "outputs": [
        {
          "output_type": "stream",
          "name": "stdout",
          "text": [
            "True\n"
          ]
        }
      ],
      "source": [
        "# Check containment\n",
        "print(1 in [1, 2, 3, 4]) # O(n)"
      ]
    },
    {
      "cell_type": "code",
      "execution_count": null,
      "metadata": {
        "id": "QtIexXr3LohI",
        "outputId": "fc5f4bbe-1979-4015-f658-d7bc75089191",
        "colab": {
          "base_uri": "https://localhost:8080/"
        }
      },
      "outputs": [
        {
          "output_type": "stream",
          "name": "stdout",
          "text": [
            "First element: 1\n",
            "list_var: [10, 2, 3, 4]\n"
          ]
        }
      ],
      "source": [
        "# Element access\n",
        "list_var = [1, 2, 3, 4]\n",
        "# Get Item\n",
        "print(f'First element: {list_var[0]}') # O(1)\n",
        "# Set element\n",
        "list_var[0] = 10 # O(1)\n",
        "print(f'list_var: {list_var}')"
      ]
    },
    {
      "cell_type": "code",
      "execution_count": null,
      "metadata": {
        "id": "voqc0la1LohI",
        "outputId": "c1890b2d-a96b-44b6-bde2-2b051d740985",
        "colab": {
          "base_uri": "https://localhost:8080/"
        }
      },
      "outputs": [
        {
          "output_type": "stream",
          "name": "stdout",
          "text": [
            "list_var: [0, 0, 0, 0, 0, 0, 0, 0, 0, 0]\n"
          ]
        }
      ],
      "source": [
        "# Multiply list\n",
        "list_var = [0]\n",
        "list_var = list_var * 10 # Or simply list_var *= 10\n",
        "print(f'list_var: {list_var}')"
      ]
    },
    {
      "cell_type": "code",
      "execution_count": null,
      "metadata": {
        "id": "vt0PpP9tLohI",
        "outputId": "f7536837-292d-40ef-afe6-fba959d30112",
        "colab": {
          "base_uri": "https://localhost:8080/"
        }
      },
      "outputs": [
        {
          "output_type": "stream",
          "name": "stdout",
          "text": [
            "list_var: [[1, 42], [1, 42], [1, 42], [1, 42], [1, 42], [1, 42], [1, 42], [1, 42], [1, 42], [1, 42]]\n"
          ]
        }
      ],
      "source": [
        "# Mutable types problem\n",
        "list_var = [[1]]\n",
        "\n",
        "# You don't create 10 separate lists here, you create 10 references to the same list\n",
        "list_var = list_var * 10\n",
        "list_var[0].append(42)\n",
        "print(f'list_var: {list_var}')"
      ]
    },
    {
      "cell_type": "code",
      "execution_count": null,
      "metadata": {
        "id": "VWQaz52jLohJ",
        "outputId": "96c8e353-7cda-4611-b647-b8ab115a6660",
        "colab": {
          "base_uri": "https://localhost:8080/"
        }
      },
      "outputs": [
        {
          "output_type": "stream",
          "name": "stdout",
          "text": [
            "list_var_1 + list_var_2 = [1, 2, 3, 4, 3, 4, 5, 6]\n"
          ]
        }
      ],
      "source": [
        "# Addition\n",
        "list_var_1 = [1, 2, 3, 4]\n",
        "list_var_2 = [3, 4, 5, 6]\n",
        "print(f'list_var_1 + list_var_2 = {list_var_1 + list_var_2}')"
      ]
    },
    {
      "cell_type": "markdown",
      "metadata": {
        "id": "3RV7RONgLohJ"
      },
      "source": [
        "## Slice\n",
        "\n",
        "slice(start, stop, step)"
      ]
    },
    {
      "cell_type": "code",
      "execution_count": null,
      "metadata": {
        "id": "hB9lVR64LohJ"
      },
      "outputs": [],
      "source": [
        "lst = [0, 1, 2, 3, 4, 5]"
      ]
    },
    {
      "cell_type": "code",
      "execution_count": null,
      "metadata": {
        "id": "QRcKfsn8LohJ",
        "outputId": "5b511469-eda7-4b43-8b32-41785c820b50",
        "colab": {
          "base_uri": "https://localhost:8080/"
        }
      },
      "outputs": [
        {
          "output_type": "stream",
          "name": "stdout",
          "text": [
            "Slice \"0:6\" [0, 1, 2, 3, 4, 5]\n",
            "Slice \"0:\"  [0, 1, 2, 3, 4, 5]\n",
            "Slice \"2:\"  [2, 3, 4, 5]\n",
            "Slice \"-2:\" [4, 5]\n",
            "Slice \":-1\" [0, 1, 2, 3, 4]\n"
          ]
        }
      ],
      "source": [
        "# Slices example\n",
        "# start=0:end=len(list):step=1\n",
        "print(f'Slice \"0:6\" {lst[0:6]}')\n",
        "print(f'Slice \"0:\"  {lst[0:]}')\n",
        "print(f'Slice \"2:\"  {lst[2:]}')\n",
        "# negative indices\n",
        "print(f'Slice \"-2:\" {lst[-2:]}')\n",
        "print(f'Slice \":-1\" {lst[:-1]}')"
      ]
    },
    {
      "cell_type": "code",
      "execution_count": null,
      "metadata": {
        "id": "LDifkIBKLohJ",
        "outputId": "ce91230d-adbf-4d1e-87c4-8a5101c7f966",
        "colab": {
          "base_uri": "https://localhost:8080/"
        }
      },
      "outputs": [
        {
          "output_type": "stream",
          "name": "stdout",
          "text": [
            "Slice \"::1\"  [0, 1, 2, 3, 4, 5]\n",
            "Slice \"::2\"  [0, 2, 4]\n",
            "Slice \"::-1\" [5, 4, 3, 2, 1, 0]\n"
          ]
        }
      ],
      "source": [
        "# Extended slices\n",
        "print(f'Slice \"::1\"  {lst[::1]}')\n",
        "print(f'Slice \"::2\"  {lst[::2]}')\n",
        "print(f'Slice \"::-1\" {lst[::-1]}') # step = -1"
      ]
    },
    {
      "cell_type": "code",
      "source": [
        "print(f\"Full Slice: {lst[:]}\")"
      ],
      "metadata": {
        "colab": {
          "base_uri": "https://localhost:8080/"
        },
        "id": "6M-ZZYrFki3m",
        "outputId": "4e79c617-dd57-4516-f4be-a7cd080f16e8"
      },
      "execution_count": null,
      "outputs": [
        {
          "output_type": "stream",
          "name": "stdout",
          "text": [
            "Full Slice: [0, 1, 2, 3, 4, 5]\n"
          ]
        }
      ]
    },
    {
      "cell_type": "code",
      "execution_count": null,
      "metadata": {
        "id": "YDaC-Oo8LohK",
        "outputId": "97b5e4fd-055b-4e01-cacd-78c17695fab3",
        "colab": {
          "base_uri": "https://localhost:8080/"
        }
      },
      "outputs": [
        {
          "output_type": "stream",
          "name": "stdout",
          "text": [
            "Original list: [[], 1, 2, 3]\n",
            "List copy: [[], 10, 2, 3]\n",
            "append to the first element\n",
            "Original list: [[42], 1, 2, 3]\n",
            "List copy: [[42], 10, 2, 3]\n"
          ]
        }
      ],
      "source": [
        "# Shallow copy\n",
        "lst = [[], 1, 2, 3]\n",
        "lst_copy = lst[:]\n",
        "lst_copy[1] = 10\n",
        "\n",
        "print(f'Original list: {lst}')\n",
        "print(f'List copy: {lst_copy}')\n",
        "print('append to the first element')\n",
        "\n",
        "lst[0].append(42)\n",
        "print(f'Original list: {lst}')\n",
        "print(f'List copy: {lst_copy}')"
      ]
    },
    {
      "cell_type": "code",
      "execution_count": null,
      "metadata": {
        "id": "af7q-_ueLohK",
        "outputId": "a1d9c8a1-38f9-4612-cc03-92fe5e4f7a7e",
        "colab": {
          "base_uri": "https://localhost:8080/"
        }
      },
      "outputs": [
        {
          "output_type": "execute_result",
          "data": {
            "text/plain": [
              "[0, 3, 4, 5]"
            ]
          },
          "metadata": {},
          "execution_count": 99
        }
      ],
      "source": [
        "# Deleting slice\n",
        "lst = [0, \"good\", \"bad\", \"ugly\", 3, 4, 5]\n",
        "del lst[1:4]\n",
        "lst"
      ]
    },
    {
      "cell_type": "code",
      "execution_count": null,
      "metadata": {
        "id": "ZIFhkZ8QLohK",
        "outputId": "b8f5467e-43cf-4fa8-a237-13c5b4cebeab",
        "colab": {
          "base_uri": "https://localhost:8080/"
        }
      },
      "outputs": [
        {
          "output_type": "execute_result",
          "data": {
            "text/plain": [
              "0"
            ]
          },
          "metadata": {},
          "execution_count": 100
        }
      ],
      "source": [
        "lst.__getitem__(0) # first element -> lst[0]"
      ]
    },
    {
      "cell_type": "code",
      "execution_count": null,
      "metadata": {
        "id": "GUM5u_8PLohK",
        "outputId": "3d7e4474-deee-465a-8b9a-3d2628456576",
        "colab": {
          "base_uri": "https://localhost:8080/"
        }
      },
      "outputs": [
        {
          "output_type": "execute_result",
          "data": {
            "text/plain": [
              "[0, 3, 4, 5]"
            ]
          },
          "metadata": {},
          "execution_count": 102
        }
      ],
      "source": [
        "lst.__getitem__(slice(0, 4)) # slice of elements -> lst[0:4]"
      ]
    },
    {
      "cell_type": "markdown",
      "metadata": {
        "id": "mj9But4CLohL"
      },
      "source": [
        "## Tuple\n",
        "\n",
        "Tuples are `immutable` sequences, typically used to store collections of heterogeneous data (such as the 2-tuples produced by the `enumerate()` built-in).\n",
        "Tuples are also used for cases where an immutable sequence of homogeneous data is needed (such as allowing storage in a set or dict instance).\n",
        "\n",
        "Tuples support all operations that do not mutate the data structure (and they\n",
        "have the same complexity classes)"
      ]
    },
    {
      "cell_type": "code",
      "execution_count": null,
      "metadata": {
        "id": "_7Nn3onrLohL",
        "outputId": "81ad0ea8-f0a6-4fad-bede-7abeeeb764fe",
        "colab": {
          "base_uri": "https://localhost:8080/"
        }
      },
      "outputs": [
        {
          "output_type": "stream",
          "name": "stdout",
          "text": [
            "Type of tuple: <class 'tuple'>\n",
            "tuple_var is instance of tuple: True\n"
          ]
        }
      ],
      "source": [
        "tuple_var = 1, 'some_string'\n",
        "print(f'Type of tuple: {type(tuple_var)}')\n",
        "print(f'tuple_var is instance of tuple: {isinstance(tuple_var, tuple)}')"
      ]
    },
    {
      "cell_type": "code",
      "source": [
        "# why do you need tuple?\n",
        "\n",
        "a = (1,2,3,4,5)\n",
        "b = [1,2,3,4,5]\n",
        "\n",
        "# 1. it's memory efficient\n",
        "import sys\n",
        "\n",
        "print(f\"Tuple size: {sys.getsizeof(a)}\")\n",
        "print(f\"List size: {sys.getsizeof(b)}\")\n",
        "\n",
        "# 2. it's time efficient\n",
        "# a[0] is faster then b[0]"
      ],
      "metadata": {
        "colab": {
          "base_uri": "https://localhost:8080/"
        },
        "id": "4wPWOT_9lOLY",
        "outputId": "d72b9506-123a-4aa4-ba06-df1782a3216a"
      },
      "execution_count": null,
      "outputs": [
        {
          "output_type": "stream",
          "name": "stdout",
          "text": [
            "Tuple size: 80\n",
            "List size: 104\n"
          ]
        }
      ]
    },
    {
      "cell_type": "code",
      "source": [
        "# 3. tuple has hash\n",
        "print(hash(a))\n",
        "print(hash(b))"
      ],
      "metadata": {
        "colab": {
          "base_uri": "https://localhost:8080/",
          "height": 225
        },
        "id": "GCYRlGtil0q-",
        "outputId": "bd81110d-8107-41e7-b1d1-b579adb661be"
      },
      "execution_count": null,
      "outputs": [
        {
          "output_type": "stream",
          "name": "stdout",
          "text": [
            "-5659871693760987716\n"
          ]
        },
        {
          "output_type": "error",
          "ename": "TypeError",
          "evalue": "ignored",
          "traceback": [
            "\u001b[0;31m---------------------------------------------------------------------------\u001b[0m",
            "\u001b[0;31mTypeError\u001b[0m                                 Traceback (most recent call last)",
            "\u001b[0;32m<ipython-input-108-6bcd29e38468>\u001b[0m in \u001b[0;36m<cell line: 3>\u001b[0;34m()\u001b[0m\n\u001b[1;32m      1\u001b[0m \u001b[0;31m# 3. tuple has hash\u001b[0m\u001b[0;34m\u001b[0m\u001b[0;34m\u001b[0m\u001b[0m\n\u001b[1;32m      2\u001b[0m \u001b[0mprint\u001b[0m\u001b[0;34m(\u001b[0m\u001b[0mhash\u001b[0m\u001b[0;34m(\u001b[0m\u001b[0ma\u001b[0m\u001b[0;34m)\u001b[0m\u001b[0;34m)\u001b[0m\u001b[0;34m\u001b[0m\u001b[0;34m\u001b[0m\u001b[0m\n\u001b[0;32m----> 3\u001b[0;31m \u001b[0mprint\u001b[0m\u001b[0;34m(\u001b[0m\u001b[0mhash\u001b[0m\u001b[0;34m(\u001b[0m\u001b[0mb\u001b[0m\u001b[0;34m)\u001b[0m\u001b[0;34m)\u001b[0m\u001b[0;34m\u001b[0m\u001b[0;34m\u001b[0m\u001b[0m\n\u001b[0m",
            "\u001b[0;31mTypeError\u001b[0m: unhashable type: 'list'"
          ]
        }
      ]
    },
    {
      "cell_type": "code",
      "execution_count": null,
      "metadata": {
        "id": "OKR3IfuFLohL",
        "colab": {
          "base_uri": "https://localhost:8080/"
        },
        "outputId": "c921dcda-57fc-4c91-a303-8ac0476048cc"
      },
      "outputs": [
        {
          "output_type": "stream",
          "name": "stdout",
          "text": [
            "number=1, string='some_string', tuple_var=(1, 'some_string')\n"
          ]
        }
      ],
      "source": [
        "# Unpacking\n",
        "tuple_var = 1, 'some_string'\n",
        "number, string = tuple_var\n",
        "print(f\"{number=}, {string=}, {tuple_var=}\")"
      ]
    },
    {
      "cell_type": "code",
      "execution_count": null,
      "metadata": {
        "id": "ZDM0y-0oLohL",
        "outputId": "26165995-4a02-4736-ab0e-f276fa734dce",
        "colab": {
          "base_uri": "https://localhost:8080/"
        }
      },
      "outputs": [
        {
          "output_type": "stream",
          "name": "stdout",
          "text": [
            "Check if tuple contains string: True\n"
          ]
        }
      ],
      "source": [
        "# Containment\n",
        "tuple_var = 1, 'some_string', 4, 5\n",
        "print(f'Check if tuple contains string: {\"some_string\" in tuple_var}')"
      ]
    },
    {
      "cell_type": "markdown",
      "metadata": {
        "id": "DD8gAxUbLohL"
      },
      "source": [
        "## Dictionaries\n",
        "\n",
        "A mapping object maps hashable values to arbitrary objects. Mappings are `mutable` objects. There is currently only one standard mapping type, the `dictionary`."
      ]
    },
    {
      "cell_type": "markdown",
      "source": [
        "- Add to dictionary is efficient (\"O(1)\")\n",
        "- Remove from dictionary is efficient (\"O(1)\")\n",
        "- Check if element is present in dictionary is efficient (\"O(1)\")"
      ],
      "metadata": {
        "id": "9HqpN03_mRZW"
      }
    },
    {
      "cell_type": "code",
      "execution_count": null,
      "metadata": {
        "id": "kYxsxmwELohL",
        "outputId": "167b52a7-843f-4c21-f5fa-18dda64ce129",
        "colab": {
          "base_uri": "https://localhost:8080/"
        }
      },
      "outputs": [
        {
          "output_type": "stream",
          "name": "stdout",
          "text": [
            "True\n"
          ]
        }
      ],
      "source": [
        "# Initialization\n",
        "a = dict(one=1, two=2, three=3)\n",
        "b = {'one': 1, 'two': 2, 'three': 3}\n",
        "d = dict([('two', 2), ('one', 1), ('three', 3)])\n",
        "e = dict({'three': 3, 'one': 1, 'two': 2})\n",
        "print(a == b == d == e)"
      ]
    },
    {
      "cell_type": "code",
      "execution_count": null,
      "metadata": {
        "id": "1ESpiY20LohL",
        "outputId": "9e12c855-2d5c-46f1-8f63-966d8f6a0937",
        "colab": {
          "base_uri": "https://localhost:8080/"
        }
      },
      "outputs": [
        {
          "output_type": "stream",
          "name": "stdout",
          "text": [
            "All keys in dictionary: ['one', 'two', 'three']\n"
          ]
        }
      ],
      "source": [
        "# list(d)\n",
        "# Return a list of all the keys used in the dictionary d.\n",
        "dict_var = {'one': 1, 'two': 2, 'three': 3}\n",
        "print(f'All keys in dictionary: {list(dict_var)}')"
      ]
    },
    {
      "cell_type": "code",
      "execution_count": null,
      "metadata": {
        "id": "Jxo5caKyLohM",
        "outputId": "eae744c1-2630-44ad-db1a-d238295fc956",
        "colab": {
          "base_uri": "https://localhost:8080/"
        }
      },
      "outputs": [
        {
          "output_type": "stream",
          "name": "stdout",
          "text": [
            "Dictionary length: 3\n"
          ]
        }
      ],
      "source": [
        "# len(d)\n",
        "# Return the number of items in the dictionary d.\n",
        "dict_var = {'one': 1, 'two': 2, 'three': 3}\n",
        "print(f'Dictionary length: {len(dict_var)}') # O(1)"
      ]
    },
    {
      "cell_type": "code",
      "execution_count": null,
      "metadata": {
        "id": "7pdomOvdLohM",
        "outputId": "5bc1948d-8323-48ce-e38e-3e649dfff0a0",
        "colab": {
          "base_uri": "https://localhost:8080/"
        }
      },
      "outputs": [
        {
          "output_type": "stream",
          "name": "stdout",
          "text": [
            "Get item by key \"one\": 1\n",
            "No such key\n"
          ]
        }
      ],
      "source": [
        "# d[key]\n",
        "# Return the item of d with key key. Raises a KeyError if key is not in the map.\n",
        "dict_var = {'one': 1, 'two': 2, 'three': 3}\n",
        "one_item = dict_var[\"one\"] # O(1)\n",
        "print(f'Get item by key \"one\": {one_item}')\n",
        "\n",
        "try:\n",
        "    dict_var[\"four\"]\n",
        "except KeyError:\n",
        "    print('No such key')"
      ]
    },
    {
      "cell_type": "code",
      "execution_count": null,
      "metadata": {
        "id": "NJR21uZvLohM",
        "outputId": "a84a9a99-3f05-4e00-b045-05c3929016aa",
        "colab": {
          "base_uri": "https://localhost:8080/"
        }
      },
      "outputs": [
        {
          "output_type": "stream",
          "name": "stdout",
          "text": [
            "dict_var: {'one': 1, 'two': 2, 'three': 3, 'four': 4}\n"
          ]
        }
      ],
      "source": [
        "# d[key] = value\n",
        "# Set d[key] to value.\n",
        "dict_var = {'one': 1, 'two': 2, 'three': 3}\n",
        "dict_var[\"four\"] = 4 # O(1)\n",
        "print(f'dict_var: {dict_var}')"
      ]
    },
    {
      "cell_type": "code",
      "execution_count": null,
      "metadata": {
        "id": "H-PsVpp3LohM",
        "outputId": "b79c8e68-7d5f-4141-a204-dbad0ad32e76",
        "colab": {
          "base_uri": "https://localhost:8080/"
        }
      },
      "outputs": [
        {
          "output_type": "stream",
          "name": "stdout",
          "text": [
            "dict_var: {'two': 2, 'three': 3}\n",
            "No such key\n"
          ]
        }
      ],
      "source": [
        "# del d[key]\n",
        "# Remove d[key] from d. Raises a KeyError if key is not in the map.\n",
        "dict_var = {'one': 1, 'two': 2, 'three': 3}\n",
        "del dict_var['one'] # O(1)\n",
        "print(f'dict_var: {dict_var}')\n",
        "\n",
        "try:\n",
        "    del dict_var[\"four\"]\n",
        "except KeyError:\n",
        "    print('No such key')\n"
      ]
    },
    {
      "cell_type": "code",
      "execution_count": null,
      "metadata": {
        "id": "Cj9hWltGLohN",
        "outputId": "76a0411a-f6f8-4735-f3f2-c25c8bfcba7f",
        "colab": {
          "base_uri": "https://localhost:8080/"
        }
      },
      "outputs": [
        {
          "output_type": "stream",
          "name": "stdout",
          "text": [
            "Key \"one\" is in dict_value: True\n"
          ]
        }
      ],
      "source": [
        "# key in d\n",
        "# Return True if d has a key key, else False.\n",
        "dict_var = {'one': 1, 'two': 2, 'three': 3}\n",
        "print(f'Key \"one\" is in dict_value: {\"one\" in dict_var}')\n"
      ]
    },
    {
      "cell_type": "code",
      "execution_count": null,
      "metadata": {
        "id": "5cKUr9tMLohN",
        "outputId": "6018dedc-f4fb-45c6-da2e-0ba829c162da",
        "colab": {
          "base_uri": "https://localhost:8080/"
        }
      },
      "outputs": [
        {
          "output_type": "stream",
          "name": "stdout",
          "text": [
            "Item by key \"one\": 1\n",
            "Item by not existent key \"four\": None\n",
            "Item by not existent key \"four\" with default: 4\n"
          ]
        }
      ],
      "source": [
        "# get(key[, default])\n",
        "# Return the value for key if key is in the dictionary, else default.\n",
        "# If default is not given, it defaults to None, so that this method never raises a KeyError.\n",
        "dict_var = {'one': 1, 'two': 2, 'three': 3}\n",
        "\n",
        "one_item = dict_var.get('one') # O(1)\n",
        "not_exist_item = dict_var.get('four') # O(1)\n",
        "not_exist_item_default = dict_var.get('four', 4) # O(1)\n",
        "\n",
        "print(f'Item by key \"one\": {one_item}')\n",
        "print(f'Item by not existent key \"four\": {not_exist_item}')\n",
        "print(f'Item by not existent key \"four\" with default: {not_exist_item_default}')"
      ]
    },
    {
      "cell_type": "code",
      "execution_count": null,
      "metadata": {
        "id": "OhRMt580LohN",
        "outputId": "cce7625a-ac06-4719-ba4b-fcc706a5ccf2",
        "colab": {
          "base_uri": "https://localhost:8080/"
        }
      },
      "outputs": [
        {
          "output_type": "stream",
          "name": "stdout",
          "text": [
            "dict_var items: dict_items([('one', 1), ('two', 2), ('three', 3)])\n",
            "dict_var items: dict_items([('one', 1), ('two', 2), ('three', 3), ('four', 4)])\n"
          ]
        }
      ],
      "source": [
        "# items()\n",
        "# Return a new view of the dictionary’s items ((key, value) tuples).\n",
        "dict_var = {'one': 1, 'two': 2, 'three': 3}\n",
        "dict_items = dict_var.items()\n",
        "print(f'dict_var items: {dict_items}')\n",
        "\n",
        "# if we mutate dictionary dict_items will change accordingly\n",
        "dict_var[\"four\"] = 4\n",
        "print(f'dict_var items: {dict_items}')"
      ]
    },
    {
      "cell_type": "code",
      "execution_count": null,
      "metadata": {
        "id": "RrXwmwCyLohN",
        "outputId": "10e90105-d3ec-4caf-9ce1-49a643e0b5f3",
        "colab": {
          "base_uri": "https://localhost:8080/"
        }
      },
      "outputs": [
        {
          "output_type": "stream",
          "name": "stdout",
          "text": [
            "dict_var keys: dict_keys(['one', 'two', 'three'])\n",
            "dict_var keys: dict_keys(['one', 'two', 'three', 'four'])\n"
          ]
        }
      ],
      "source": [
        "# keys()\n",
        "# Return a new view of the dictionary’s keys.\n",
        "dict_var = {'one': 1, 'two': 2, 'three': 3}\n",
        "dict_keys = dict_var.keys()\n",
        "print(f'dict_var keys: {dict_keys}')\n",
        "\n",
        "# if we mutate dictionary dict_keys will change accordingly\n",
        "dict_var[\"four\"] = 4\n",
        "print(f'dict_var keys: {dict_keys}')"
      ]
    },
    {
      "cell_type": "code",
      "source": [
        "# values()\n",
        "# Return a new view of the dictionary’s values.\n",
        "dict_var = {'one': 1, 'two': 2, 'three': 3}\n",
        "dict_values = dict_var.values()\n",
        "print(f'dict_var values: {dict_values}')\n",
        "\n",
        "# if we mutate dictionary dict_values will change accordingly\n",
        "dict_var[\"four\"] = 4\n",
        "print(f'dict_var values: {dict_values}')"
      ],
      "metadata": {
        "colab": {
          "base_uri": "https://localhost:8080/"
        },
        "id": "4x97C-XEnmyc",
        "outputId": "f3cb9173-39e3-41e7-d1bd-c0e7a3cb0a3d"
      },
      "execution_count": null,
      "outputs": [
        {
          "output_type": "stream",
          "name": "stdout",
          "text": [
            "dict_var values: dict_values([1, 2, 3])\n",
            "dict_var values: dict_values([1, 2, 3, 4])\n"
          ]
        }
      ]
    },
    {
      "cell_type": "code",
      "execution_count": null,
      "metadata": {
        "id": "Dv-yk0JtLohN",
        "outputId": "24687bab-343c-4878-9b18-ae0c0e1fde6a",
        "colab": {
          "base_uri": "https://localhost:8080/"
        }
      },
      "outputs": [
        {
          "output_type": "stream",
          "name": "stdout",
          "text": [
            "Popped item by key \"one\": 1\n",
            "Popped item with default by not existent key \"four\": None\n"
          ]
        }
      ],
      "source": [
        "# pop(key[, default])\n",
        "# If key is in the dictionary, remove it and return its value, else return default.\n",
        "# If default is not given and key is not in the dictionary, a KeyError is raised.\n",
        "dict_var = {'one': 1, 'two': 2, 'three': 3}\n",
        "# del dict_var[\"one\"]\n",
        "one_item = dict_var.pop('one') # O(1)\n",
        "print(f'Popped item by key \"one\": {one_item}')\n",
        "\n",
        "non_existent_item = one_item = dict_var.pop('four', None)\n",
        "print(f'Popped item with default by not existent key \"four\": {non_existent_item}')"
      ]
    },
    {
      "cell_type": "code",
      "execution_count": null,
      "metadata": {
        "id": "jHV31_avLohN",
        "outputId": "092c9549-cf3c-4c02-f98f-cf102266bfce",
        "colab": {
          "base_uri": "https://localhost:8080/"
        }
      },
      "outputs": [
        {
          "output_type": "stream",
          "name": "stdout",
          "text": [
            "Updated dict_var: {'one': 1, 'two': 2, 'three': None, 'four': 4}\n"
          ]
        }
      ],
      "source": [
        "# update([other])\n",
        "# Update the dictionary with the key/value pairs from other, overwriting existing keys. Return None.\n",
        "dict_var = {'one': 1, 'two': 2, 'three': 3}\n",
        "dict_var_update = {'three': None, 'four': 4}\n",
        "dict_var.update(dict_var_update) # O(k) - k is len(dict_var_update)\n",
        "print(f'Updated dict_var: {dict_var}')"
      ]
    },
    {
      "cell_type": "code",
      "execution_count": null,
      "metadata": {
        "id": "KjfGKqA1LohN",
        "outputId": "b9308c03-2e5f-4be4-cc44-b93d9dc5e959",
        "colab": {
          "base_uri": "https://localhost:8080/"
        }
      },
      "outputs": [
        {
          "output_type": "execute_result",
          "data": {
            "text/plain": [
              "False"
            ]
          },
          "metadata": {},
          "execution_count": 132
        }
      ],
      "source": [
        "# Dictionaries compare equal if and only if they have the same (key, value) pairs (regardless of ordering).\n",
        "# Order comparisons (‘<’, ‘<=’, ‘>=’, ‘>’) raise TypeError.\n",
        "dict_var = {'one': 1, 'two': 2, 'three': 3}\n",
        "dict_var_update = {'three': None, 'four': 4}\n",
        "\n",
        "dict_var == dict_var_update"
      ]
    },
    {
      "cell_type": "code",
      "source": [
        "# HASHES!!!!"
      ],
      "metadata": {
        "id": "GXfCFykmpADS"
      },
      "execution_count": null,
      "outputs": []
    },
    {
      "cell_type": "markdown",
      "metadata": {
        "id": "vEee2vNSLohN"
      },
      "source": [
        "## Set\n",
        "\n",
        "A set object is an `unordered` `mutable` collection of distinct `hashable` objects. Common uses include membership testing, removing duplicates from a sequence, and computing mathematical operations such as intersection, union, difference, and symmetric difference."
      ]
    },
    {
      "cell_type": "code",
      "execution_count": null,
      "metadata": {
        "id": "uQkCBXUULohO",
        "outputId": "a279f805-a97d-461b-bfe2-ce5187936d1d"
      },
      "outputs": [
        {
          "name": "stdout",
          "output_type": "stream",
          "text": [
            "set_var: {1, 2, 3, 4}\n"
          ]
        }
      ],
      "source": [
        "# Initialization\n",
        "set_var = {1, 2, 3, 4, 4, 4}\n",
        "set_var = set([1, 2, 3, 4, 4, 4])\n",
        "\n",
        "print(f'set_var: {set_var}')"
      ]
    },
    {
      "cell_type": "code",
      "execution_count": null,
      "metadata": {
        "id": "2QHktv-BLohO",
        "outputId": "3d432086-2acb-451b-c00e-da4d1317be40"
      },
      "outputs": [
        {
          "name": "stdout",
          "output_type": "stream",
          "text": [
            "set length: 4\n"
          ]
        }
      ],
      "source": [
        "# len(s)\n",
        "# Return the number of elements in set s (cardinality of s).\n",
        "set_var = {1, 2, 3, 4, 4, 4}\n",
        "print(f'set length: {len(set_var)}')"
      ]
    },
    {
      "cell_type": "code",
      "execution_count": null,
      "metadata": {
        "id": "k3WGTgLQLohO",
        "outputId": "ef23782b-d8b7-4d37-a193-080e144254b8"
      },
      "outputs": [
        {
          "name": "stdout",
          "output_type": "stream",
          "text": [
            "Item is in set: True\n"
          ]
        }
      ],
      "source": [
        "# x in s\n",
        "# Test x for membership in s.\n",
        "set_var = {1, 2, 3, 4, 4, 4}\n",
        "print(f'Item is in set: {1 in set_var}')"
      ]
    },
    {
      "cell_type": "code",
      "execution_count": null,
      "metadata": {
        "id": "03lnGarHLohO",
        "outputId": "371a37ec-caaa-467d-874d-d7b436b2d66d"
      },
      "outputs": [
        {
          "name": "stdout",
          "output_type": "stream",
          "text": [
            "Is set disjoint: True\n"
          ]
        }
      ],
      "source": [
        "# isdisjoint(other)\n",
        "# Return True if the set has no elements in common with other.\n",
        "# Sets are disjoint if and only if their intersection is the empty set.\n",
        "set_var = {1, 2, 3, 4, 4, 4}\n",
        "print(f'Is set disjoint: {set_var.isdisjoint({5, 6, 7})}')"
      ]
    },
    {
      "cell_type": "code",
      "execution_count": null,
      "metadata": {
        "id": "EEYOqRxuLohO",
        "outputId": "204a117d-bb34-4698-e6d7-192ed68f6223"
      },
      "outputs": [
        {
          "name": "stdout",
          "output_type": "stream",
          "text": [
            "Is subset: True\n"
          ]
        }
      ],
      "source": [
        "# issubset(other)\n",
        "# set <= other\n",
        "# Test whether every element in the set is in other.\n",
        "set_1 = {1, 2, 3}\n",
        "set_2 = {1, 2, 3, 4, 5}\n",
        "print(f'Is subset: {set_1 <= set_2}')"
      ]
    },
    {
      "cell_type": "code",
      "execution_count": null,
      "metadata": {
        "id": "7anj41_pLohO",
        "outputId": "e9357cc2-59c9-44a1-a9ca-b3035c752094"
      },
      "outputs": [
        {
          "name": "stdout",
          "output_type": "stream",
          "text": [
            "Is proper subset: False\n"
          ]
        }
      ],
      "source": [
        "# set < other\n",
        "# Test whether the set is a proper subset of other, that is, set <= other and set != other.\n",
        "set_1 = {1, 2, 3}\n",
        "set_2 = {1, 2, 3}\n",
        "print(f'Is proper subset: {set_1 < set_2}')"
      ]
    },
    {
      "cell_type": "code",
      "execution_count": null,
      "metadata": {
        "id": "SdeF6nTjLohO",
        "outputId": "00fc083e-ac98-46ca-f113-76cb42b64a67"
      },
      "outputs": [
        {
          "name": "stdout",
          "output_type": "stream",
          "text": [
            "Is superset: True\n"
          ]
        }
      ],
      "source": [
        "# issuperset(other)\n",
        "# set >= other\n",
        "# Test whether every element in other is in the set.\n",
        "set_1 = {1, 2, 3, 4, 5}\n",
        "set_2 = {1, 2, 3}\n",
        "print(f'Is superset: {set_1 >= set_2}')"
      ]
    },
    {
      "cell_type": "code",
      "execution_count": null,
      "metadata": {
        "id": "c0LA0klOLohP",
        "outputId": "0d1f6d09-2ea6-4f16-892e-dbc87931dbe4"
      },
      "outputs": [
        {
          "name": "stdout",
          "output_type": "stream",
          "text": [
            "Is proper superset: True\n"
          ]
        }
      ],
      "source": [
        "# set > other\n",
        "# Test whether the set is a proper superset of other, that is, set >= other and set != other.\n",
        "set_1 = {1, 2, 3, 4, 5}\n",
        "set_2 = {1, 2, 3}\n",
        "print(f'Is proper superset: {set_1 >= set_2}')"
      ]
    },
    {
      "cell_type": "code",
      "execution_count": null,
      "metadata": {
        "id": "f7rPy4DtLohP",
        "outputId": "2416cd1d-752f-4adf-946d-7f44b256682d"
      },
      "outputs": [
        {
          "name": "stdout",
          "output_type": "stream",
          "text": [
            "Union: {1, 2, 3, 4, 5, 6, 7}\n"
          ]
        }
      ],
      "source": [
        "# union(*others)\n",
        "# set | other | ...\n",
        "# Return a new set with elements from the set and all others.\n",
        "set_1 = {1, 2, 3, 4, 5}\n",
        "set_2 = {1, 2, 3}\n",
        "set_3 = {4, 5, 6, 7}\n",
        "\n",
        "union_set = set_1 | set_2 | set_3\n",
        "print(f'Union: {union_set}')"
      ]
    },
    {
      "cell_type": "code",
      "execution_count": null,
      "metadata": {
        "id": "iG3cctpaLohP",
        "outputId": "2e2344a5-6e1f-4e0e-a533-4db70ec51ffc"
      },
      "outputs": [
        {
          "name": "stdout",
          "output_type": "stream",
          "text": [
            "Intersection: {1, 2}\n"
          ]
        }
      ],
      "source": [
        "# intersection(*others)\n",
        "# set & other & ...\n",
        "# Return a new set with elements common to the set and all others.\n",
        "set_1 = {1, 2, 3, 4, 5}\n",
        "set_2 = {1, 2, 3}\n",
        "set_3 = {1, 2, 4, 5, 6, 7}\n",
        "\n",
        "intersection_set = set_1 & set_2 & set_3\n",
        "print(f'Intersection: {intersection_set}')"
      ]
    },
    {
      "cell_type": "code",
      "execution_count": null,
      "metadata": {
        "id": "nHlGIPZcLohP",
        "outputId": "5a58f28c-8712-494a-9a7e-e7779b5c8529"
      },
      "outputs": [
        {
          "name": "stdout",
          "output_type": "stream",
          "text": [
            "Difference: {1, 2}\n"
          ]
        }
      ],
      "source": [
        "# difference(*others)\n",
        "# set - other - ...\n",
        "# Return a new set with elements in the set that are not in the others.\n",
        "set_1 = {1, 2, 3, 4, 5}\n",
        "set_2 = {1, 2, 3}\n",
        "\n",
        "difference_set = set_1 - set_2\n",
        "print(f'Difference: {intersection_set}')"
      ]
    },
    {
      "cell_type": "code",
      "execution_count": null,
      "metadata": {
        "id": "x42ro921LohP",
        "outputId": "dab02beb-7f2a-4e9d-ab3f-1d12d334b261"
      },
      "outputs": [
        {
          "name": "stdout",
          "output_type": "stream",
          "text": [
            "Symetric difference: {4, 5}\n"
          ]
        }
      ],
      "source": [
        "# symmetric_difference(other)\n",
        "# set ^ other\n",
        "# Return a new set with elements in either the set or other but not both.\n",
        "set_1 = {1, 2, 3, 4, 5}\n",
        "set_2 = {1, 2, 3}\n",
        "\n",
        "symmetric_difference_set = set_1 ^ set_2\n",
        "print(f'Symetric difference: {symmetric_difference_set}')"
      ]
    },
    {
      "cell_type": "markdown",
      "metadata": {
        "id": "YteAG5z8LohP"
      },
      "source": [
        "## Strings\n",
        "\n",
        "Textual data in Python is handled with `str` objects, or strings. Strings are `immutable` sequences of Unicode code points. String literals are written in a variety of ways:\n",
        "\n",
        "* `Single quotes: 'allows embedded \"double\" quotes'`\n",
        "* `Double quotes: \"allows embedded 'single' quotes\".`\n",
        "* `Triple quoted: '''Three single quotes''', \"\"\"Three double quotes\"\"\"`\n",
        "* `Triple quoted strings may span multiple lines - all associated whitespace will be included in the string literal.`\n",
        "\n",
        "String literals that are part of a single expression and have only whitespace between them will be implicitly converted to a single string literal. That is, `(\"spam \" \"eggs\") == \"spam eggs\"`.\n",
        "\n",
        "Full huge list of string methods you cat find at [link](https://docs.python.org/3.7/library/stdtypes.html?highlight=tuple#text-sequence-type-str)."
      ]
    },
    {
      "cell_type": "code",
      "execution_count": null,
      "metadata": {
        "id": "hf4HtaqoLohQ"
      },
      "outputs": [],
      "source": [
        "# str()\n",
        "# Return a string version of object. If object is not provided, returns the empty string.\n",
        "empty_string = str()\n",
        "# Or\n",
        "empty_string_1 = ''\n",
        "empty_string_2 = \"\"\n",
        "empty_string_3 = ''''''\n",
        "empty_string_4 = \"\"\"\"\"\""
      ]
    },
    {
      "cell_type": "code",
      "execution_count": null,
      "metadata": {
        "id": "ZM7lg9ccLohQ",
        "outputId": "de2b8b46-1c16-49a6-b18b-87253abd1156",
        "colab": {
          "base_uri": "https://localhost:8080/"
        }
      },
      "outputs": [
        {
          "output_type": "stream",
          "name": "stdout",
          "text": [
            "String split lines: ['one', 'two', 'three']\n",
            "String type: <class 'str'>\n",
            "Split string: ['one,', 'two,', 'three']\n",
            "Split string with delimiter ['one', ' two', ' three']\n"
          ]
        }
      ],
      "source": [
        "string = \"one\\ntwo\\nthree\\n\"\n",
        "print(f'String split lines: {string.splitlines()}')\n",
        "print(f'String type: {type(string)}')\n",
        "\n",
        "string = \"one, two, three\"\n",
        "print(f'Split string: {string.split(\" \")}')\n",
        "print(f'Split string with delimiter {string.split(\",\")}')\n"
      ]
    },
    {
      "cell_type": "code",
      "source": [
        "print(f'Split string: {string.split(\" \")}')"
      ],
      "metadata": {
        "colab": {
          "base_uri": "https://localhost:8080/"
        },
        "id": "1a0zJ6HeWJSI",
        "outputId": "c78965a8-9266-427a-bccf-f96bb053ede3"
      },
      "execution_count": null,
      "outputs": [
        {
          "output_type": "stream",
          "name": "stdout",
          "text": [
            "Split string: ['one,', 'two,', 'three']\n"
          ]
        }
      ]
    },
    {
      "cell_type": "code",
      "source": [
        "string = \"\"\"one\n",
        "two\n",
        "three\n",
        "\"\"\"\n",
        "print(f'String split lines: {string.splitlines()}')"
      ],
      "metadata": {
        "colab": {
          "base_uri": "https://localhost:8080/"
        },
        "id": "ABOsbiIBWSh0",
        "outputId": "bb962bd8-9cc0-4a6c-c59e-555710159f95"
      },
      "execution_count": null,
      "outputs": [
        {
          "output_type": "stream",
          "name": "stdout",
          "text": [
            "String split lines: ['one', 'two', 'three']\n"
          ]
        }
      ]
    },
    {
      "cell_type": "code",
      "execution_count": null,
      "metadata": {
        "id": "syhfoSdbLohQ",
        "outputId": "91ff04e0-9fbe-44fa-bc51-fc1a64d31f42",
        "colab": {
          "base_uri": "https://localhost:8080/"
        }
      },
      "outputs": [
        {
          "output_type": "stream",
          "name": "stdout",
          "text": [
            "Join strings in iterable: supercalifragilisticexpialidocious\n",
            "Join strings in iterable: supercalifragilisticexpialidocious\n",
            "Join strings in iterable with space delimiter: super cali fragilistic expiali docious\n",
            "Join strings in iterable with \"+\" delimiter: super+cali+fragilistic+expiali+docious\n"
          ]
        }
      ],
      "source": [
        "# join()\n",
        "parts = ['super', 'cali', 'fragilistic', 'expiali', 'docious']\n",
        "\n",
        "print(f'Join strings in iterable: {str().join(parts)}')\n",
        "print(f'Join strings in iterable: {\"\".join(parts)}')\n",
        "\n",
        "print(f'Join strings in iterable with space delimiter: {\" \".join(parts)}')\n",
        "print(f'Join strings in iterable with \"+\" delimiter: {\"+\".join(parts)}')"
      ]
    },
    {
      "cell_type": "code",
      "source": [
        "list_of_integers = [1,2,3,4]\n",
        "print(\" \".join(map(str, list_of_integers)))"
      ],
      "metadata": {
        "colab": {
          "base_uri": "https://localhost:8080/"
        },
        "id": "UMrFun9iWjPm",
        "outputId": "07cba83c-45e0-4532-cec9-9f311bc907c8"
      },
      "execution_count": null,
      "outputs": [
        {
          "output_type": "stream",
          "name": "stdout",
          "text": [
            "1 2 3 4\n"
          ]
        }
      ]
    },
    {
      "cell_type": "code",
      "execution_count": null,
      "metadata": {
        "scrolled": true,
        "id": "_BAlkrQdLohQ",
        "outputId": "6a3532e3-573f-4c62-cc86-ffaef56d4dc6",
        "colab": {
          "base_uri": "https://localhost:8080/"
        }
      },
      "outputs": [
        {
          "output_type": "stream",
          "name": "stdout",
          "text": [
            "Is string in lower case False\n",
            "Is string in upper case False\n",
            "String in lower case hello\n",
            "String in upper case HELLO\n",
            "Hello. my name is alex\n",
            "True\n",
            "Replaced string: llo  HE he\n"
          ]
        }
      ],
      "source": [
        "string = \"Hello\"\n",
        "\n",
        "print(f'Is string in lower case {string.islower()}')\n",
        "print(f'Is string in upper case {string.isupper()}')\n",
        "\n",
        "lower_string = string.lower()\n",
        "print(f'String in lower case {lower_string}')\n",
        "\n",
        "upper_string = string.upper()\n",
        "print(f'String in upper case {upper_string}')\n",
        "\n",
        "capitalized_string = \"hello. my name is Alex\".capitalize()\n",
        "print(capitalized_string)\n",
        "\n",
        "chain_condition = string.lower().islower()\n",
        "print(chain_condition)\n",
        "\n",
        "\n",
        "string = \"Hello He HE he\"\n",
        "replaced_string = string.replace(\"He\", \"\", -1)\n",
        "print(f'Replaced string: {replaced_string}')"
      ]
    },
    {
      "cell_type": "code",
      "source": [
        "string = \"Hello world\"\n",
        "print(string[0:5])"
      ],
      "metadata": {
        "colab": {
          "base_uri": "https://localhost:8080/"
        },
        "id": "AVYc4G9TXuvt",
        "outputId": "77b56fd7-9995-450e-f46c-e6a0f8cef6be"
      },
      "execution_count": null,
      "outputs": [
        {
          "output_type": "stream",
          "name": "stdout",
          "text": [
            "Hello\n"
          ]
        }
      ]
    },
    {
      "cell_type": "code",
      "source": [
        "string[0] = \"!\""
      ],
      "metadata": {
        "colab": {
          "base_uri": "https://localhost:8080/",
          "height": 174
        },
        "id": "QlNF9PMcX_sv",
        "outputId": "bffa7b8f-b700-4cd9-9224-0cfabe89e56c"
      },
      "execution_count": null,
      "outputs": [
        {
          "output_type": "error",
          "ename": "TypeError",
          "evalue": "ignored",
          "traceback": [
            "\u001b[0;31m---------------------------------------------------------------------------\u001b[0m",
            "\u001b[0;31mTypeError\u001b[0m                                 Traceback (most recent call last)",
            "\u001b[0;32m<ipython-input-21-1747f9af5980>\u001b[0m in \u001b[0;36m<cell line: 1>\u001b[0;34m()\u001b[0m\n\u001b[0;32m----> 1\u001b[0;31m \u001b[0mstring\u001b[0m\u001b[0;34m[\u001b[0m\u001b[0;36m0\u001b[0m\u001b[0;34m]\u001b[0m \u001b[0;34m=\u001b[0m \u001b[0;34m\"!\"\u001b[0m\u001b[0;34m\u001b[0m\u001b[0;34m\u001b[0m\u001b[0m\n\u001b[0m",
            "\u001b[0;31mTypeError\u001b[0m: 'str' object does not support item assignment"
          ]
        }
      ]
    },
    {
      "cell_type": "markdown",
      "source": [
        "### Custom data types: Stack and Queue\n",
        "\n",
        "![](https://gohighbrow.com/wp-content/uploads/2018/07/Computer-science-fundamentals_6.1.png)"
      ],
      "metadata": {
        "id": "JkeHlGMROT8H"
      }
    },
    {
      "cell_type": "code",
      "source": [
        "# STACK\n",
        "stack = []\n",
        "\n",
        "# insert\n",
        "stack.append(0)\n",
        "print(stack)\n",
        "stack.append(1)\n",
        "print(stack)\n",
        "stack.append(2)\n",
        "print(stack)\n",
        "\n",
        "# delete\n",
        "stack.pop()\n",
        "print(stack)\n",
        "stack.pop()\n",
        "print(stack)\n",
        "stack.pop()\n",
        "print(stack)"
      ],
      "metadata": {
        "id": "YUNYY6H9O3oD",
        "colab": {
          "base_uri": "https://localhost:8080/"
        },
        "outputId": "5d317d36-6503-433e-c033-e28a4215913b"
      },
      "execution_count": null,
      "outputs": [
        {
          "output_type": "stream",
          "name": "stdout",
          "text": [
            "[0]\n",
            "[0, 1]\n",
            "[0, 1, 2]\n",
            "[0, 1]\n",
            "[0]\n",
            "[]\n"
          ]
        }
      ]
    },
    {
      "cell_type": "markdown",
      "source": [
        "#### Task: Correct Bracket sequence\n",
        "\n",
        "Def. Any sequence of `(` and `)` is a bracket sequence.\n",
        "\n",
        "\n",
        "Def. a bracket sequence is considered to be *correct* if any prefix has a non-negative balance and the whole sequence has a 0 balance.\n",
        "\n",
        "How to calculate the balance: `( -> +1` and `) -> -1` then you calculate the sum"
      ],
      "metadata": {
        "id": "Dsh0Och_O6Cc"
      }
    },
    {
      "cell_type": "code",
      "source": [
        "# TASK\n",
        "input1 = \"()()()\"\n",
        "input2 = \"()(())(())\"\n",
        "input3 = \"()(())(()))\"\n",
        "\n",
        "input = input3\n",
        "stack = []"
      ],
      "metadata": {
        "id": "k4aXOj_NPnAu"
      },
      "execution_count": null,
      "outputs": []
    },
    {
      "cell_type": "code",
      "source": [
        "print(input)\n",
        "is_incorrect = False\n",
        "\n",
        "for character in input:\n",
        "    BOOLEAN_STATEMENT = character == \"(\"\n",
        "    if BOOLEAN_STATEMENT:\n",
        "        # do if it is True\n",
        "        stack.append(character)\n",
        "    else:\n",
        "        # do if it is False\n",
        "        if len(stack) == 0:\n",
        "            is_incorrect = True\n",
        "        else:\n",
        "            stack.pop()\n",
        "\n",
        "if len(stack) != 0:\n",
        "    is_incorrect = True\n",
        "\n",
        "if is_incorrect:\n",
        "    print(\"Sequence is incorrect\")\n",
        "else:\n",
        "    print(\"Sequence is correct\")"
      ],
      "metadata": {
        "colab": {
          "base_uri": "https://localhost:8080/"
        },
        "id": "l6Y6i8HOZwKz",
        "outputId": "aaaf858a-5e6e-4264-ab6b-ff46ad8af098"
      },
      "execution_count": null,
      "outputs": [
        {
          "output_type": "stream",
          "name": "stdout",
          "text": [
            "()(())(()))\n",
            "Sequence is incorrect\n"
          ]
        }
      ]
    },
    {
      "cell_type": "markdown",
      "source": [
        "### Custom data types: Stack and Queue\n",
        "\n",
        "![](https://gohighbrow.com/wp-content/uploads/2018/07/Computer-science-fundamentals_6.1.png)"
      ],
      "metadata": {
        "id": "EZrLsH-7bOTQ"
      }
    },
    {
      "cell_type": "code",
      "source": [
        "# QUEUE\n",
        "# [] -> [0] -> [0, 1] -> [0, 1, 2] -> [1, 2] -> [2] -> []\n",
        "\n",
        "queue = []\n",
        "\n",
        "# insert\n",
        "queue.append(0)  # O(1)\n",
        "print(queue)\n",
        "queue.append(1)  # O(1)\n",
        "print(queue)\n",
        "queue.append(2)  # O(1)\n",
        "print(queue)\n",
        "\n",
        "# delete\n",
        "queue.pop(0)  # O(N)\n",
        "print(queue)\n",
        "queue.pop(0)  # O(N)\n",
        "print(queue)\n",
        "queue.pop(0)  # O(N)\n",
        "print(queue)"
      ],
      "metadata": {
        "id": "EuhtUT7LO5hR",
        "colab": {
          "base_uri": "https://localhost:8080/"
        },
        "outputId": "e5b67b23-7822-4f39-ea49-101c02dc373e"
      },
      "execution_count": null,
      "outputs": [
        {
          "output_type": "stream",
          "name": "stdout",
          "text": [
            "[0]\n",
            "[0, 1]\n",
            "[0, 1, 2]\n",
            "[1, 2]\n",
            "[2]\n",
            "[]\n"
          ]
        }
      ]
    },
    {
      "cell_type": "code",
      "source": [
        "from collections import deque"
      ],
      "metadata": {
        "id": "w4x_S4_wbsvA"
      },
      "execution_count": null,
      "outputs": []
    },
    {
      "cell_type": "code",
      "source": [
        "queue = deque()\n",
        "\n",
        "# insert\n",
        "queue.append(0)  # O(1)\n",
        "print(queue)\n",
        "queue.append(1)  # O(1)\n",
        "print(queue)\n",
        "queue.append(2)  # O(1)\n",
        "print(queue)\n",
        "\n",
        "# delete\n",
        "queue.popleft()  # O(1)\n",
        "print(queue)\n",
        "queue.popleft()  # O(1)\n",
        "print(queue)\n",
        "queue.popleft()  # O(1)\n",
        "print(queue)"
      ],
      "metadata": {
        "colab": {
          "base_uri": "https://localhost:8080/"
        },
        "id": "lQi79UsocBnQ",
        "outputId": "c234a5db-6fd0-4da3-ea2f-61a752368777"
      },
      "execution_count": null,
      "outputs": [
        {
          "output_type": "stream",
          "name": "stdout",
          "text": [
            "deque([0])\n",
            "deque([0, 1])\n",
            "deque([0, 1, 2])\n",
            "deque([1, 2])\n",
            "deque([2])\n",
            "deque([])\n"
          ]
        }
      ]
    },
    {
      "cell_type": "code",
      "source": [],
      "metadata": {
        "id": "G8YSEwrzcT_T"
      },
      "execution_count": null,
      "outputs": []
    }
  ],
  "metadata": {
    "kernelspec": {
      "display_name": "Python 3",
      "language": "python",
      "name": "python3"
    },
    "language_info": {
      "codemirror_mode": {
        "name": "ipython",
        "version": 3
      },
      "file_extension": ".py",
      "mimetype": "text/x-python",
      "name": "python",
      "nbconvert_exporter": "python",
      "pygments_lexer": "ipython3",
      "version": "3.6.7rc1"
    },
    "colab": {
      "provenance": []
    }
  },
  "nbformat": 4,
  "nbformat_minor": 0
}