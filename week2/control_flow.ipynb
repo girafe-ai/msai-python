{
  "cells": [
    {
      "cell_type": "markdown",
      "metadata": {
        "id": "nq8doE78PtBU"
      },
      "source": [
        "## Conditionals, loops\n"
      ]
    },
    {
      "cell_type": "markdown",
      "metadata": {
        "id": "nSz8qAdFPtBW"
      },
      "source": [
        "# Contents\n",
        "\n",
        "1. Conditional operator\n",
        "2. Ternary conditional operator\n",
        "3. While-loop\n",
        "4. For-loop\n",
        "5. List comprehensions"
      ]
    },
    {
      "cell_type": "markdown",
      "metadata": {
        "id": "IfXsJOKrPtBW"
      },
      "source": [
        "# 1. Conditional operators (if, elif, else)\n",
        "\n"
      ]
    },
    {
      "cell_type": "code",
      "execution_count": 1,
      "metadata": {
        "colab": {
          "base_uri": "https://localhost:8080/"
        },
        "id": "zxLk2vugPtBX",
        "outputId": "55851501-b974-4128-9f19-bad197b8d800"
      },
      "outputs": [
        {
          "output_type": "stream",
          "name": "stdout",
          "text": [
            "yes\n"
          ]
        }
      ],
      "source": [
        "if 1 > 0:\n",
        "    print('yes')"
      ]
    },
    {
      "cell_type": "code",
      "execution_count": 3,
      "metadata": {
        "colab": {
          "base_uri": "https://localhost:8080/"
        },
        "id": "TMozEUaAPtBX",
        "outputId": "678e1070-98f2-4b82-bef3-31087eda26b0"
      },
      "outputs": [
        {
          "output_type": "stream",
          "name": "stdout",
          "text": [
            "this print happens after if statement\n"
          ]
        }
      ],
      "source": [
        "if 1 == 0:\n",
        "    print('yes')\n",
        "\n",
        "print('this print happens after if statement')"
      ]
    },
    {
      "cell_type": "code",
      "execution_count": 4,
      "metadata": {
        "colab": {
          "base_uri": "https://localhost:8080/"
        },
        "id": "yUwnIRRuPtBX",
        "outputId": "f504bb0a-6f36-42cc-f08b-68fd6598419d"
      },
      "outputs": [
        {
          "output_type": "stream",
          "name": "stdout",
          "text": [
            "Your age: 21\n",
            "Yes, you can drive\n"
          ]
        }
      ],
      "source": [
        "question = 'Can I drive a car?'\n",
        "\n",
        "# input() function asks for user input\n",
        "\n",
        "age = input(\"Your age: \")  # argument - message text\n",
        "\n",
        "age = int(age) # int() function casts age to integer\n",
        "\n",
        "\n",
        "if age >= 18: # if you're 18 years old or older\n",
        "\n",
        "    answer = 'Yes, you can drive'\n",
        "\n",
        "else:\n",
        "\n",
        "    answer = \"No, you can't drive\"\n",
        "\n",
        "print(answer)"
      ]
    },
    {
      "cell_type": "markdown",
      "metadata": {
        "id": "mFGe667gPtBY"
      },
      "source": [
        "Note 1.  A colon after the condition (at the end of the IF line) is required!\n",
        "\n",
        "Note 2.  Both after IF and ELSE!\n",
        "\n",
        "Note 3:  In python, groups of commands are determined by INDENTATION! Indents must be carefully monitored! Spaces and tabs can serve as indents, and in any quantity, the main thing is that commands from the same group are on the same level.\n",
        "\n"
      ]
    },
    {
      "cell_type": "markdown",
      "metadata": {
        "id": "yG714YkdPtBY"
      },
      "source": [
        "Note 4: Python has no operator brackets, unlike languages like C ++ or Java. In these languages, the set of commands that must be executed under a certain condition is determined by the location of the brackets, for example, something like:\n",
        "```\n",
        "IF condition1, then {\n",
        "command1\n",
        "command2}\n",
        "ELSE {\n",
        "command3}\n",
        "```\n",
        "Here commands 1 and 2 are being executed if condition1 is true, otherwise command3 is being executed.\n",
        "\n",
        "\n",
        "In Python it looks like this:\n",
        "```\n",
        "if condition1:\n",
        "    command1\n",
        "    command2\n",
        "elif condition2:\n",
        "    commands\n",
        "elif condition3:\n",
        "    commands\n",
        "else:\n",
        "    command3\n",
        "```\n"
      ]
    },
    {
      "cell_type": "markdown",
      "metadata": {
        "id": "C0tEH9IjPtBY"
      },
      "source": [
        "You can also compose several conditions:"
      ]
    },
    {
      "cell_type": "code",
      "execution_count": 5,
      "metadata": {
        "colab": {
          "base_uri": "https://localhost:8080/"
        },
        "id": "GVCi6HJfPtBZ",
        "outputId": "e38ad3ee-16fa-4eb9-b06f-3a23815ab6ac"
      },
      "outputs": [
        {
          "output_type": "stream",
          "name": "stdout",
          "text": [
            "Your age: 12\n",
            "No, you can't drive\n"
          ]
        }
      ],
      "source": [
        "question = 'Can I drive a car?'\n",
        "\n",
        "age = int(input(\"Your age: \"))  # It is convenient to use int(input()) if you are asking for a number\n",
        "\n",
        "# country = 'Russia'\n",
        "country = 'USA'\n",
        "\n",
        "if age >= 16 and country == 'USA':  # If you're 16 or older and you live in USA\n",
        "\n",
        "    answer = 'Yes, you can drive'\n",
        "\n",
        "#elif - short from else if\n",
        "elif age >= 18 and country == 'Russia':  # If the condition above is false, but you are 18 or older and you live in Russia\n",
        "\n",
        "    answer = 'Yes, you can drive'\n",
        "\n",
        "else:\n",
        "\n",
        "    answer = \"No, you can't drive\"\n",
        "\n",
        "print(answer)"
      ]
    },
    {
      "cell_type": "code",
      "execution_count": 6,
      "metadata": {
        "colab": {
          "base_uri": "https://localhost:8080/"
        },
        "id": "e-GQ1jw2PtBZ",
        "outputId": "840f3e2e-2b5c-4130-bd87-0796b87c91f5"
      },
      "outputs": [
        {
          "output_type": "stream",
          "name": "stdout",
          "text": [
            "0\n"
          ]
        }
      ],
      "source": [
        "x = 0\n",
        "\n",
        "if x > 100:\n",
        "    print(1)\n",
        "elif x > 10:\n",
        "    print(2)\n",
        "elif x > 0:\n",
        "    print('positive')\n",
        "elif x == 0:\n",
        "    print(0)\n",
        "else:\n",
        "    print('negative')"
      ]
    },
    {
      "cell_type": "markdown",
      "source": [
        "## Structural Pattern Matching:\n",
        "\n",
        "It was introduced in python3.10\n",
        "[pep](https://peps.python.org/pep-0636/)\n",
        "\n",
        "let's look at syntaxis:"
      ],
      "metadata": {
        "id": "Ezfc6moNQqSM"
      }
    },
    {
      "cell_type": "code",
      "source": [
        "x = 1\n",
        "\n",
        "match x:\n",
        "    case 0:\n",
        "        print(f\"x is 0\")\n",
        "    case 1:\n",
        "        print(f\"x is 1\")\n",
        "    case _:\n",
        "        print(f\"x is neither 0 nor 1\")"
      ],
      "metadata": {
        "colab": {
          "base_uri": "https://localhost:8080/"
        },
        "id": "MLiBJI8uQWeY",
        "outputId": "536253ca-75de-480c-dc14-317ea20927b1"
      },
      "execution_count": 7,
      "outputs": [
        {
          "output_type": "stream",
          "name": "stdout",
          "text": [
            "x is 1\n"
          ]
        }
      ]
    },
    {
      "cell_type": "code",
      "source": [
        "command = \"go north\"\n",
        "\n",
        "match command.lower().split():\n",
        "    case \"go\", \"north\" | \"east\" | \"west\" | \"south\" as direction:\n",
        "        print(f\"I go {direction}\")\n",
        "    case \"go\", *somewhere:\n",
        "        print(f\"I don't know this direction: {somewhere}\")\n",
        "    case _:\n",
        "        print(\"I don't go\")\n",
        ""
      ],
      "metadata": {
        "colab": {
          "base_uri": "https://localhost:8080/"
        },
        "id": "T8oJKVGGRMX-",
        "outputId": "e14a7a3b-2e66-4b0a-aa34-a379e7506a67"
      },
      "execution_count": 13,
      "outputs": [
        {
          "output_type": "stream",
          "name": "stdout",
          "text": [
            "I go north\n"
          ]
        }
      ]
    },
    {
      "cell_type": "markdown",
      "metadata": {
        "id": "p3sikijdPtBZ"
      },
      "source": [
        "# 2. Ternary conditional operator\n"
      ]
    },
    {
      "cell_type": "code",
      "execution_count": 15,
      "metadata": {
        "colab": {
          "base_uri": "https://localhost:8080/"
        },
        "id": "RP-mXwGFPtBa",
        "outputId": "d5ae84f2-c42c-40dc-9a75-c4d4d94263b2"
      },
      "outputs": [
        {
          "output_type": "stream",
          "name": "stdout",
          "text": [
            "true\n",
            "false\n"
          ]
        }
      ],
      "source": [
        "# a if condition else b\n",
        "\n",
        "print('true' if True else 'false')\n",
        "print('true' if False else 'false')"
      ]
    },
    {
      "cell_type": "code",
      "execution_count": null,
      "metadata": {
        "id": "1mY4yEsoPtBb",
        "outputId": "eaf390ef-d3b3-4616-acf0-71949e1fc418"
      },
      "outputs": [
        {
          "data": {
            "text/plain": [
              "'teenager'"
            ]
          },
          "execution_count": 19,
          "metadata": {},
          "output_type": "execute_result"
        }
      ],
      "source": [
        "age = 15\n",
        "'kid' if age < 13 else 'teenager' if age < 18 else 'adult'"
      ]
    },
    {
      "cell_type": "code",
      "execution_count": 16,
      "metadata": {
        "colab": {
          "base_uri": "https://localhost:8080/"
        },
        "id": "LCXC7SYtPtBb",
        "outputId": "73acd3ee-99bb-41ee-f08e-197c7e3881a7"
      },
      "outputs": [
        {
          "output_type": "stream",
          "name": "stdout",
          "text": [
            "The cat is  mean\n",
            "The cat is  mean\n"
          ]
        }
      ],
      "source": [
        "# Equivalent constructs:\n",
        "\n",
        "nice = False\n",
        "\n",
        "#1\n",
        "personality = \"nice\" if nice else \"mean\"\n",
        "print(\"The cat is \", personality)\n",
        "\n",
        "#2\n",
        "personality = (\"mean\", \"nice\")[nice]\n",
        "print(\"The cat is \", personality)"
      ]
    },
    {
      "cell_type": "markdown",
      "metadata": {
        "id": "fR7P5sOYPtBb"
      },
      "source": [
        "# 3. While loop\n"
      ]
    },
    {
      "cell_type": "code",
      "execution_count": 17,
      "metadata": {
        "colab": {
          "base_uri": "https://localhost:8080/"
        },
        "id": "R_DJTRS5PtBc",
        "outputId": "a39bdf70-c97e-4f86-d7de-67ad7d835947"
      },
      "outputs": [
        {
          "output_type": "stream",
          "name": "stdout",
          "text": [
            "1\n",
            "Hello! \n",
            "2\n",
            "Hello! Hello! \n",
            "3\n",
            "Hello! Hello! Hello! \n"
          ]
        }
      ],
      "source": [
        "greetings = 1\n",
        "\n",
        "while greetings <= 3:\n",
        "\n",
        "    print(greetings)\n",
        "    print('Hello! ' * greetings)\n",
        "    # += is increment operator\n",
        "    greetings += 1 # is equivalent to \"greetings = greetings + 1\""
      ]
    },
    {
      "cell_type": "code",
      "execution_count": 18,
      "metadata": {
        "colab": {
          "base_uri": "https://localhost:8080/"
        },
        "id": "bPuk4pD2PtBc",
        "outputId": "a5b0397b-0e55-46cb-9449-38f1c70401cc"
      },
      "outputs": [
        {
          "output_type": "execute_result",
          "data": {
            "text/plain": [
              "4"
            ]
          },
          "metadata": {},
          "execution_count": 18
        }
      ],
      "source": [
        "greetings"
      ]
    },
    {
      "cell_type": "markdown",
      "metadata": {
        "id": "CocdrUTrPtBc"
      },
      "source": [
        "break"
      ]
    },
    {
      "cell_type": "code",
      "execution_count": 19,
      "metadata": {
        "scrolled": true,
        "colab": {
          "base_uri": "https://localhost:8080/"
        },
        "id": "lkhPLwuOPtBc",
        "outputId": "ed5178b3-e5f7-4d67-caf5-9cd2ef7d90bc"
      },
      "outputs": [
        {
          "output_type": "stream",
          "name": "stdout",
          "text": [
            "5050\n"
          ]
        }
      ],
      "source": [
        "i = 0\n",
        "k = 5\n",
        "\n",
        "S = 0 # Sum of the first 100 integers\n",
        "\n",
        "while True:\n",
        "    i += 1\n",
        "    S += i\n",
        "    if not i < 100:\n",
        "        break\n",
        "\n",
        "\n",
        "print(S)"
      ]
    },
    {
      "cell_type": "code",
      "execution_count": 20,
      "metadata": {
        "colab": {
          "base_uri": "https://localhost:8080/"
        },
        "id": "fS5_tKs4PtBc",
        "outputId": "65a12fca-5979-4dfe-e03d-0fa64d331636"
      },
      "outputs": [
        {
          "output_type": "stream",
          "name": "stdout",
          "text": [
            "1\n",
            "1\n",
            "2\n",
            "3\n",
            "3\n",
            "6\n",
            "4\n",
            "10\n",
            "5\n",
            "15\n",
            "6\n",
            "21\n",
            "7\n",
            "28\n",
            "8\n",
            "36\n",
            "9\n",
            "45\n",
            "10\n",
            "55\n",
            "55\n"
          ]
        }
      ],
      "source": [
        "i = 0\n",
        "k = 5\n",
        "\n",
        "S = 0 # Sum of the first 10 integers\n",
        "\n",
        "while True:\n",
        "\n",
        "    i += 1\n",
        "    print(i)\n",
        "    S += i\n",
        "    print(S)\n",
        "    if not i < 10:\n",
        "        break\n",
        "\n",
        "\n",
        "print(S)"
      ]
    },
    {
      "cell_type": "markdown",
      "metadata": {
        "id": "_OsGAZvlPtBd"
      },
      "source": [
        "continue"
      ]
    },
    {
      "cell_type": "code",
      "execution_count": 21,
      "metadata": {
        "colab": {
          "base_uri": "https://localhost:8080/"
        },
        "id": "PEHk_uPqPtBd",
        "outputId": "844e4264-c405-4748-f3ca-f3a17334aa3a"
      },
      "outputs": [
        {
          "output_type": "stream",
          "name": "stdout",
          "text": [
            "1\n",
            "S =  1\n",
            "2\n",
            "3\n",
            "S =  4\n",
            "4\n",
            "5\n",
            "S =  9\n",
            "6\n",
            "7\n",
            "S =  16\n",
            "8\n",
            "9\n",
            "S =  25\n",
            "10\n",
            "25\n"
          ]
        }
      ],
      "source": [
        "i = 0\n",
        "k = 2\n",
        "\n",
        "S = 0 # Sum of the first 100 integers that are not multiples of k\n",
        "\n",
        "while i < 10:\n",
        "\n",
        "    i += 1\n",
        "    print(i)\n",
        "    if not i % k:\n",
        "        continue\n",
        "\n",
        "    S += i\n",
        "    print('S = ', S)\n",
        "\n",
        "\n",
        "print(S)"
      ]
    },
    {
      "cell_type": "code",
      "execution_count": null,
      "metadata": {
        "id": "mrlGnfEdPtBd",
        "outputId": "22ebaa41-9a7a-49c8-b049-1e70ac49d43f"
      },
      "outputs": [
        {
          "name": "stdout",
          "output_type": "stream",
          "text": [
            "1\n",
            "3\n",
            "7\n",
            "8\n",
            "10\n",
            "Nope :(\n",
            "after looping\n"
          ]
        }
      ],
      "source": [
        "# while..else construct\n",
        "\n",
        "numbers = [1, 3, 7, 8, 10]\n",
        "i = 0\n",
        "\n",
        "while i < len(numbers):\n",
        "    print(numbers[i])\n",
        "    if numbers[i] == 5:\n",
        "\n",
        "        print('Found five!')\n",
        "        break\n",
        "\n",
        "    i += 1\n",
        "\n",
        "else: # if break has been never called\n",
        "\n",
        "    print('Nope :(')\n",
        "\n",
        "print('after looping')"
      ]
    },
    {
      "cell_type": "markdown",
      "metadata": {
        "id": "g1zBb24GPtBd"
      },
      "source": [
        "In Python, conditions and loops do not create their own scope!"
      ]
    },
    {
      "cell_type": "markdown",
      "metadata": {
        "id": "RkKo2assPtBd"
      },
      "source": [
        "# 4. For loop\n",
        "\n"
      ]
    },
    {
      "cell_type": "code",
      "execution_count": 22,
      "metadata": {
        "colab": {
          "base_uri": "https://localhost:8080/"
        },
        "id": "EU_qXpR1PtBe",
        "outputId": "5ab2d518-a28a-41f2-8855-37277e3e0ba5"
      },
      "outputs": [
        {
          "output_type": "execute_result",
          "data": {
            "text/plain": [
              "[0, 1, 2, 3, 4, 5, 6, 7, 8, 9]"
            ]
          },
          "metadata": {},
          "execution_count": 22
        }
      ],
      "source": [
        "list(range(10))"
      ]
    },
    {
      "cell_type": "code",
      "execution_count": 23,
      "metadata": {
        "colab": {
          "base_uri": "https://localhost:8080/"
        },
        "id": "7ljpFujKPtBe",
        "outputId": "0ea9f6e0-965e-40cc-8f62-dd7feeb53f81"
      },
      "outputs": [
        {
          "output_type": "stream",
          "name": "stdout",
          "text": [
            "0\n",
            "0\n",
            "1\n",
            "1\n",
            "2\n",
            "4\n",
            "3\n",
            "9\n",
            "4\n",
            "16\n",
            "5\n",
            "25\n",
            "6\n",
            "36\n",
            "7\n",
            "49\n",
            "8\n",
            "64\n",
            "9\n",
            "81\n"
          ]
        }
      ],
      "source": [
        "for i in range(10):\n",
        "    print(i)\n",
        "    print(i ** 2)"
      ]
    },
    {
      "cell_type": "code",
      "execution_count": 24,
      "metadata": {
        "colab": {
          "base_uri": "https://localhost:8080/"
        },
        "id": "ckM9eRDwPtBe",
        "outputId": "50eaf128-1b12-4c74-d1e3-5fc4276c25d9"
      },
      "outputs": [
        {
          "output_type": "stream",
          "name": "stdout",
          "text": [
            "Hello, Alice\n",
            "Hello, Bob\n",
            "Hello, Charley\n",
            "Hello, 0\n",
            "Hello, 1\n",
            "Hello, 42\n",
            "\n",
            "Hello, Alice\n",
            "Hello, Bob\n",
            "Hello, Charley\n",
            "Hello, 0\n",
            "Hello, 1\n",
            "Hello, 42\n",
            "\n",
            "Hello, Alice\n",
            "Hello, Bob\n",
            "Hello, Charley\n",
            "Hello, 0\n",
            "Hello, 1\n",
            "Hello, 42\n",
            "\n",
            "(0, 'Alice')\n",
            "(1, 'Bob')\n",
            "(2, 'Charley')\n",
            "(3, 0)\n",
            "(4, 1)\n",
            "(5, 42)\n"
          ]
        }
      ],
      "source": [
        "NameList = ['Alice', 'Bob', 'Charley', 0, 1, 42]\n",
        "\n",
        "for name in NameList: # Walking through the list of names\n",
        "\n",
        "    print('Hello, ' + str(name))\n",
        "\n",
        "print()\n",
        "\n",
        "for i in range(len(NameList)): # Walking through indices from 0 to L-1\n",
        "\n",
        "    print('Hello, ' + str(NameList[i]))\n",
        "\n",
        "print()\n",
        "\n",
        "for i, name in enumerate(NameList): # Walking through index-element pairs\n",
        "\n",
        "    print('Hello, ' + str(NameList[i]))\n",
        "\n",
        "print()\n",
        "\n",
        "for name in enumerate(NameList): # Walking through the list of tuples idx-name\n",
        "\n",
        "    print(name)"
      ]
    },
    {
      "cell_type": "code",
      "execution_count": 25,
      "metadata": {
        "colab": {
          "base_uri": "https://localhost:8080/"
        },
        "id": "JJQAptStPtBe",
        "outputId": "0504a7d3-0524-466d-80bb-702ad558d282"
      },
      "outputs": [
        {
          "output_type": "stream",
          "name": "stdout",
          "text": [
            "Hello, Alice\n",
            "Hello, Bob\n"
          ]
        }
      ],
      "source": [
        "#break\n",
        "#Let's say hello to just two people\n",
        "\n",
        "NameList = ['Alice', 'Bob', 'Charley']\n",
        "\n",
        "for i in range(len(NameList)):\n",
        "\n",
        "    print('Hello, ' + NameList[i])\n",
        "\n",
        "    if i > 0:\n",
        "\n",
        "        break"
      ]
    },
    {
      "cell_type": "code",
      "execution_count": 26,
      "metadata": {
        "colab": {
          "base_uri": "https://localhost:8080/"
        },
        "id": "xMtK4Yr2PtBf",
        "outputId": "5306df51-bc91-44bf-d99b-60f3f7c52ce3"
      },
      "outputs": [
        {
          "output_type": "stream",
          "name": "stdout",
          "text": [
            "Hello, Alice\n",
            "Hello, Charley\n"
          ]
        }
      ],
      "source": [
        "#continue\n",
        "#Let's not say hello to Bob\n",
        "\n",
        "NameList = ['Alice', 'Bob', 'Charley']\n",
        "\n",
        "for name in NameList:\n",
        "\n",
        "    if name == 'Bob':\n",
        "\n",
        "        continue\n",
        "\n",
        "    print('Hello, ' + name)"
      ]
    },
    {
      "cell_type": "code",
      "execution_count": 28,
      "metadata": {
        "colab": {
          "base_uri": "https://localhost:8080/"
        },
        "id": "z0z_KkVRPtBf",
        "outputId": "36534f11-c6a0-4207-c343-f16bcdb2f089"
      },
      "outputs": [
        {
          "output_type": "stream",
          "name": "stdout",
          "text": [
            "1\n",
            "3\n",
            "7\n",
            "5\n",
            "We found five!\n"
          ]
        }
      ],
      "source": [
        "# for..else construct\n",
        "\n",
        "numbers = [1, 3, 7, 5, 8, 10]\n",
        "\n",
        "for n in numbers:\n",
        "    print(n)\n",
        "    if n == 5:\n",
        "\n",
        "        print('We found five!')\n",
        "        break\n",
        "\n",
        "else: # only if break never happened\n",
        "\n",
        "    print('We haven\\'t found five :(')\n"
      ]
    },
    {
      "cell_type": "code",
      "execution_count": 29,
      "metadata": {
        "id": "w_FDBHT0PtBf"
      },
      "outputs": [],
      "source": [
        "#pass == do nothing\n",
        "for n in (1, 2, 3):\n",
        "    pass"
      ]
    },
    {
      "cell_type": "code",
      "source": [
        "for n in (1, 2, 3):\n",
        "    ..."
      ],
      "metadata": {
        "id": "yep0yJNRSj35"
      },
      "execution_count": 30,
      "outputs": []
    },
    {
      "cell_type": "code",
      "execution_count": 31,
      "metadata": {
        "colab": {
          "base_uri": "https://localhost:8080/",
          "height": 140
        },
        "id": "LITgkH1lPtBg",
        "outputId": "d4bde178-b100-4f89-c5f7-8eac41cf9db0"
      },
      "outputs": [
        {
          "output_type": "error",
          "ename": "SyntaxError",
          "evalue": "ignored",
          "traceback": [
            "\u001b[0;36m  File \u001b[0;32m\"<ipython-input-31-01d52991e58a>\"\u001b[0;36m, line \u001b[0;32m3\u001b[0m\n\u001b[0;31m    \u001b[0m\n\u001b[0m    ^\u001b[0m\n\u001b[0;31mSyntaxError\u001b[0m\u001b[0;31m:\u001b[0m incomplete input\n"
          ]
        }
      ],
      "source": [
        "#That's why we need pass:\n",
        "for n in (1, 2, 3):\n",
        ""
      ]
    },
    {
      "cell_type": "markdown",
      "metadata": {
        "id": "xlPHZrv6PtBg"
      },
      "source": [
        "## list comprehensions\n"
      ]
    },
    {
      "cell_type": "markdown",
      "metadata": {
        "id": "wDGBYRBGPtBh"
      },
      "source": [
        "### Python has a very useful thing called \"list comprehensions\". It looks like this:"
      ]
    },
    {
      "cell_type": "code",
      "execution_count": 32,
      "metadata": {
        "colab": {
          "base_uri": "https://localhost:8080/"
        },
        "id": "mIMkjxe9PtBh",
        "outputId": "0ad25941-dde7-4354-e610-5f5372422810"
      },
      "outputs": [
        {
          "output_type": "stream",
          "name": "stdout",
          "text": [
            "[0, 1, 4, 9, 16, 25, 36, 49, 64, 81]\n"
          ]
        }
      ],
      "source": [
        "lst = []\n",
        "\n",
        "for i in range(10):\n",
        "    lst.append(i ** 2)\n",
        "\n",
        "print(lst)"
      ]
    },
    {
      "cell_type": "code",
      "execution_count": 33,
      "metadata": {
        "colab": {
          "base_uri": "https://localhost:8080/"
        },
        "id": "5cKBBCrbPtBh",
        "outputId": "5009533e-6548-420c-e349-88f583d90096"
      },
      "outputs": [
        {
          "output_type": "execute_result",
          "data": {
            "text/plain": [
              "[0, 1, 4, 9, 16, 25, 36, 49, 64, 81]"
            ]
          },
          "metadata": {},
          "execution_count": 33
        }
      ],
      "source": [
        "lst = [x ** 2 for x in range(10)]\n",
        "lst"
      ]
    },
    {
      "cell_type": "code",
      "execution_count": 34,
      "metadata": {
        "colab": {
          "base_uri": "https://localhost:8080/"
        },
        "id": "IcybCaG-PtBi",
        "outputId": "05e20765-de43-4ff7-bc92-a9ac0a9772ae"
      },
      "outputs": [
        {
          "output_type": "execute_result",
          "data": {
            "text/plain": [
              "[1, 9, 25, 49, 81]"
            ]
          },
          "metadata": {},
          "execution_count": 34
        }
      ],
      "source": [
        "#In general: [expression for all x from list/iterator such that ...]\n",
        "\n",
        "var_lst = [x**2 for x in range(10) if x%2 != 0] # List of squares of odd numbers less than 10\n",
        "var_lst"
      ]
    },
    {
      "cell_type": "code",
      "execution_count": 35,
      "metadata": {
        "colab": {
          "base_uri": "https://localhost:8080/"
        },
        "id": "A1J2DbykPtBi",
        "outputId": "debfcdc9-90e4-4497-d881-c04f307d0570"
      },
      "outputs": [
        {
          "output_type": "execute_result",
          "data": {
            "text/plain": [
              "[(4, 2), (6, 2), (6, 3), (8, 2), (8, 4), (9, 3)]"
            ]
          },
          "metadata": {},
          "execution_count": 35
        }
      ],
      "source": [
        "# List comprehension can work with nested loops\n",
        "\n",
        "sorted([(y, x) for x in range(2, 10) for y in range(x+1, 10) if y%x == 0])"
      ]
    },
    {
      "cell_type": "code",
      "execution_count": 36,
      "metadata": {
        "colab": {
          "base_uri": "https://localhost:8080/"
        },
        "id": "yQzOoh9aPtBj",
        "outputId": "7a25c5b0-697a-40d9-a566-d44fb40b32cb"
      },
      "outputs": [
        {
          "output_type": "execute_result",
          "data": {
            "text/plain": [
              "[[0, 0, 0], [0, 0, 0], [0, 0, 0]]"
            ]
          },
          "metadata": {},
          "execution_count": 36
        }
      ],
      "source": [
        "# For known reasons (which ones?) instead of:\n",
        "[[0]*3]*3\n",
        "\n",
        "# you better use:\n",
        "[[0]*3 for i in range(3)]"
      ]
    },
    {
      "cell_type": "code",
      "execution_count": 37,
      "metadata": {
        "colab": {
          "base_uri": "https://localhost:8080/"
        },
        "id": "K82QUX5cPtBj",
        "outputId": "7a6612c9-adbd-457d-8728-91fd791bf578"
      },
      "outputs": [
        {
          "output_type": "execute_result",
          "data": {
            "text/plain": [
              "[[0, 1, 4, 9, 16], [0, 1, 4, 9, 16], [0, 1, 4, 9, 16]]"
            ]
          },
          "metadata": {},
          "execution_count": 37
        }
      ],
      "source": [
        "[[j**2 for j in range(5)] for i in range(3)]"
      ]
    },
    {
      "cell_type": "code",
      "execution_count": 38,
      "metadata": {
        "colab": {
          "base_uri": "https://localhost:8080/"
        },
        "id": "BRO3_CeyPtBk",
        "outputId": "3e8b0644-8032-419b-949c-8aebb234040c"
      },
      "outputs": [
        {
          "output_type": "stream",
          "name": "stdout",
          "text": [
            "[0, 1, 4, 9, 16]\n",
            "[0, 1, 4, 9, 16]\n",
            "[0, 1, 4, 9, 16]\n"
          ]
        }
      ],
      "source": [
        "print(*[[j**2 for j in range(5)] for i in range(3)], sep='\\n')"
      ]
    },
    {
      "cell_type": "markdown",
      "metadata": {
        "id": "A08NXvQcPtBk"
      },
      "source": [
        "## generator expressions\n"
      ]
    },
    {
      "cell_type": "code",
      "execution_count": 40,
      "metadata": {
        "colab": {
          "base_uri": "https://localhost:8080/"
        },
        "id": "PGhTUosHPtBk",
        "outputId": "077f394b-9261-4542-d1e5-ba2c62d5c43a"
      },
      "outputs": [
        {
          "output_type": "execute_result",
          "data": {
            "text/plain": [
              "285"
            ]
          },
          "metadata": {},
          "execution_count": 40
        }
      ],
      "source": [
        "# Sometimes it's better to create a generator instead of a list\n",
        "# in order to not store the whole sequence in memory\n",
        "# but instead to iterate elements one by one when you need them\n",
        "\n",
        "\n",
        "sum([x*x for x in range(10)]) # list comprehension\n",
        "sum(x*x for x in range(10))   # generator expression\n",
        "\n",
        "# Find the difference!\n",
        "\n",
        "# type([x*x for x in range(10)])\n",
        "# type(x*x for x in range(10))"
      ]
    },
    {
      "cell_type": "code",
      "execution_count": null,
      "metadata": {
        "id": "lTU0Ll1FPtBk"
      },
      "outputs": [],
      "source": []
    }
  ],
  "metadata": {
    "kernelspec": {
      "display_name": "Python 3 (ipykernel)",
      "language": "python",
      "name": "python3"
    },
    "language_info": {
      "codemirror_mode": {
        "name": "ipython",
        "version": 3
      },
      "file_extension": ".py",
      "mimetype": "text/x-python",
      "name": "python",
      "nbconvert_exporter": "python",
      "pygments_lexer": "ipython3",
      "version": "3.8.12"
    },
    "colab": {
      "provenance": []
    }
  },
  "nbformat": 4,
  "nbformat_minor": 0
}