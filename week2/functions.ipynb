{
  "cells": [
    {
      "cell_type": "markdown",
      "metadata": {
        "id": "rf9gCT4mTEMU"
      },
      "source": [
        "# Functions, generators, scope, closures, decorators\n",
        "### Contents\n",
        "\n",
        "* Functions basics\n",
        "* Default arguments\n",
        "* Variable number of arguments\n",
        "* Recursion\n",
        "* Anonymous functions (lambdas)"
      ]
    },
    {
      "cell_type": "code",
      "source": [
        "a = input(\"input something: \")"
      ],
      "metadata": {
        "colab": {
          "base_uri": "https://localhost:8080/"
        },
        "id": "IgPoopDFmDpF",
        "outputId": "2347cbcc-5bda-4510-8663-65c0e621a2c4"
      },
      "execution_count": null,
      "outputs": [
        {
          "name": "stdout",
          "output_type": "stream",
          "text": [
            "input something: something\n"
          ]
        }
      ]
    },
    {
      "cell_type": "code",
      "source": [
        "a"
      ],
      "metadata": {
        "colab": {
          "base_uri": "https://localhost:8080/",
          "height": 35
        },
        "id": "QjN0c8jYmJH0",
        "outputId": "561aa3a9-19e2-4427-d4fb-926928f3f7ad"
      },
      "execution_count": null,
      "outputs": [
        {
          "output_type": "execute_result",
          "data": {
            "text/plain": [
              "'something'"
            ],
            "application/vnd.google.colaboratory.intrinsic+json": {
              "type": "string"
            }
          },
          "metadata": {},
          "execution_count": 2
        }
      ]
    },
    {
      "cell_type": "code",
      "source": [
        "print(\"print function\")"
      ],
      "metadata": {
        "colab": {
          "base_uri": "https://localhost:8080/"
        },
        "id": "fSI0uO86mKTA",
        "outputId": "a26af09d-2e7b-49d7-8a63-de7574bbc1c7"
      },
      "execution_count": null,
      "outputs": [
        {
          "output_type": "stream",
          "name": "stdout",
          "text": [
            "print function\n"
          ]
        }
      ]
    },
    {
      "cell_type": "code",
      "execution_count": null,
      "metadata": {
        "colab": {
          "base_uri": "https://localhost:8080/"
        },
        "id": "4DzS3DwnTEMV",
        "outputId": "a7f0e658-ec54-435a-baaa-11a6cdacfdf0"
      },
      "outputs": [
        {
          "output_type": "execute_result",
          "data": {
            "text/plain": [
              "5"
            ]
          },
          "metadata": {},
          "execution_count": 1
        }
      ],
      "source": [
        "abs(-5)"
      ]
    },
    {
      "cell_type": "code",
      "execution_count": null,
      "metadata": {
        "colab": {
          "base_uri": "https://localhost:8080/"
        },
        "id": "L-DfFNDHTEMW",
        "outputId": "9d44ed66-66bc-4f77-b073-f4ce4686879a"
      },
      "outputs": [
        {
          "output_type": "execute_result",
          "data": {
            "text/plain": [
              "(7, 4)"
            ]
          },
          "metadata": {},
          "execution_count": 4
        }
      ],
      "source": [
        "len('asdfghj'), len([1,2,3,4])"
      ]
    },
    {
      "cell_type": "code",
      "source": [
        "# len internally calls .__len__ method\n",
        "\n",
        "[1,2,3,4].__len__()"
      ],
      "metadata": {
        "colab": {
          "base_uri": "https://localhost:8080/"
        },
        "id": "8kt9BqqEmSP-",
        "outputId": "e386c310-4729-4888-c208-947b12c0b360"
      },
      "execution_count": null,
      "outputs": [
        {
          "output_type": "execute_result",
          "data": {
            "text/plain": [
              "4"
            ]
          },
          "metadata": {},
          "execution_count": 6
        }
      ]
    },
    {
      "cell_type": "code",
      "execution_count": null,
      "metadata": {
        "id": "Bx0tgVboTEMX"
      },
      "outputs": [],
      "source": [
        "def print_type_methods(x):\n",
        "    print(*[name for name in dir(x) if (not name.startswith('_'))], sep='\\n')"
      ]
    },
    {
      "cell_type": "code",
      "execution_count": null,
      "metadata": {
        "colab": {
          "base_uri": "https://localhost:8080/"
        },
        "id": "omOJZBfiTEMX",
        "outputId": "d19bc38d-c9b5-4b98-a89a-070999fc5e95"
      },
      "outputs": [
        {
          "output_type": "stream",
          "name": "stdout",
          "text": [
            "append\n",
            "clear\n",
            "copy\n",
            "count\n",
            "extend\n",
            "index\n",
            "insert\n",
            "pop\n",
            "remove\n",
            "reverse\n",
            "sort\n"
          ]
        }
      ],
      "source": [
        "print_type_methods(list)"
      ]
    },
    {
      "cell_type": "code",
      "execution_count": null,
      "metadata": {
        "colab": {
          "base_uri": "https://localhost:8080/"
        },
        "id": "Sks9-cOATEMX",
        "outputId": "2452176a-3936-4045-a0f3-1e17733ee054"
      },
      "outputs": [
        {
          "output_type": "stream",
          "name": "stdout",
          "text": [
            "add\n",
            "clear\n",
            "copy\n",
            "difference\n",
            "difference_update\n",
            "discard\n",
            "intersection\n",
            "intersection_update\n",
            "isdisjoint\n",
            "issubset\n",
            "issuperset\n",
            "pop\n",
            "remove\n",
            "symmetric_difference\n",
            "symmetric_difference_update\n",
            "union\n",
            "update\n"
          ]
        }
      ],
      "source": [
        "print_type_methods(set)"
      ]
    },
    {
      "cell_type": "markdown",
      "metadata": {
        "id": "MevNPwYWTEMY"
      },
      "source": [
        "## Function declaration and calling"
      ]
    },
    {
      "cell_type": "code",
      "execution_count": null,
      "metadata": {
        "colab": {
          "base_uri": "https://localhost:8080/"
        },
        "id": "UhUWn9zhTEMY",
        "outputId": "adf8f6a9-0222-4231-cbcd-b94c561d9138"
      },
      "outputs": [
        {
          "output_type": "stream",
          "name": "stdout",
          "text": [
            "a = 1 b = bbb\n",
            "this is the body of the function\n",
            "this is the body of the function too\n",
            "\n",
            "a = 42 b = 4242\n",
            "this is the body of the function\n",
            "this is the body of the function too\n"
          ]
        }
      ],
      "source": [
        "def foo(a, b):\n",
        "    print('a =', a, 'b =', b)\n",
        "    print('this is the body of the function')\n",
        "    print('this is the body of the function too')\n",
        "\n",
        "foo(1, 'bbb')\n",
        "\n",
        "print()\n",
        "\n",
        "foo(42, '4242')"
      ]
    },
    {
      "cell_type": "code",
      "execution_count": null,
      "metadata": {
        "id": "C39RnBd9TEMZ"
      },
      "outputs": [],
      "source": [
        "def procedure():\n",
        "    print('the message')"
      ]
    },
    {
      "cell_type": "code",
      "execution_count": null,
      "metadata": {
        "colab": {
          "base_uri": "https://localhost:8080/"
        },
        "id": "VDfY5K6sTEMZ",
        "outputId": "92a5575b-fac0-4587-a308-b9ba8e0eace1"
      },
      "outputs": [
        {
          "output_type": "stream",
          "name": "stdout",
          "text": [
            "the message\n",
            "the message\n",
            "the message\n"
          ]
        }
      ],
      "source": [
        "procedure()\n",
        "procedure()\n",
        "procedure()"
      ]
    },
    {
      "cell_type": "code",
      "source": [
        "print(type(procedure))"
      ],
      "metadata": {
        "colab": {
          "base_uri": "https://localhost:8080/"
        },
        "id": "OTE29qY-nOrr",
        "outputId": "5142888a-acf4-4040-8451-14651c53e143"
      },
      "execution_count": null,
      "outputs": [
        {
          "output_type": "stream",
          "name": "stdout",
          "text": [
            "<class 'function'>\n"
          ]
        }
      ]
    },
    {
      "cell_type": "markdown",
      "metadata": {
        "id": "pK9CL03MTEMZ"
      },
      "source": [
        "### Default arguments"
      ]
    },
    {
      "cell_type": "code",
      "execution_count": null,
      "metadata": {
        "colab": {
          "base_uri": "https://localhost:8080/"
        },
        "id": "LTammSimTEMa",
        "outputId": "03b83e8f-d510-4c62-ec4a-173a1e6557e5"
      },
      "outputs": [
        {
          "output_type": "stream",
          "name": "stdout",
          "text": [
            "a = 1 b = b c = 0.5 d = (None,)\n",
            "a = 1 b = b c = 0.3 d = (None,)\n",
            "a = 1 b = b c = 0.5 d = d\n",
            "a = 1 b = b c = 0.3 d = d\n",
            "a = 1 b = b c = 0.3 d = d\n"
          ]
        }
      ],
      "source": [
        "def foo(a, b, c=0.5, d=(None,)):\n",
        "    print('a =', a, 'b =', b, 'c =', c, 'd =', d)\n",
        "\n",
        "# only positional args\n",
        "foo(1, 'b')\n",
        "foo(1, 'b', 0.3)\n",
        "# d is a keyword argument\n",
        "foo(1, 'b', d='d')\n",
        "foo(1, d='d', c=0.3, b='b')\n",
        "# only keyword args\n",
        "foo(a=1, d='d', c=0.3, b='b')"
      ]
    },
    {
      "cell_type": "code",
      "source": [
        "a = [1,2,3]\n",
        "\n",
        "help(a.append)"
      ],
      "metadata": {
        "colab": {
          "base_uri": "https://localhost:8080/"
        },
        "id": "oZUQMdfpoFnK",
        "outputId": "be2375bd-592a-401c-9a44-7072cf95db2e"
      },
      "execution_count": null,
      "outputs": [
        {
          "output_type": "stream",
          "name": "stdout",
          "text": [
            "Help on built-in function append:\n",
            "\n",
            "append(object, /) method of builtins.list instance\n",
            "    Append object to the end of the list.\n",
            "\n"
          ]
        }
      ]
    },
    {
      "cell_type": "code",
      "source": [
        "a.append(object=1)"
      ],
      "metadata": {
        "colab": {
          "base_uri": "https://localhost:8080/",
          "height": 174
        },
        "id": "AvcjKBr0oPSn",
        "outputId": "57bc332a-46b8-4fda-a9e3-b96e3ee570d3"
      },
      "execution_count": null,
      "outputs": [
        {
          "output_type": "error",
          "ename": "TypeError",
          "evalue": "ignored",
          "traceback": [
            "\u001b[0;31m---------------------------------------------------------------------------\u001b[0m",
            "\u001b[0;31mTypeError\u001b[0m                                 Traceback (most recent call last)",
            "\u001b[0;32m<ipython-input-30-d750f2a78672>\u001b[0m in \u001b[0;36m<cell line: 1>\u001b[0;34m()\u001b[0m\n\u001b[0;32m----> 1\u001b[0;31m \u001b[0ma\u001b[0m\u001b[0;34m.\u001b[0m\u001b[0mappend\u001b[0m\u001b[0;34m(\u001b[0m\u001b[0mobject\u001b[0m\u001b[0;34m=\u001b[0m\u001b[0;36m1\u001b[0m\u001b[0;34m)\u001b[0m\u001b[0;34m\u001b[0m\u001b[0;34m\u001b[0m\u001b[0m\n\u001b[0m",
            "\u001b[0;31mTypeError\u001b[0m: list.append() takes no keyword arguments"
          ]
        }
      ]
    },
    {
      "cell_type": "code",
      "source": [
        "# example with positional-only\n",
        "def foo(a, b, /, c=0.5, d=(None,)):\n",
        "    print('a =', a, 'b =', b, 'c =', c, 'd =', d)\n",
        "\n",
        "foo(1, \"b\", d='d', c=0.3)\n",
        "# foo(1, b=\"b\", d='d', c=0.3)"
      ],
      "metadata": {
        "colab": {
          "base_uri": "https://localhost:8080/"
        },
        "id": "1VWz4fX_oYn6",
        "outputId": "a6895424-e07c-40eb-cf8c-5567d19b01b4"
      },
      "execution_count": null,
      "outputs": [
        {
          "output_type": "stream",
          "name": "stdout",
          "text": [
            "a = 1 b = b c = 0.3 d = d\n"
          ]
        }
      ]
    },
    {
      "cell_type": "code",
      "source": [
        "# example with keyword-only\n",
        "def foo(a, b, *, c=0.5, d=(None,)):\n",
        "    print('a =', a, 'b =', b, 'c =', c, 'd =', d)\n",
        "\n",
        "foo(1, \"b\", d='d', c=0.3)\n",
        "foo(1, b=\"b\", d='d', c=0.3)\n",
        "# foo(1, \"b\", 0.3, d='d',)"
      ],
      "metadata": {
        "colab": {
          "base_uri": "https://localhost:8080/"
        },
        "id": "zyXqSW15TbbX",
        "outputId": "72243222-020c-451f-ee97-9a0460bbf47a"
      },
      "execution_count": null,
      "outputs": [
        {
          "output_type": "stream",
          "name": "stdout",
          "text": [
            "a = 1 b = b c = 0.3 d = d\n",
            "a = 1 b = b c = 0.3 d = d\n"
          ]
        }
      ]
    },
    {
      "cell_type": "code",
      "source": [
        "def foo(a, /, b, *, c=0.5, d=(None,)):\n",
        "    print('a =', a, 'b =', b, 'c =', c, 'd =', d)\n",
        "\n",
        "foo(1, \"b\", d='d', c=0.3)\n",
        "foo(1, b=\"b\", d='d', c=0.3)"
      ],
      "metadata": {
        "colab": {
          "base_uri": "https://localhost:8080/"
        },
        "id": "MMRk0KIsoxVK",
        "outputId": "e13596a3-c268-4e1b-f932-a063e748cd6f"
      },
      "execution_count": null,
      "outputs": [
        {
          "output_type": "stream",
          "name": "stdout",
          "text": [
            "a = 1 b = b c = 0.3 d = d\n",
            "a = 1 b = b c = 0.3 d = d\n"
          ]
        }
      ]
    },
    {
      "cell_type": "markdown",
      "metadata": {
        "id": "a7FDxleKTEMa"
      },
      "source": [
        "### call-by-value (immutable arguments) vs. call-by-reference (mutable arguments)"
      ]
    },
    {
      "cell_type": "code",
      "execution_count": null,
      "metadata": {
        "id": "x7u2_NJpTEMa"
      },
      "outputs": [],
      "source": [
        "def get_my_hero_team(team, number):\n",
        "    number = 10\n",
        "    team['Chuck'] = 'Norris'\n",
        "    team['Sylvester'] = 'Stallone'"
      ]
    },
    {
      "cell_type": "code",
      "execution_count": null,
      "metadata": {
        "colab": {
          "base_uri": "https://localhost:8080/"
        },
        "id": "l0gZtWTGTEMb",
        "outputId": "20b60756-20e0-4ca0-99f6-267be9d933bb"
      },
      "outputs": [
        {
          "output_type": "stream",
          "name": "stdout",
          "text": [
            "{'Bruce': 'Willis', 'Chuck': 'Lorre'}\n"
          ]
        }
      ],
      "source": [
        "number = 5\n",
        "hero_team = {'Bruce': 'Willis', 'Chuck': 'Lorre'}\n",
        "print(hero_team)\n",
        "get_my_hero_team(hero_team, number)"
      ]
    },
    {
      "cell_type": "code",
      "execution_count": null,
      "metadata": {
        "colab": {
          "base_uri": "https://localhost:8080/"
        },
        "id": "p2tS70p9TEMb",
        "outputId": "bd6a8d4a-88db-4922-a341-c221aa016d62"
      },
      "outputs": [
        {
          "output_type": "stream",
          "name": "stdout",
          "text": [
            "Bruce Willis\n",
            "Chuck Norris\n",
            "Sylvester Stallone\n",
            "5\n"
          ]
        }
      ],
      "source": [
        "[print(*item) for item in hero_team.items()]\n",
        "print(number)"
      ]
    },
    {
      "cell_type": "code",
      "execution_count": null,
      "metadata": {
        "id": "H7kA33tKTEMb"
      },
      "outputs": [],
      "source": [
        "def one_more_function(new_element, lst=[]):\n",
        "    lst.append(new_element)\n",
        "    return lst"
      ]
    },
    {
      "cell_type": "code",
      "execution_count": null,
      "metadata": {
        "colab": {
          "base_uri": "https://localhost:8080/"
        },
        "id": "82u5TvEaTEMc",
        "outputId": "76f015a1-7300-4485-be69-c5b450458bcf"
      },
      "outputs": [
        {
          "output_type": "execute_result",
          "data": {
            "text/plain": [
              "[42, 42, 42, 42]"
            ]
          },
          "metadata": {},
          "execution_count": 58
        }
      ],
      "source": [
        "lst1 = one_more_function(42)\n",
        "lst1"
      ]
    },
    {
      "cell_type": "code",
      "execution_count": null,
      "metadata": {
        "id": "uVR32yo8TEMc"
      },
      "outputs": [],
      "source": [
        "def func(x=None):\n",
        "    if x is not None:\n",
        "        if x > 0:\n",
        "            return len(str(x))\n",
        "\n",
        "        if x == 0:\n",
        "            return \"\"\n",
        "\n",
        "        if x < 0:\n",
        "            return abs(x)\n",
        "\n",
        "    return 'smth else'"
      ]
    },
    {
      "cell_type": "code",
      "execution_count": null,
      "metadata": {
        "colab": {
          "base_uri": "https://localhost:8080/"
        },
        "id": "SlEdPgCPTEMc",
        "outputId": "723fd1d1-e78d-4580-9331-c888c8c9b14c"
      },
      "outputs": [
        {
          "output_type": "stream",
          "name": "stdout",
          "text": [
            "42\n",
            "\n",
            "2\n",
            "smth else\n"
          ]
        }
      ],
      "source": [
        "print(func(-42))\n",
        "print(func(0))\n",
        "print(func(42))\n",
        "print(func())"
      ]
    },
    {
      "cell_type": "markdown",
      "metadata": {
        "id": "YCpaItlaTEMd"
      },
      "source": [
        "### Variable number of arguments"
      ]
    },
    {
      "cell_type": "code",
      "source": [
        "print(\"1\", \"2\", \"3\", \"4\", 5)"
      ],
      "metadata": {
        "colab": {
          "base_uri": "https://localhost:8080/"
        },
        "id": "hddJULtfqsXt",
        "outputId": "2431ae56-c32f-43d2-c945-c483ab608bc8"
      },
      "execution_count": null,
      "outputs": [
        {
          "output_type": "stream",
          "name": "stdout",
          "text": [
            "1 2 3 4 5\n"
          ]
        }
      ]
    },
    {
      "cell_type": "code",
      "execution_count": null,
      "metadata": {
        "colab": {
          "base_uri": "https://localhost:8080/"
        },
        "id": "vbPyL3rwTEMd",
        "outputId": "9fa74710-fb43-4518-9d83-85c7dcf182d5"
      },
      "outputs": [
        {
          "output_type": "stream",
          "name": "stdout",
          "text": [
            "a = [1, 'b'] args = ()\n",
            "a = 1 args = ('b',)\n",
            "a = 1 args = ('b',)\n",
            "a = 1 args = ('b', 0.5)\n",
            "a = 1 args = ('b', [1, 2], 0.5)\n",
            "a = 1 args = ('b', [1, 2], 0.5)\n"
          ]
        }
      ],
      "source": [
        "def foo(a, *args):\n",
        "    print('a =', a, 'args =', args)\n",
        "\n",
        "array = [1, 'b']\n",
        "foo(array)\n",
        "foo(*array)  # foo(array[0], array[1]) is identical\n",
        "foo(array[0], array[1])\n",
        "foo(1, 'b', 0.5)\n",
        "foo(*[1, 'b', [1, 2], 0.5])\n",
        "foo(1, 'b', [1, 2], 0.5)"
      ]
    },
    {
      "cell_type": "code",
      "execution_count": null,
      "metadata": {
        "colab": {
          "base_uri": "https://localhost:8080/"
        },
        "id": "p4wGcdcfTEMd",
        "outputId": "cb3b636c-c5a8-43ae-d654-4a1e2ba2d53d"
      },
      "outputs": [
        {
          "output_type": "stream",
          "name": "stdout",
          "text": [
            "a = 1 b = b args = ([1, 2], 0.5)\n",
            "a = 1 b = abc args = ([1, 2], 0.5)\n"
          ]
        }
      ],
      "source": [
        "def foo(a, *args, b):\n",
        "    print('a =', a, 'b =', b, 'args =', args)\n",
        "\n",
        "foo(1, [1, 2], 0.5, b='b')\n",
        "foo(1, [1, 2], 0.5, b='abc')"
      ]
    },
    {
      "cell_type": "code",
      "execution_count": null,
      "metadata": {
        "colab": {
          "base_uri": "https://localhost:8080/"
        },
        "id": "kc1YEz2xTEMe",
        "outputId": "f1193e61-242e-4b94-87c1-22ae26f79930"
      },
      "outputs": [
        {
          "output_type": "stream",
          "name": "stdout",
          "text": [
            "a = 1 b = 0.5 kwargs = {'c': 'c'}\n",
            "<class 'dict'>\n",
            "a = 1 b = b kwargs = {'c': 'c'}\n",
            "<class 'dict'>\n",
            "a = 1 b = b kwargs = {'c': 'c', 'd': 'd'}\n",
            "<class 'dict'>\n"
          ]
        }
      ],
      "source": [
        "def foo(a, b=0.5, **kwargs):\n",
        "    print('a =', a, 'b =', b, 'kwargs =', kwargs)\n",
        "    print(type(kwargs))\n",
        "\n",
        "foo(1, c='c')\n",
        "foo(1, c='c', b='b')\n",
        "foo(1, 'b', c='c', d='d')"
      ]
    },
    {
      "cell_type": "code",
      "execution_count": null,
      "metadata": {
        "colab": {
          "base_uri": "https://localhost:8080/"
        },
        "id": "y3QuvMRaTEMe",
        "outputId": "df176853-f835-4416-92ce-c90e71c540f8"
      },
      "outputs": [
        {
          "output_type": "stream",
          "name": "stdout",
          "text": [
            "args = (1, 'a') kwargs = {'x': 0.5, 'y': [3, 4]}\n",
            "args = (1, 'a') kwargs = {'x': 0.5, 'y': [3, 4]}\n"
          ]
        }
      ],
      "source": [
        "def foo(*args, **kwargs):\n",
        "    print('args =', args, 'kwargs =', kwargs)\n",
        "\n",
        "foo(1, 'a', x=0.5, y=[3, 4])\n",
        "foo(*[1, 'a'], **{'x' : 0.5, 'y': [3, 4]})"
      ]
    },
    {
      "cell_type": "markdown",
      "metadata": {
        "id": "BXU7c8kATEMf"
      },
      "source": [
        "### Recursion"
      ]
    },
    {
      "cell_type": "code",
      "execution_count": null,
      "metadata": {
        "id": "_dQeAAZxTEMf"
      },
      "outputs": [],
      "source": [
        "def easy_sort(x):\n",
        "    if not x:\n",
        "        return x\n",
        "    print(x)\n",
        "    first = min(x)\n",
        "    x.remove(first)\n",
        "    return [first] + easy_sort(x)"
      ]
    },
    {
      "cell_type": "code",
      "execution_count": null,
      "metadata": {
        "colab": {
          "base_uri": "https://localhost:8080/"
        },
        "id": "vSFwl1h0TEMf",
        "outputId": "915c672f-52a6-4930-a21e-e4cc8a2665e5"
      },
      "outputs": [
        {
          "output_type": "stream",
          "name": "stdout",
          "text": [
            "[4, 2, 3, 1, 7, 5]\n",
            "[4, 2, 3, 7, 5]\n",
            "[4, 3, 7, 5]\n",
            "[4, 7, 5]\n",
            "[7, 5]\n",
            "[7]\n"
          ]
        },
        {
          "output_type": "execute_result",
          "data": {
            "text/plain": [
              "[1, 2, 3, 4, 5, 7]"
            ]
          },
          "metadata": {},
          "execution_count": 74
        }
      ],
      "source": [
        "easy_sort([4, 2, 3, 1, 7, 5])"
      ]
    },
    {
      "cell_type": "markdown",
      "metadata": {
        "id": "wFbeFIl-TEMg"
      },
      "source": [
        "## Anonymous functions (Lambdas)"
      ]
    },
    {
      "cell_type": "code",
      "execution_count": null,
      "metadata": {
        "colab": {
          "base_uri": "https://localhost:8080/"
        },
        "id": "brhL7qy9TEMg",
        "outputId": "57ea8a64-3809-472a-b4ba-95f700a894ba"
      },
      "outputs": [
        {
          "output_type": "execute_result",
          "data": {
            "text/plain": [
              "function"
            ]
          },
          "metadata": {},
          "execution_count": 75
        }
      ],
      "source": [
        "type(lambda x, y, z : print(x, y, z))"
      ]
    },
    {
      "cell_type": "code",
      "execution_count": null,
      "metadata": {
        "colab": {
          "base_uri": "https://localhost:8080/",
          "height": 35
        },
        "id": "BXnMLWzkTEMg",
        "outputId": "2cb55056-d42c-440f-c0c5-edbf29b07e85"
      },
      "outputs": [
        {
          "output_type": "execute_result",
          "data": {
            "text/plain": [
              "'gergerggergerg'"
            ],
            "application/vnd.google.colaboratory.intrinsic+json": {
              "type": "string"
            }
          },
          "metadata": {},
          "execution_count": 77
        }
      ],
      "source": [
        "a = lambda x : x * 2\n",
        "a('gergerg')"
      ]
    },
    {
      "cell_type": "code",
      "execution_count": null,
      "metadata": {
        "colab": {
          "base_uri": "https://localhost:8080/"
        },
        "id": "IYOlP7TaTEMg",
        "outputId": "c85a5ec3-e701-460c-c017-cb2684996e93"
      },
      "outputs": [
        {
          "output_type": "execute_result",
          "data": {
            "text/plain": [
              "84"
            ]
          },
          "metadata": {},
          "execution_count": 78
        }
      ],
      "source": [
        "f = lambda x, y: x + y\n",
        "f(42, 42)"
      ]
    },
    {
      "cell_type": "code",
      "execution_count": null,
      "metadata": {
        "colab": {
          "base_uri": "https://localhost:8080/"
        },
        "id": "rypCvFBVTEMh",
        "outputId": "f1fbf573-7240-4edb-cf87-a60ecad03198"
      },
      "outputs": [
        {
          "output_type": "execute_result",
          "data": {
            "text/plain": [
              "<map at 0x7eeba87492d0>"
            ]
          },
          "metadata": {},
          "execution_count": 80
        }
      ],
      "source": [
        "# map(func, iterable)\n",
        "\n",
        "# # the example of how map function works\n",
        "# result = []\n",
        "# for elem in iterable:\n",
        "#   result.append(func(elem))\n",
        "\n",
        "map(lambda x : x ** 2, range(10))"
      ]
    },
    {
      "cell_type": "code",
      "execution_count": null,
      "metadata": {
        "colab": {
          "base_uri": "https://localhost:8080/"
        },
        "id": "l6JNkbMKTEMh",
        "outputId": "fa223064-418f-45ad-8594-80d3481cb38a"
      },
      "outputs": [
        {
          "output_type": "execute_result",
          "data": {
            "text/plain": [
              "[0, 1, 4, 9, 16, 25, 36, 49, 64, 81]"
            ]
          },
          "metadata": {},
          "execution_count": 81
        }
      ],
      "source": [
        "list(map(lambda x : x ** 2, range(10)))"
      ]
    },
    {
      "cell_type": "code",
      "execution_count": null,
      "metadata": {
        "colab": {
          "base_uri": "https://localhost:8080/"
        },
        "id": "M118kJhlTEMh",
        "outputId": "e3a22a0f-7569-47a9-f67f-807d7aa0129b"
      },
      "outputs": [
        {
          "output_type": "execute_result",
          "data": {
            "text/plain": [
              "(0, 1, 4, 9, 16, 25, 36, 49, 64, 81)"
            ]
          },
          "metadata": {},
          "execution_count": 82
        }
      ],
      "source": [
        "tuple(map(lambda x : x ** 2, range(10)))"
      ]
    },
    {
      "cell_type": "code",
      "source": [
        "sorted([1, 2, 3, 4])"
      ],
      "metadata": {
        "colab": {
          "base_uri": "https://localhost:8080/"
        },
        "id": "jSJ7gT3DtZO5",
        "outputId": "88438e1c-1cc8-4d6d-afab-9f7032446464"
      },
      "execution_count": null,
      "outputs": [
        {
          "output_type": "execute_result",
          "data": {
            "text/plain": [
              "[1, 2, 3, 4]"
            ]
          },
          "metadata": {},
          "execution_count": 86
        }
      ]
    },
    {
      "cell_type": "code",
      "source": [
        "sorted([1, 2, 3, 4], key=lambda x : x)  # elem_i, elem_j: key(elem_i) <? key(elem_j)"
      ],
      "metadata": {
        "colab": {
          "base_uri": "https://localhost:8080/"
        },
        "id": "UPEPG8SYtI6N",
        "outputId": "a68377e1-f7e7-47cb-b70d-5a80ea130970"
      },
      "execution_count": null,
      "outputs": [
        {
          "output_type": "execute_result",
          "data": {
            "text/plain": [
              "[1, 2, 3, 4]"
            ]
          },
          "metadata": {},
          "execution_count": 87
        }
      ]
    },
    {
      "cell_type": "code",
      "source": [
        "sorted([1, 2, 3, 4], key=lambda x : -x)"
      ],
      "metadata": {
        "id": "fugWbfvBtfWa",
        "outputId": "a1585a17-addc-474d-f82a-77a2f3d8aabe",
        "colab": {
          "base_uri": "https://localhost:8080/"
        }
      },
      "execution_count": null,
      "outputs": [
        {
          "output_type": "execute_result",
          "data": {
            "text/plain": [
              "[4, 3, 2, 1]"
            ]
          },
          "metadata": {},
          "execution_count": 90
        }
      ]
    },
    {
      "cell_type": "code",
      "execution_count": null,
      "metadata": {
        "colab": {
          "base_uri": "https://localhost:8080/"
        },
        "id": "1ebbwXc_TEMh",
        "outputId": "46c77e04-3887-4154-d98f-7875acff2af3"
      },
      "outputs": [
        {
          "output_type": "execute_result",
          "data": {
            "text/plain": [
              "[4, 3, 2, 1]"
            ]
          },
          "metadata": {},
          "execution_count": 88
        }
      ],
      "source": [
        "sorted([1, 2, 3, 4], key=lambda x : 1 / x)"
      ]
    },
    {
      "cell_type": "code",
      "execution_count": null,
      "metadata": {
        "colab": {
          "base_uri": "https://localhost:8080/"
        },
        "id": "6__dUl6WTEMh",
        "outputId": "b3a77c27-47f2-48c2-d9a0-06f4c4718798"
      },
      "outputs": [
        {
          "output_type": "execute_result",
          "data": {
            "text/plain": [
              "[-1, -2, 4, 3]"
            ]
          },
          "metadata": {},
          "execution_count": 89
        }
      ],
      "source": [
        "sorted([-1, -2, 3, 4], key=lambda x : 1 / x)"
      ]
    },
    {
      "cell_type": "markdown",
      "source": [
        "# Closures"
      ],
      "metadata": {
        "id": "HxeJdIamKjy7"
      }
    },
    {
      "cell_type": "code",
      "source": [
        "def foo(a):\n",
        "    # `a` is a local variable\n",
        "    print(a)\n",
        "\n",
        "\n",
        "foo(123)\n",
        "print(a)"
      ],
      "metadata": {
        "colab": {
          "base_uri": "https://localhost:8080/",
          "height": 225
        },
        "id": "kPSIJwVidG9J",
        "outputId": "a2f57e18-aecf-4c66-efca-4e73310851cc"
      },
      "execution_count": 7,
      "outputs": [
        {
          "output_type": "stream",
          "name": "stdout",
          "text": [
            "123\n"
          ]
        },
        {
          "output_type": "error",
          "ename": "NameError",
          "evalue": "ignored",
          "traceback": [
            "\u001b[0;31m---------------------------------------------------------------------------\u001b[0m",
            "\u001b[0;31mNameError\u001b[0m                                 Traceback (most recent call last)",
            "\u001b[0;32m<ipython-input-7-a2024686a4e6>\u001b[0m in \u001b[0;36m<cell line: 7>\u001b[0;34m()\u001b[0m\n\u001b[1;32m      5\u001b[0m \u001b[0;34m\u001b[0m\u001b[0m\n\u001b[1;32m      6\u001b[0m \u001b[0mfoo\u001b[0m\u001b[0;34m(\u001b[0m\u001b[0;36m123\u001b[0m\u001b[0;34m)\u001b[0m\u001b[0;34m\u001b[0m\u001b[0;34m\u001b[0m\u001b[0m\n\u001b[0;32m----> 7\u001b[0;31m \u001b[0mprint\u001b[0m\u001b[0;34m(\u001b[0m\u001b[0ma\u001b[0m\u001b[0;34m)\u001b[0m\u001b[0;34m\u001b[0m\u001b[0;34m\u001b[0m\u001b[0m\n\u001b[0m",
            "\u001b[0;31mNameError\u001b[0m: name 'a' is not defined"
          ]
        }
      ]
    },
    {
      "cell_type": "code",
      "source": [
        "a = 123\n",
        "\n",
        "def foo():\n",
        "    # `a` is a global variable\n",
        "    print(a)\n",
        "\n",
        "\n",
        "foo()"
      ],
      "metadata": {
        "colab": {
          "base_uri": "https://localhost:8080/"
        },
        "id": "n0jIxCyYdWxe",
        "outputId": "68e011ee-2446-4bac-8b1e-b73bdbd606dc"
      },
      "execution_count": 8,
      "outputs": [
        {
          "output_type": "stream",
          "name": "stdout",
          "text": [
            "123\n"
          ]
        }
      ]
    },
    {
      "cell_type": "code",
      "source": [
        "a = 42\n",
        "\n",
        "def foo():\n",
        "    def bar():\n",
        "        print(a)\n",
        "    bar()\n",
        "\n",
        "foo()"
      ],
      "metadata": {
        "colab": {
          "base_uri": "https://localhost:8080/"
        },
        "id": "4aakkDPOdoeO",
        "outputId": "3f4789bd-6fad-4d21-a55f-87e5c7c89d81"
      },
      "execution_count": 9,
      "outputs": [
        {
          "output_type": "stream",
          "name": "stdout",
          "text": [
            "42\n"
          ]
        }
      ]
    },
    {
      "cell_type": "code",
      "source": [
        "a = 42\n",
        "\n",
        "def foo():\n",
        "    a = 123\n",
        "    def bar():\n",
        "        print(a)\n",
        "    bar()\n",
        "\n",
        "foo()\n",
        "print(a)"
      ],
      "metadata": {
        "colab": {
          "base_uri": "https://localhost:8080/"
        },
        "id": "KskFLEY2d9U1",
        "outputId": "a985f108-581c-4b10-86d5-2c5d7a09f766"
      },
      "execution_count": 11,
      "outputs": [
        {
          "output_type": "stream",
          "name": "stdout",
          "text": [
            "123\n",
            "42\n"
          ]
        }
      ]
    },
    {
      "cell_type": "code",
      "source": [
        "a = 42\n",
        "\n",
        "def foo():\n",
        "    a = 123\n",
        "    def bar():\n",
        "        print(a)\n",
        "    bar()\n",
        "\n",
        "foo()\n",
        "print(a)"
      ],
      "metadata": {
        "id": "Go3Mv3sdidV6"
      },
      "execution_count": null,
      "outputs": []
    },
    {
      "cell_type": "code",
      "source": [
        "a = 42\n",
        "\n",
        "def foo():\n",
        "    a = 123\n",
        "    def bar():\n",
        "        b = 345\n",
        "        def f():\n",
        "            print(a)\n",
        "            print(b)\n",
        "        return f\n",
        "    return bar()\n",
        "\n",
        "ff = foo()\n",
        "\n",
        "print(a)\n",
        "ff()"
      ],
      "metadata": {
        "colab": {
          "base_uri": "https://localhost:8080/"
        },
        "id": "m5t3H8hJilvI",
        "outputId": "a5e68821-51ce-4bdd-88d0-4b602862bba3"
      },
      "execution_count": 52,
      "outputs": [
        {
          "output_type": "stream",
          "name": "stdout",
          "text": [
            "42\n",
            "123\n",
            "345\n"
          ]
        }
      ]
    },
    {
      "cell_type": "code",
      "source": [
        "a = 42\n",
        "\n",
        "def foo():\n",
        "    print(a)\n",
        "    a = a + 1  # a += 1\n",
        "    print(a)\n",
        "\n",
        "foo()"
      ],
      "metadata": {
        "colab": {
          "base_uri": "https://localhost:8080/",
          "height": 327
        },
        "id": "4c4qCT6kdLj_",
        "outputId": "479f3bfe-5005-432c-d63c-d2ef0ffa9b07"
      },
      "execution_count": 15,
      "outputs": [
        {
          "output_type": "error",
          "ename": "UnboundLocalError",
          "evalue": "ignored",
          "traceback": [
            "\u001b[0;31m---------------------------------------------------------------------------\u001b[0m",
            "\u001b[0;31mUnboundLocalError\u001b[0m                         Traceback (most recent call last)",
            "\u001b[0;32m<ipython-input-15-d8034136e9b5>\u001b[0m in \u001b[0;36m<cell line: 8>\u001b[0;34m()\u001b[0m\n\u001b[1;32m      6\u001b[0m     \u001b[0mprint\u001b[0m\u001b[0;34m(\u001b[0m\u001b[0ma\u001b[0m\u001b[0;34m)\u001b[0m\u001b[0;34m\u001b[0m\u001b[0;34m\u001b[0m\u001b[0m\n\u001b[1;32m      7\u001b[0m \u001b[0;34m\u001b[0m\u001b[0m\n\u001b[0;32m----> 8\u001b[0;31m \u001b[0mfoo\u001b[0m\u001b[0;34m(\u001b[0m\u001b[0;34m)\u001b[0m\u001b[0;34m\u001b[0m\u001b[0;34m\u001b[0m\u001b[0m\n\u001b[0m",
            "\u001b[0;32m<ipython-input-15-d8034136e9b5>\u001b[0m in \u001b[0;36mfoo\u001b[0;34m()\u001b[0m\n\u001b[1;32m      2\u001b[0m \u001b[0;34m\u001b[0m\u001b[0m\n\u001b[1;32m      3\u001b[0m \u001b[0;32mdef\u001b[0m \u001b[0mfoo\u001b[0m\u001b[0;34m(\u001b[0m\u001b[0;34m)\u001b[0m\u001b[0;34m:\u001b[0m\u001b[0;34m\u001b[0m\u001b[0;34m\u001b[0m\u001b[0m\n\u001b[0;32m----> 4\u001b[0;31m     \u001b[0mprint\u001b[0m\u001b[0;34m(\u001b[0m\u001b[0ma\u001b[0m\u001b[0;34m)\u001b[0m\u001b[0;34m\u001b[0m\u001b[0;34m\u001b[0m\u001b[0m\n\u001b[0m\u001b[1;32m      5\u001b[0m     \u001b[0ma\u001b[0m \u001b[0;34m=\u001b[0m \u001b[0ma\u001b[0m \u001b[0;34m+\u001b[0m \u001b[0;36m1\u001b[0m  \u001b[0;31m# a += 1\u001b[0m\u001b[0;34m\u001b[0m\u001b[0;34m\u001b[0m\u001b[0m\n\u001b[1;32m      6\u001b[0m     \u001b[0mprint\u001b[0m\u001b[0;34m(\u001b[0m\u001b[0ma\u001b[0m\u001b[0;34m)\u001b[0m\u001b[0;34m\u001b[0m\u001b[0;34m\u001b[0m\u001b[0m\n",
            "\u001b[0;31mUnboundLocalError\u001b[0m: local variable 'a' referenced before assignment"
          ]
        }
      ]
    },
    {
      "cell_type": "code",
      "source": [
        "a = 42\n",
        "\n",
        "def foo():\n",
        "    global a  # a bad practice\n",
        "    print(a)\n",
        "    a = a + 1  # a += 1\n",
        "    print(a)\n",
        "\n",
        "foo()"
      ],
      "metadata": {
        "colab": {
          "base_uri": "https://localhost:8080/"
        },
        "id": "hIKGixUve33D",
        "outputId": "cd66309d-dce8-4ef4-c6b6-70c0083e76e0"
      },
      "execution_count": 16,
      "outputs": [
        {
          "output_type": "stream",
          "name": "stdout",
          "text": [
            "42\n",
            "43\n"
          ]
        }
      ]
    },
    {
      "cell_type": "code",
      "source": [
        "a = 42\n",
        "\n",
        "def foo():\n",
        "    a = 1\n",
        "    print(a)\n",
        "\n",
        "foo()\n",
        "print(a)"
      ],
      "metadata": {
        "colab": {
          "base_uri": "https://localhost:8080/"
        },
        "id": "FCbtfkixfacg",
        "outputId": "eabeea2d-0eee-4000-cb15-5c54fe44d601"
      },
      "execution_count": 18,
      "outputs": [
        {
          "output_type": "stream",
          "name": "stdout",
          "text": [
            "1\n",
            "42\n"
          ]
        }
      ]
    },
    {
      "cell_type": "markdown",
      "source": [
        "# Generators"
      ],
      "metadata": {
        "id": "oqKR8dRiKeXK"
      }
    },
    {
      "cell_type": "code",
      "source": [
        "sum([i**2 for i in range(10)])"
      ],
      "metadata": {
        "colab": {
          "base_uri": "https://localhost:8080/"
        },
        "id": "mAJq7JSLfnQh",
        "outputId": "29ff4ef1-5557-4ce7-c9fc-5df6369d124d"
      },
      "execution_count": 20,
      "outputs": [
        {
          "output_type": "execute_result",
          "data": {
            "text/plain": [
              "285"
            ]
          },
          "metadata": {},
          "execution_count": 20
        }
      ]
    },
    {
      "cell_type": "code",
      "source": [
        "type((i**2 for i in range(10)))"
      ],
      "metadata": {
        "colab": {
          "base_uri": "https://localhost:8080/"
        },
        "id": "iARh4Zj-f1rY",
        "outputId": "70b26023-9207-41b3-9529-53dfd90913b0"
      },
      "execution_count": 23,
      "outputs": [
        {
          "output_type": "execute_result",
          "data": {
            "text/plain": [
              "generator"
            ]
          },
          "metadata": {},
          "execution_count": 23
        }
      ]
    },
    {
      "cell_type": "code",
      "source": [
        "sum((i**2 for i in range(10)))"
      ],
      "metadata": {
        "colab": {
          "base_uri": "https://localhost:8080/"
        },
        "id": "f4zOuaPnf8_I",
        "outputId": "e31aad16-6d24-4106-9ca8-1e58c532ee1e"
      },
      "execution_count": 26,
      "outputs": [
        {
          "output_type": "execute_result",
          "data": {
            "text/plain": [
              "285"
            ]
          },
          "metadata": {},
          "execution_count": 26
        }
      ]
    },
    {
      "cell_type": "code",
      "source": [
        "gen = (i**2 for i in range(10))\n",
        "\n",
        "for elem in gen:\n",
        "    print(elem, end=\" \")"
      ],
      "metadata": {
        "colab": {
          "base_uri": "https://localhost:8080/"
        },
        "id": "qmFenG46gM4A",
        "outputId": "e4597691-e90a-47d2-a4aa-aacfd9106b58"
      },
      "execution_count": 29,
      "outputs": [
        {
          "output_type": "stream",
          "name": "stdout",
          "text": [
            "0 1 4 9 16 25 36 49 64 81 "
          ]
        }
      ]
    },
    {
      "cell_type": "code",
      "source": [
        "def create_generator(last_elem):\n",
        "    for i in range(last_elem):\n",
        "        yield i ** 2"
      ],
      "metadata": {
        "id": "Ji9jbvzUg-Rc"
      },
      "execution_count": 30,
      "outputs": []
    },
    {
      "cell_type": "code",
      "source": [
        "gen = create_generator(10)"
      ],
      "metadata": {
        "id": "cRu-Jxe_hJ3A"
      },
      "execution_count": 46,
      "outputs": []
    },
    {
      "cell_type": "code",
      "source": [
        "print(next(gen))\n",
        "print(next(gen))\n",
        "print(next(gen))"
      ],
      "metadata": {
        "colab": {
          "base_uri": "https://localhost:8080/"
        },
        "id": "YSPahjnchOpy",
        "outputId": "8cd1c20f-02ee-4899-e2e2-843a783c4285"
      },
      "execution_count": 33,
      "outputs": [
        {
          "output_type": "stream",
          "name": "stdout",
          "text": [
            "0\n",
            "1\n",
            "4\n"
          ]
        }
      ]
    },
    {
      "cell_type": "code",
      "source": [
        "gen = create_generator(10)\n",
        "\n",
        "for elem in gen:\n",
        "    print(elem, end=\", \")"
      ],
      "metadata": {
        "colab": {
          "base_uri": "https://localhost:8080/"
        },
        "id": "5CRHRUQ5h52D",
        "outputId": "825341bd-9661-451f-cd81-37146ba9002f"
      },
      "execution_count": 47,
      "outputs": [
        {
          "output_type": "stream",
          "name": "stdout",
          "text": [
            "0, 1, 4, 9, 16, 25, 36, 49, 64, 81, "
          ]
        }
      ]
    },
    {
      "cell_type": "code",
      "source": [
        "range(10000000000**123)"
      ],
      "metadata": {
        "colab": {
          "base_uri": "https://localhost:8080/"
        },
        "id": "8oX9BN4xjNwP",
        "outputId": "78c04bf2-99f4-43f5-e9b4-8a2973dc6d2e"
      },
      "execution_count": 57,
      "outputs": [
        {
          "output_type": "execute_result",
          "data": {
            "text/plain": [
              "range(0, 1000000000000000000000000000000000000000000000000000000000000000000000000000000000000000000000000000000000000000000000000000000000000000000000000000000000000000000000000000000000000000000000000000000000000000000000000000000000000000000000000000000000000000000000000000000000000000000000000000000000000000000000000000000000000000000000000000000000000000000000000000000000000000000000000000000000000000000000000000000000000000000000000000000000000000000000000000000000000000000000000000000000000000000000000000000000000000000000000000000000000000000000000000000000000000000000000000000000000000000000000000000000000000000000000000000000000000000000000000000000000000000000000000000000000000000000000000000000000000000000000000000000000000000000000000000000000000000000000000000000000000000000000000000000000000000000000000000000000000000000000000000000000000000000000000000000000000000000000000000000000000000000000000000000000000000000000000000000000000000000000000000000000000000000000000000000000000000000000000000000000000000000000000000000000000000000000000000000000000000000000000000000000000000000000000000000000000000000000000000000000000000000000000000000000000000000000000000000000000000000000000000000000000000000000000000)"
            ]
          },
          "metadata": {},
          "execution_count": 57
        }
      ]
    },
    {
      "cell_type": "markdown",
      "source": [
        "# Decorators"
      ],
      "metadata": {
        "id": "sbaL2XIkKlc0"
      }
    },
    {
      "cell_type": "code",
      "source": [
        "import time\n",
        "\n",
        "def foo():\n",
        "    time.sleep(2)\n",
        "    print(\"I have finished!\")\n",
        "\n",
        "\n",
        "foo()"
      ],
      "metadata": {
        "id": "pgUBs_OGKmBu",
        "colab": {
          "base_uri": "https://localhost:8080/"
        },
        "outputId": "1b03efba-fc9c-4998-d3bb-dd642e41472b"
      },
      "execution_count": 60,
      "outputs": [
        {
          "output_type": "stream",
          "name": "stdout",
          "text": [
            "I have finished!\n"
          ]
        }
      ]
    },
    {
      "cell_type": "code",
      "source": [
        "start = time.time()\n",
        "foo()\n",
        "end = time.time()\n",
        "\n",
        "print(f\"time that takes foo function to compute: {end - start}\")"
      ],
      "metadata": {
        "colab": {
          "base_uri": "https://localhost:8080/"
        },
        "id": "3iEYFU8Lj6yd",
        "outputId": "aebb6835-f3ea-43a9-b5ff-b990a4b044ff"
      },
      "execution_count": 62,
      "outputs": [
        {
          "output_type": "stream",
          "name": "stdout",
          "text": [
            "I have finished!\n",
            "time that takes foo function to compute: 2.0015814304351807\n"
          ]
        }
      ]
    },
    {
      "cell_type": "code",
      "source": [
        "def logger(func):\n",
        "    def inner_func():\n",
        "        start = time.time()\n",
        "        func()\n",
        "        end = time.time()\n",
        "\n",
        "        print(f\"time that takes foo function to compute: {end - start}\")\n",
        "    return inner_func"
      ],
      "metadata": {
        "id": "xZ-MX7L9kLKV"
      },
      "execution_count": 63,
      "outputs": []
    },
    {
      "cell_type": "code",
      "source": [
        "foo_with_logging = logger(foo)\n",
        "foo_with_logging()"
      ],
      "metadata": {
        "colab": {
          "base_uri": "https://localhost:8080/"
        },
        "id": "-Kv4JDYMk8Bl",
        "outputId": "f2e644cd-7d79-4883-82b0-4e4b3e57b7c5"
      },
      "execution_count": 66,
      "outputs": [
        {
          "output_type": "stream",
          "name": "stdout",
          "text": [
            "I have finished!\n",
            "time that takes foo function to compute: 2.0013105869293213\n"
          ]
        }
      ]
    },
    {
      "cell_type": "code",
      "source": [
        "foo()"
      ],
      "metadata": {
        "colab": {
          "base_uri": "https://localhost:8080/"
        },
        "id": "VvfgkpG6lkBU",
        "outputId": "1c6cac65-8480-4464-d5c0-b2a78a178350"
      },
      "execution_count": 67,
      "outputs": [
        {
          "output_type": "stream",
          "name": "stdout",
          "text": [
            "I have finished!\n"
          ]
        }
      ]
    },
    {
      "cell_type": "code",
      "source": [
        "def foo():\n",
        "    time.sleep(2)\n",
        "    print(\"I have finished!\")\n",
        "\n",
        "# foo function is decorated with logger\n",
        "foo = logger(foo)"
      ],
      "metadata": {
        "id": "In0E9K_DlvYk"
      },
      "execution_count": 69,
      "outputs": []
    },
    {
      "cell_type": "code",
      "source": [
        "foo()"
      ],
      "metadata": {
        "colab": {
          "base_uri": "https://localhost:8080/"
        },
        "id": "ah-RbwJUl48m",
        "outputId": "4fc44448-bf09-4908-827d-332400a6686f"
      },
      "execution_count": 70,
      "outputs": [
        {
          "output_type": "stream",
          "name": "stdout",
          "text": [
            "I have finished!\n",
            "time that takes foo function to compute: 2.0078320503234863\n"
          ]
        }
      ]
    },
    {
      "cell_type": "code",
      "source": [
        "@logger  # syntax sugar\n",
        "def foo():\n",
        "    time.sleep(2)\n",
        "    print(\"I have finished!\")\n",
        "\n",
        "# it's equiv to this\n",
        "# foo = logger(foo)"
      ],
      "metadata": {
        "id": "GowhAOEol9-G"
      },
      "execution_count": 71,
      "outputs": []
    },
    {
      "cell_type": "code",
      "source": [
        "foo()"
      ],
      "metadata": {
        "colab": {
          "base_uri": "https://localhost:8080/"
        },
        "id": "usqsVA61mHOM",
        "outputId": "d99894e6-9644-416c-d57c-5062a9bdc973"
      },
      "execution_count": 72,
      "outputs": [
        {
          "output_type": "stream",
          "name": "stdout",
          "text": [
            "I have finished!\n",
            "time that takes foo function to compute: 2.001678705215454\n"
          ]
        }
      ]
    },
    {
      "cell_type": "code",
      "source": [],
      "metadata": {
        "id": "xaNprwY6mHwG"
      },
      "execution_count": null,
      "outputs": []
    },
    {
      "cell_type": "code",
      "source": [
        "def foo():\n",
        "    \"\"\"\n",
        "        some documentation\n",
        "    \"\"\"\n",
        "    time.sleep(2)\n",
        "    print(\"I have finished!\")\n"
      ],
      "metadata": {
        "id": "SZq7YK0nmhY-"
      },
      "execution_count": 74,
      "outputs": []
    },
    {
      "cell_type": "code",
      "source": [
        "print(foo.__doc__)\n",
        "print(foo.__name__)"
      ],
      "metadata": {
        "colab": {
          "base_uri": "https://localhost:8080/"
        },
        "id": "-tzOYvmvmjkJ",
        "outputId": "83041db2-08fb-453e-eda4-f8026077654c"
      },
      "execution_count": 76,
      "outputs": [
        {
          "output_type": "stream",
          "name": "stdout",
          "text": [
            "\n",
            "        some documentation\n",
            "    \n",
            "foo\n"
          ]
        }
      ]
    },
    {
      "cell_type": "code",
      "source": [
        "def logger(func):\n",
        "    def inner_func():\n",
        "        start = time.time()\n",
        "        func()\n",
        "        end = time.time()\n",
        "\n",
        "        print(f\"time that takes foo function to compute: {end - start}\")\n",
        "    return inner_func"
      ],
      "metadata": {
        "id": "99IQ1GU6mz54"
      },
      "execution_count": null,
      "outputs": []
    },
    {
      "cell_type": "code",
      "source": [
        "@logger\n",
        "def foo():\n",
        "    \"\"\"\n",
        "        some documentation\n",
        "    \"\"\"\n",
        "    time.sleep(2)\n",
        "    print(\"I have finished!\")\n",
        "\n",
        "# foo = logger(foo)"
      ],
      "metadata": {
        "id": "klZZpvjBmoP8"
      },
      "execution_count": 77,
      "outputs": []
    },
    {
      "cell_type": "code",
      "source": [
        "print(foo.__doc__)\n",
        "print(foo.__name__)"
      ],
      "metadata": {
        "colab": {
          "base_uri": "https://localhost:8080/"
        },
        "id": "8x2KmtQNmsm_",
        "outputId": "58a28055-b607-4493-a5c4-c57fcb6cd3a9"
      },
      "execution_count": 78,
      "outputs": [
        {
          "output_type": "stream",
          "name": "stdout",
          "text": [
            "None\n",
            "inner_func\n"
          ]
        }
      ]
    },
    {
      "cell_type": "code",
      "source": [
        "import functools\n",
        "\n",
        "def logger(func):\n",
        "    @functools.wraps(func)\n",
        "    def inner_func():\n",
        "        start = time.time()\n",
        "        func()\n",
        "        end = time.time()\n",
        "\n",
        "        print(f\"time that takes foo function to compute: {end - start}\")\n",
        "    return inner_func"
      ],
      "metadata": {
        "id": "MBfHpKZzmtYa"
      },
      "execution_count": 85,
      "outputs": []
    },
    {
      "cell_type": "code",
      "source": [
        "@logger\n",
        "def foo():\n",
        "    \"\"\"\n",
        "        some documentation\n",
        "    \"\"\"\n",
        "    time.sleep(2)\n",
        "    print(\"I have finished!\")\n",
        "\n",
        "# foo = logger(foo)"
      ],
      "metadata": {
        "id": "xFvQ5TVWm9t5"
      },
      "execution_count": 86,
      "outputs": []
    },
    {
      "cell_type": "code",
      "source": [
        "print(foo.__doc__)\n",
        "print(foo.__name__)"
      ],
      "metadata": {
        "colab": {
          "base_uri": "https://localhost:8080/"
        },
        "id": "U-QzX5Zzm-5W",
        "outputId": "415bb1ff-9649-41fd-dc69-80bd265d2f90"
      },
      "execution_count": 87,
      "outputs": [
        {
          "output_type": "stream",
          "name": "stdout",
          "text": [
            "\n",
            "        some documentation\n",
            "    \n",
            "foo\n"
          ]
        }
      ]
    },
    {
      "cell_type": "code",
      "source": [
        "import functools\n",
        "\n",
        "def logger(func):\n",
        "    @functools.wraps(func)\n",
        "    def inner_func(*args, **kwargs):\n",
        "        start = time.time()\n",
        "        return_variable = func(*args, **kwargs)\n",
        "        end = time.time()\n",
        "\n",
        "        print(f\"time that takes foo function to compute: {end - start}\")\n",
        "        return return_variable\n",
        "\n",
        "    return inner_func"
      ],
      "metadata": {
        "id": "90OWCu_0nKDz"
      },
      "execution_count": 91,
      "outputs": []
    },
    {
      "cell_type": "code",
      "source": [
        "@logger\n",
        "def foo(a, b, c, d):\n",
        "    \"\"\"\n",
        "        some documentation\n",
        "    \"\"\"\n",
        "    time.sleep(2)\n",
        "    print(\"I have finished!\")\n",
        "    return a + b + c + d\n",
        "\n",
        "# foo = logger(foo)"
      ],
      "metadata": {
        "id": "jclkM262nAGp"
      },
      "execution_count": 92,
      "outputs": []
    },
    {
      "cell_type": "code",
      "source": [
        "foo(1,2,3,4)"
      ],
      "metadata": {
        "colab": {
          "base_uri": "https://localhost:8080/"
        },
        "id": "TPRGeRUonOtQ",
        "outputId": "3fb06039-280e-4884-b35c-90d05dffdbab"
      },
      "execution_count": 93,
      "outputs": [
        {
          "output_type": "stream",
          "name": "stdout",
          "text": [
            "I have finished!\n",
            "time that takes foo function to compute: 2.0037009716033936\n"
          ]
        },
        {
          "output_type": "execute_result",
          "data": {
            "text/plain": [
              "10"
            ]
          },
          "metadata": {},
          "execution_count": 93
        }
      ]
    }
  ],
  "metadata": {
    "kernelspec": {
      "display_name": "Python 3 (ipykernel)",
      "language": "python",
      "name": "python3"
    },
    "language_info": {
      "codemirror_mode": {
        "name": "ipython",
        "version": 3
      },
      "file_extension": ".py",
      "mimetype": "text/x-python",
      "name": "python",
      "nbconvert_exporter": "python",
      "pygments_lexer": "ipython3",
      "version": "3.8.12"
    },
    "colab": {
      "provenance": []
    }
  },
  "nbformat": 4,
  "nbformat_minor": 0
}