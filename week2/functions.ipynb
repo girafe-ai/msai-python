{
  "cells": [
    {
      "cell_type": "markdown",
      "metadata": {
        "id": "rf9gCT4mTEMU"
      },
      "source": [
        "# Functions, generators, scope, closures, decorators\n",
        "### Contents\n",
        "\n",
        "* Functions basics\n",
        "* Default arguments\n",
        "* Variable number of arguments\n",
        "* Recursion\n",
        "* Anonymous functions (lambdas)"
      ]
    },
    {
      "cell_type": "code",
      "execution_count": 1,
      "metadata": {
        "colab": {
          "base_uri": "https://localhost:8080/"
        },
        "id": "4DzS3DwnTEMV",
        "outputId": "a7f0e658-ec54-435a-baaa-11a6cdacfdf0"
      },
      "outputs": [
        {
          "output_type": "execute_result",
          "data": {
            "text/plain": [
              "5"
            ]
          },
          "metadata": {},
          "execution_count": 1
        }
      ],
      "source": [
        "abs(-5)"
      ]
    },
    {
      "cell_type": "code",
      "execution_count": 2,
      "metadata": {
        "colab": {
          "base_uri": "https://localhost:8080/"
        },
        "id": "L-DfFNDHTEMW",
        "outputId": "2cac8a06-a198-40b2-901c-520960382272"
      },
      "outputs": [
        {
          "output_type": "execute_result",
          "data": {
            "text/plain": [
              "7"
            ]
          },
          "metadata": {},
          "execution_count": 2
        }
      ],
      "source": [
        "len('asdfghj')"
      ]
    },
    {
      "cell_type": "code",
      "execution_count": 3,
      "metadata": {
        "id": "Bx0tgVboTEMX"
      },
      "outputs": [],
      "source": [
        "def print_type_methods(x):\n",
        "    print(*[name for name in dir(x) if (not name.startswith('_'))], sep='\\n')"
      ]
    },
    {
      "cell_type": "code",
      "execution_count": 4,
      "metadata": {
        "colab": {
          "base_uri": "https://localhost:8080/"
        },
        "id": "omOJZBfiTEMX",
        "outputId": "72a408a3-fd29-4492-f571-fa1fa8f97a98"
      },
      "outputs": [
        {
          "output_type": "stream",
          "name": "stdout",
          "text": [
            "append\n",
            "clear\n",
            "copy\n",
            "count\n",
            "extend\n",
            "index\n",
            "insert\n",
            "pop\n",
            "remove\n",
            "reverse\n",
            "sort\n"
          ]
        }
      ],
      "source": [
        "print_type_methods(list)"
      ]
    },
    {
      "cell_type": "code",
      "execution_count": 5,
      "metadata": {
        "colab": {
          "base_uri": "https://localhost:8080/"
        },
        "id": "Sks9-cOATEMX",
        "outputId": "c373707b-4109-41de-dfa1-d5ed4b4e0600"
      },
      "outputs": [
        {
          "output_type": "stream",
          "name": "stdout",
          "text": [
            "add\n",
            "clear\n",
            "copy\n",
            "difference\n",
            "difference_update\n",
            "discard\n",
            "intersection\n",
            "intersection_update\n",
            "isdisjoint\n",
            "issubset\n",
            "issuperset\n",
            "pop\n",
            "remove\n",
            "symmetric_difference\n",
            "symmetric_difference_update\n",
            "union\n",
            "update\n"
          ]
        }
      ],
      "source": [
        "print_type_methods(set)"
      ]
    },
    {
      "cell_type": "markdown",
      "metadata": {
        "id": "MevNPwYWTEMY"
      },
      "source": [
        "## Function declaration and calling"
      ]
    },
    {
      "cell_type": "code",
      "execution_count": 6,
      "metadata": {
        "colab": {
          "base_uri": "https://localhost:8080/"
        },
        "id": "UhUWn9zhTEMY",
        "outputId": "c20d8f2d-eb47-4548-8133-c1dc35de07fa"
      },
      "outputs": [
        {
          "output_type": "stream",
          "name": "stdout",
          "text": [
            "a = 1 b = bbb\n",
            "this is the body of the function\n",
            "this is the body of the function too\n",
            "\n",
            "a = 42 b = 4242\n",
            "this is the body of the function\n",
            "this is the body of the function too\n"
          ]
        }
      ],
      "source": [
        "def foo(a, b):\n",
        "    print('a =', a, 'b =', b)\n",
        "    print('this is the body of the function')\n",
        "    print('this is the body of the function too')\n",
        "\n",
        "foo(1, 'bbb')\n",
        "\n",
        "print()\n",
        "\n",
        "foo(42, '4242')"
      ]
    },
    {
      "cell_type": "code",
      "execution_count": 7,
      "metadata": {
        "id": "C39RnBd9TEMZ"
      },
      "outputs": [],
      "source": [
        "def procedure():\n",
        "    print('the message')"
      ]
    },
    {
      "cell_type": "code",
      "execution_count": 8,
      "metadata": {
        "colab": {
          "base_uri": "https://localhost:8080/"
        },
        "id": "VDfY5K6sTEMZ",
        "outputId": "a26cae71-266e-4c94-d3d9-40dc5ded108f"
      },
      "outputs": [
        {
          "output_type": "stream",
          "name": "stdout",
          "text": [
            "the message\n",
            "the message\n",
            "the message\n"
          ]
        },
        {
          "output_type": "execute_result",
          "data": {
            "text/plain": [
              "function"
            ]
          },
          "metadata": {},
          "execution_count": 8
        }
      ],
      "source": [
        "procedure()\n",
        "procedure()\n",
        "procedure()\n",
        "type(procedure)"
      ]
    },
    {
      "cell_type": "markdown",
      "metadata": {
        "id": "pK9CL03MTEMZ"
      },
      "source": [
        "### Default arguments"
      ]
    },
    {
      "cell_type": "code",
      "execution_count": 16,
      "metadata": {
        "colab": {
          "base_uri": "https://localhost:8080/"
        },
        "id": "LTammSimTEMa",
        "outputId": "bbf016af-bab5-4233-d16c-1312bcaeac0e"
      },
      "outputs": [
        {
          "output_type": "stream",
          "name": "stdout",
          "text": [
            "a = 1 b = b c = 0.5 d = (None,)\n",
            "a = 1 b = b c = 0.3 d = (None,)\n",
            "a = 1 b = b c = 0.5 d = d\n",
            "a = 1 b = b c = 0.3 d = d\n",
            "a = 1 b = b c = 0.3 d = d\n"
          ]
        }
      ],
      "source": [
        "def foo(a, b, c=0.5, d=(None,)):\n",
        "    print('a =', a, 'b =', b, 'c =', c, 'd =', d)\n",
        "\n",
        "# only positional args\n",
        "foo(1, 'b')\n",
        "foo(1, 'b', 0.3)\n",
        "foo(1, 'b', d='d')\n",
        "foo(1, d='d', c=0.3, b='b')\n",
        "# only keyword args\n",
        "foo(a=1, d='d', c=0.3, b='b')"
      ]
    },
    {
      "cell_type": "code",
      "source": [
        "# example with positional-only\n",
        "def foo(a, b, /, c=0.5, d=(None,)):\n",
        "    print('a =', a, 'b =', b, 'c =', c, 'd =', d)\n",
        "\n",
        "# example with keyword-only\n",
        "def foo(a, b, *, c=0.5, d=(None,)):\n",
        "    print('a =', a, 'b =', b, 'c =', c, 'd =', d)"
      ],
      "metadata": {
        "id": "zyXqSW15TbbX"
      },
      "execution_count": 17,
      "outputs": []
    },
    {
      "cell_type": "markdown",
      "metadata": {
        "id": "a7FDxleKTEMa"
      },
      "source": [
        "### call-by-value (immutable arguments) vs. call-by-reference (mutable arguments)"
      ]
    },
    {
      "cell_type": "code",
      "execution_count": 18,
      "metadata": {
        "id": "x7u2_NJpTEMa"
      },
      "outputs": [],
      "source": [
        "def get_my_hero_team(team, number):\n",
        "    number = 10\n",
        "    team['Chuck'] = 'Norris'\n",
        "    team['Sylvester'] = 'Stallone'"
      ]
    },
    {
      "cell_type": "code",
      "execution_count": 19,
      "metadata": {
        "colab": {
          "base_uri": "https://localhost:8080/"
        },
        "id": "l0gZtWTGTEMb",
        "outputId": "a5d071f7-4729-4429-f6c6-4dd7ec5168ec"
      },
      "outputs": [
        {
          "output_type": "stream",
          "name": "stdout",
          "text": [
            "{'Bruce': 'Willis', 'Chuck': 'Lorre'}\n"
          ]
        }
      ],
      "source": [
        "number = 5\n",
        "hero_team = {'Bruce': 'Willis', 'Chuck': 'Lorre'}\n",
        "print(hero_team)\n",
        "get_my_hero_team(hero_team, number)"
      ]
    },
    {
      "cell_type": "code",
      "execution_count": 20,
      "metadata": {
        "colab": {
          "base_uri": "https://localhost:8080/"
        },
        "id": "p2tS70p9TEMb",
        "outputId": "56db5768-2abe-49df-d08b-1885f0b8f761"
      },
      "outputs": [
        {
          "output_type": "stream",
          "name": "stdout",
          "text": [
            "Bruce Willis\n",
            "Chuck Norris\n",
            "Sylvester Stallone\n",
            "5\n"
          ]
        }
      ],
      "source": [
        "[print(*item) for item in hero_team.items()]\n",
        "print(number)"
      ]
    },
    {
      "cell_type": "code",
      "execution_count": 29,
      "metadata": {
        "id": "H7kA33tKTEMb"
      },
      "outputs": [],
      "source": [
        "def one_more_function(new_element, lst=[]):\n",
        "    lst.append(new_element)\n",
        "    return lst"
      ]
    },
    {
      "cell_type": "code",
      "execution_count": 30,
      "metadata": {
        "colab": {
          "base_uri": "https://localhost:8080/"
        },
        "id": "82u5TvEaTEMc",
        "outputId": "29e31c9a-5cbe-4dd8-b06b-6704e697ab69"
      },
      "outputs": [
        {
          "output_type": "execute_result",
          "data": {
            "text/plain": [
              "[42]"
            ]
          },
          "metadata": {},
          "execution_count": 30
        }
      ],
      "source": [
        "lst1 = one_more_function(42)\n",
        "lst1"
      ]
    },
    {
      "cell_type": "code",
      "execution_count": 31,
      "metadata": {
        "id": "uVR32yo8TEMc"
      },
      "outputs": [],
      "source": [
        "def func(x=None):\n",
        "    if x is not None:\n",
        "        if x > 0:\n",
        "            return len(str(x))\n",
        "        if x == 0:\n",
        "            return \"\"\n",
        "        if x < 0:\n",
        "            return abs(x)\n",
        "    return 'smth else'"
      ]
    },
    {
      "cell_type": "code",
      "execution_count": 32,
      "metadata": {
        "colab": {
          "base_uri": "https://localhost:8080/",
          "height": 35
        },
        "id": "SlEdPgCPTEMc",
        "outputId": "b0b9577e-8d14-4520-ef87-5c3a314c18fa"
      },
      "outputs": [
        {
          "output_type": "execute_result",
          "data": {
            "text/plain": [
              "'smth else'"
            ],
            "application/vnd.google.colaboratory.intrinsic+json": {
              "type": "string"
            }
          },
          "metadata": {},
          "execution_count": 32
        }
      ],
      "source": [
        "func(-42)\n",
        "func(0)\n",
        "func(42)\n",
        "func()"
      ]
    },
    {
      "cell_type": "markdown",
      "metadata": {
        "id": "YCpaItlaTEMd"
      },
      "source": [
        "### Variable number of arguments"
      ]
    },
    {
      "cell_type": "code",
      "execution_count": 33,
      "metadata": {
        "colab": {
          "base_uri": "https://localhost:8080/"
        },
        "id": "vbPyL3rwTEMd",
        "outputId": "3dafa4d4-39dc-47b4-ff41-4950f801c0e7"
      },
      "outputs": [
        {
          "output_type": "stream",
          "name": "stdout",
          "text": [
            "a = [1, 'b'] args = ()\n",
            "a = 1 args = ('b',)\n",
            "a = 1 args = ('b',)\n",
            "a = 1 args = ('b', 0.5)\n",
            "a = 1 args = ('b', [1, 2], 0.5)\n",
            "a = 1 args = ('b', [1, 2], 0.5)\n"
          ]
        }
      ],
      "source": [
        "def foo(a, *args):\n",
        "    print('a =', a, 'args =', args)\n",
        "\n",
        "array = [1, 'b']\n",
        "foo(array)\n",
        "foo(*array)\n",
        "foo(array[0], array[1])\n",
        "foo(1, 'b', 0.5)\n",
        "foo(*[1, 'b', [1, 2], 0.5])\n",
        "foo(1, 'b', [1, 2], 0.5)"
      ]
    },
    {
      "cell_type": "code",
      "execution_count": 34,
      "metadata": {
        "colab": {
          "base_uri": "https://localhost:8080/"
        },
        "id": "p4wGcdcfTEMd",
        "outputId": "6b488be5-3861-45ca-c07c-0a51c308053e"
      },
      "outputs": [
        {
          "output_type": "stream",
          "name": "stdout",
          "text": [
            "a = 1 b = b args = ([1, 2], 0.5)\n",
            "a = 1 b = abc args = ([1, 2], 0.5)\n"
          ]
        }
      ],
      "source": [
        "def foo(a, *args, b):\n",
        "    print('a =', a, 'b =', b, 'args =', args)\n",
        "\n",
        "foo(1, [1, 2], 0.5, b='b')\n",
        "foo(1, [1, 2], 0.5, b='abc')"
      ]
    },
    {
      "cell_type": "code",
      "execution_count": 35,
      "metadata": {
        "colab": {
          "base_uri": "https://localhost:8080/"
        },
        "id": "kc1YEz2xTEMe",
        "outputId": "af1887c3-dfe1-418d-dd16-24e98d086193"
      },
      "outputs": [
        {
          "output_type": "stream",
          "name": "stdout",
          "text": [
            "a = 1 b = 0.5 kwargs = {'c': 'c'}\n",
            "<class 'dict'>\n",
            "a = 1 b = b kwargs = {'c': 'c'}\n",
            "<class 'dict'>\n",
            "a = 1 b = b kwargs = {'c': 'c', 'd': 'd'}\n",
            "<class 'dict'>\n"
          ]
        }
      ],
      "source": [
        "def foo(a, b=0.5, **kwargs):\n",
        "    print('a =', a, 'b =', b, 'kwargs =', kwargs)\n",
        "    print(type(kwargs))\n",
        "\n",
        "foo(1, c='c')\n",
        "foo(1, c='c', b='b')\n",
        "foo(1, 'b', c='c', d='d')"
      ]
    },
    {
      "cell_type": "code",
      "execution_count": 36,
      "metadata": {
        "colab": {
          "base_uri": "https://localhost:8080/"
        },
        "id": "y3QuvMRaTEMe",
        "outputId": "a6836776-2116-492d-df4f-17ad3169139a"
      },
      "outputs": [
        {
          "output_type": "stream",
          "name": "stdout",
          "text": [
            "args = (1, 'a') kwargs = {'x': 0.5, 'y': [3, 4]}\n",
            "args = (1, 'a') kwargs = {'x': 0.5, 'y': [3, 4]}\n"
          ]
        }
      ],
      "source": [
        "def foo(*args, **kwargs):\n",
        "    print('args =', args, 'kwargs =', kwargs)\n",
        "\n",
        "foo(1, 'a', x=0.5, y=[3, 4])\n",
        "foo(*[1, 'a'], **{'x' : 0.5, 'y': [3, 4]})"
      ]
    },
    {
      "cell_type": "markdown",
      "metadata": {
        "id": "BXU7c8kATEMf"
      },
      "source": [
        "### Recursion"
      ]
    },
    {
      "cell_type": "code",
      "execution_count": 39,
      "metadata": {
        "id": "_dQeAAZxTEMf"
      },
      "outputs": [],
      "source": [
        "def easy_sort(x):\n",
        "    if not x:\n",
        "        return x\n",
        "    print(x)\n",
        "    first = min(x)\n",
        "    x.remove(first)\n",
        "    return [first] + easy_sort(x)"
      ]
    },
    {
      "cell_type": "code",
      "execution_count": 40,
      "metadata": {
        "colab": {
          "base_uri": "https://localhost:8080/"
        },
        "id": "vSFwl1h0TEMf",
        "outputId": "9dd613ab-8f55-48f7-d245-915260a7021a"
      },
      "outputs": [
        {
          "output_type": "stream",
          "name": "stdout",
          "text": [
            "[4, 2, 3, 1, 7, 5]\n",
            "[4, 2, 3, 7, 5]\n",
            "[4, 3, 7, 5]\n",
            "[4, 7, 5]\n",
            "[7, 5]\n",
            "[7]\n"
          ]
        },
        {
          "output_type": "execute_result",
          "data": {
            "text/plain": [
              "[1, 2, 3, 4, 5, 7]"
            ]
          },
          "metadata": {},
          "execution_count": 40
        }
      ],
      "source": [
        "easy_sort([4, 2, 3, 1, 7, 5])"
      ]
    },
    {
      "cell_type": "markdown",
      "metadata": {
        "id": "wFbeFIl-TEMg"
      },
      "source": [
        "## Anonymous functions (Lambdas)"
      ]
    },
    {
      "cell_type": "code",
      "execution_count": 44,
      "metadata": {
        "colab": {
          "base_uri": "https://localhost:8080/"
        },
        "id": "brhL7qy9TEMg",
        "outputId": "65141284-6ea1-4d69-d444-996be50039c7"
      },
      "outputs": [
        {
          "output_type": "execute_result",
          "data": {
            "text/plain": [
              "function"
            ]
          },
          "metadata": {},
          "execution_count": 44
        }
      ],
      "source": [
        "type(lambda x : print(x))"
      ]
    },
    {
      "cell_type": "code",
      "execution_count": 45,
      "metadata": {
        "colab": {
          "base_uri": "https://localhost:8080/",
          "height": 35
        },
        "id": "BXnMLWzkTEMg",
        "outputId": "e4546cdd-1de8-4437-d435-1e6fe698ac98"
      },
      "outputs": [
        {
          "output_type": "execute_result",
          "data": {
            "text/plain": [
              "'gergerggergerg'"
            ],
            "application/vnd.google.colaboratory.intrinsic+json": {
              "type": "string"
            }
          },
          "metadata": {},
          "execution_count": 45
        }
      ],
      "source": [
        "a = lambda x : x * 2\n",
        "a('gergerg')"
      ]
    },
    {
      "cell_type": "code",
      "execution_count": 46,
      "metadata": {
        "colab": {
          "base_uri": "https://localhost:8080/"
        },
        "id": "IYOlP7TaTEMg",
        "outputId": "859ccc91-e36b-48cb-d9c2-3a143c69ae16"
      },
      "outputs": [
        {
          "output_type": "execute_result",
          "data": {
            "text/plain": [
              "84"
            ]
          },
          "metadata": {},
          "execution_count": 46
        }
      ],
      "source": [
        "f = lambda x, y: x + y\n",
        "f(42, 42)"
      ]
    },
    {
      "cell_type": "code",
      "execution_count": 47,
      "metadata": {
        "colab": {
          "base_uri": "https://localhost:8080/"
        },
        "id": "rypCvFBVTEMh",
        "outputId": "07b850c9-9a8c-48c8-b1cd-3a091a0f4629"
      },
      "outputs": [
        {
          "output_type": "execute_result",
          "data": {
            "text/plain": [
              "<map at 0x7ec12ba60490>"
            ]
          },
          "metadata": {},
          "execution_count": 47
        }
      ],
      "source": [
        "map(lambda x : x ** 2, range(10))"
      ]
    },
    {
      "cell_type": "code",
      "execution_count": 48,
      "metadata": {
        "colab": {
          "base_uri": "https://localhost:8080/"
        },
        "id": "l6JNkbMKTEMh",
        "outputId": "bcab2de7-b205-4d6b-8b59-f81c1a25113a"
      },
      "outputs": [
        {
          "output_type": "execute_result",
          "data": {
            "text/plain": [
              "[0, 1, 4, 9, 16, 25, 36, 49, 64, 81]"
            ]
          },
          "metadata": {},
          "execution_count": 48
        }
      ],
      "source": [
        "list(map(lambda x : x ** 2, range(10)))"
      ]
    },
    {
      "cell_type": "code",
      "execution_count": 49,
      "metadata": {
        "colab": {
          "base_uri": "https://localhost:8080/"
        },
        "id": "M118kJhlTEMh",
        "outputId": "0bbbc9ef-4a90-45bf-f8b9-8491138fdc55"
      },
      "outputs": [
        {
          "output_type": "execute_result",
          "data": {
            "text/plain": [
              "(0, 1, 4, 9, 16, 25, 36, 49, 64, 81)"
            ]
          },
          "metadata": {},
          "execution_count": 49
        }
      ],
      "source": [
        "tuple(map(lambda x : x ** 2, range(10)))"
      ]
    },
    {
      "cell_type": "code",
      "execution_count": 50,
      "metadata": {
        "colab": {
          "base_uri": "https://localhost:8080/"
        },
        "id": "1ebbwXc_TEMh",
        "outputId": "5abbd4b5-6483-4c83-cff8-28421071165b"
      },
      "outputs": [
        {
          "output_type": "execute_result",
          "data": {
            "text/plain": [
              "[4, 3, 2, 1]"
            ]
          },
          "metadata": {},
          "execution_count": 50
        }
      ],
      "source": [
        "sorted([1, 2, 3, 4], key=lambda x : 1 / x)"
      ]
    },
    {
      "cell_type": "code",
      "execution_count": 51,
      "metadata": {
        "colab": {
          "base_uri": "https://localhost:8080/"
        },
        "id": "6__dUl6WTEMh",
        "outputId": "4b3e52a9-d469-4d87-d543-d3d5c987ee81"
      },
      "outputs": [
        {
          "output_type": "execute_result",
          "data": {
            "text/plain": [
              "[-1, -2, 4, 3]"
            ]
          },
          "metadata": {},
          "execution_count": 51
        }
      ],
      "source": [
        "sorted([-1, -2, 3, 4], key=lambda x : 1 / x)"
      ]
    }
  ],
  "metadata": {
    "kernelspec": {
      "display_name": "Python 3 (ipykernel)",
      "language": "python",
      "name": "python3"
    },
    "language_info": {
      "codemirror_mode": {
        "name": "ipython",
        "version": 3
      },
      "file_extension": ".py",
      "mimetype": "text/x-python",
      "name": "python",
      "nbconvert_exporter": "python",
      "pygments_lexer": "ipython3",
      "version": "3.8.12"
    },
    "colab": {
      "provenance": []
    }
  },
  "nbformat": 4,
  "nbformat_minor": 0
}