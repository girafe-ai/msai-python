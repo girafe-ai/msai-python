{
 "cells": [
  {
   "cell_type": "code",
   "execution_count": 17,
   "metadata": {},
   "outputs": [],
   "source": [
    "# encapsulation\n",
    "\n",
    "complex_number_1 = (1, 2)\n",
    "complex_number_2 = (1, 2)"
   ]
  },
  {
   "cell_type": "code",
   "execution_count": 18,
   "metadata": {},
   "outputs": [
    {
     "data": {
      "text/plain": [
       "(2, 4)"
      ]
     },
     "execution_count": 18,
     "metadata": {},
     "output_type": "execute_result"
    }
   ],
   "source": [
    "(complex_number_1[0] + complex_number_2[0], complex_number_1[1] + complex_number_2[1])"
   ]
  },
  {
   "cell_type": "code",
   "execution_count": 19,
   "metadata": {},
   "outputs": [
    {
     "data": {
      "text/plain": [
       "(0, 0)"
      ]
     },
     "execution_count": 19,
     "metadata": {},
     "output_type": "execute_result"
    }
   ],
   "source": [
    "(complex_number_1[0] - complex_number_2[0], complex_number_1[1] - complex_number_2[1])"
   ]
  },
  {
   "cell_type": "code",
   "execution_count": 20,
   "metadata": {},
   "outputs": [
    {
     "data": {
      "text/plain": [
       "(-3, 4)"
      ]
     },
     "execution_count": 20,
     "metadata": {},
     "output_type": "execute_result"
    }
   ],
   "source": [
    "(\n",
    "    complex_number_1[0]*complex_number_2[0] - complex_number_1[1]*complex_number_2[1],\n",
    "    complex_number_1[0]*complex_number_2[1] + complex_number_1[1]*complex_number_2[0])"
   ]
  },
  {
   "cell_type": "code",
   "execution_count": 21,
   "metadata": {},
   "outputs": [],
   "source": [
    "class Complex:\n",
    "    def __init__(self, real: float, imag: float):\n",
    "        self.real = real\n",
    "        self.imag = imag\n",
    "    \n",
    "    def __repr__(self) -> str:\n",
    "        return f\"{self.real} + {self.imag}i\"\n",
    "\n",
    "    def __add__(self, other):\n",
    "        return Complex(self.real + other.real, self.imag + other.imag)\n",
    "\n",
    "    def __sub__(self, other):\n",
    "        return Complex(self.real - other.real, self.imag - other.imag)\n",
    "\n",
    "    def __mul__(self, other):\n",
    "        return Complex(\n",
    "            self.real * other.real - self.imag * other.imag,\n",
    "            self.real * other.imag + self.imag * other.real\n",
    "        )"
   ]
  },
  {
   "cell_type": "code",
   "execution_count": 22,
   "metadata": {},
   "outputs": [],
   "source": [
    "complex_number_1 = Complex(1, 2)\n",
    "complex_number_2 = Complex(1, 2)"
   ]
  },
  {
   "cell_type": "code",
   "execution_count": 23,
   "metadata": {},
   "outputs": [
    {
     "data": {
      "text/plain": [
       "2 + 4i"
      ]
     },
     "execution_count": 23,
     "metadata": {},
     "output_type": "execute_result"
    }
   ],
   "source": [
    "complex_number_1 + complex_number_2"
   ]
  },
  {
   "cell_type": "code",
   "execution_count": 24,
   "metadata": {},
   "outputs": [
    {
     "data": {
      "text/plain": [
       "0 + 0i"
      ]
     },
     "execution_count": 24,
     "metadata": {},
     "output_type": "execute_result"
    }
   ],
   "source": [
    "complex_number_1 - complex_number_2"
   ]
  },
  {
   "cell_type": "code",
   "execution_count": 25,
   "metadata": {},
   "outputs": [
    {
     "data": {
      "text/plain": [
       "-3 + 4i"
      ]
     },
     "execution_count": 25,
     "metadata": {},
     "output_type": "execute_result"
    }
   ],
   "source": [
    "complex_number_1 * complex_number_2"
   ]
  },
  {
   "cell_type": "code",
   "execution_count": 62,
   "metadata": {},
   "outputs": [],
   "source": [
    "class Complex:\n",
    "    def __init__(self, real: float, img: float):\n",
    "        self.real = real\n",
    "        self.img = img\n",
    "    \n",
    "    def __repr__(self) -> str:\n",
    "        return f\"{self.real} + {self.img}i\"\n",
    "\n",
    "    def __add__(self, other):\n",
    "        if isinstance(other, (int, float)):\n",
    "            return self.__class__(self.real + other, self.img)\n",
    "        elif isinstance(other, self.__class__):\n",
    "            return self.__class__(self.real + other.real, self.img + other.img)\n",
    "        else:\n",
    "            raise ValueError(f\"Cannot add {self.__class__} and {other.__class__}\")\n",
    "\n",
    "    def __sub__(self, other):\n",
    "        if isinstance(other, (int, float)):\n",
    "            return self.__class__(self.real - other, self.img)\n",
    "        elif isinstance(other, self.__class__):\n",
    "            return self.__class__(self.real - other.real, self.img - other.img)\n",
    "        else:\n",
    "            raise ValueError(f\"Cannot subtract {self.__class__} and {other.__class__}\")\n",
    "    \n",
    "    def __mul__(self, other):\n",
    "        if isinstance(other, (int, float)):\n",
    "            other = self.__class__(other, 0)\n",
    "        if isinstance(other, self.__class__):\n",
    "            return self.__class__(\n",
    "                self.real * other.real - self.img * other.img,\n",
    "                self.real * other.img + self.img * other.real\n",
    "            )\n",
    "        else:\n",
    "            raise ValueError(f\"Cannot multiply {self.__class__} and {other.__class__}\")\n",
    "    \n",
    "    def __radd__(self, other):\n",
    "        return self.__add__(other)\n",
    "    \n",
    "    def __rsub__(self, other):\n",
    "        if isinstance(other, (int, float)):\n",
    "            return self.__class__(other - self.real, -self.img)\n",
    "    \n",
    "    __rmul__ = __mul__\n",
    "\n",
    "    def __eq__(self, other):\n",
    "        if isinstance(other, (int, float)):\n",
    "            return self.real == other and self.img == 0\n",
    "        elif isinstance(other, self.__class__):\n",
    "            return self.real == other.real and self.img == other.img\n",
    "        else:\n",
    "            raise ValueError(f\"Cannot compare {self.__class__} and {other.__class__}\")\n",
    "    \n",
    "    def __ne__(self, other):\n",
    "        return not self.__eq__(other)\n",
    "    \n",
    "    def __neg__(self):\n",
    "        return self.__class__(-self.real, -self.img)\n",
    "\n",
    "    def __lt__(self, other):\n",
    "        if isinstance(other, (int, float)):\n",
    "            return self.real < other\n",
    "        elif isinstance(other, self.__class__):\n",
    "            return self.real < other.real\n",
    "        else:\n",
    "            raise ValueError(f\"Cannot compare {self.__class__} and {other.__class__}\")\n",
    "    \n",
    "    def __gt__(self, other):\n",
    "        if isinstance(other, (int, float)):\n",
    "            return self.real > other\n",
    "        elif isinstance(other, self.__class__):\n",
    "            return self.real > other.real\n",
    "        else:\n",
    "            raise ValueError(f\"Cannot compare {self.__class__} and {other.__class__}\")\n",
    "    \n",
    "    def __bool__(self):\n",
    "        return self.real != 0 or self.img != 0"
   ]
  },
  {
   "cell_type": "code",
   "execution_count": 63,
   "metadata": {},
   "outputs": [],
   "source": [
    "complex_number_1 = Complex(1, 2)\n",
    "complex_number_2 = Complex(1, 2)"
   ]
  },
  {
   "cell_type": "code",
   "execution_count": 64,
   "metadata": {},
   "outputs": [
    {
     "data": {
      "text/plain": [
       "2 + 4i"
      ]
     },
     "execution_count": 64,
     "metadata": {},
     "output_type": "execute_result"
    }
   ],
   "source": [
    "complex_number_1 + complex_number_2"
   ]
  },
  {
   "cell_type": "code",
   "execution_count": 65,
   "metadata": {},
   "outputs": [
    {
     "data": {
      "text/plain": [
       "-122.0 + 2i"
      ]
     },
     "execution_count": 65,
     "metadata": {},
     "output_type": "execute_result"
    }
   ],
   "source": [
    "complex_number_1 + (-123.)"
   ]
  },
  {
   "cell_type": "code",
   "execution_count": 56,
   "metadata": {},
   "outputs": [
    {
     "data": {
      "text/plain": [
       "-122 + 2i"
      ]
     },
     "execution_count": 56,
     "metadata": {},
     "output_type": "execute_result"
    }
   ],
   "source": [
    "complex_number_1 + (-123)"
   ]
  },
  {
   "cell_type": "code",
   "execution_count": 58,
   "metadata": {},
   "outputs": [
    {
     "data": {
      "text/plain": [
       "124 + 2i"
      ]
     },
     "execution_count": 58,
     "metadata": {},
     "output_type": "execute_result"
    }
   ],
   "source": [
    "123 + complex_number_1"
   ]
  },
  {
   "cell_type": "code",
   "execution_count": 66,
   "metadata": {},
   "outputs": [
    {
     "ename": "ValueError",
     "evalue": "Cannot add <class '__main__.Complex'> and <class 'str'>",
     "output_type": "error",
     "traceback": [
      "\u001b[0;31m---------------------------------------------------------------------------\u001b[0m",
      "\u001b[0;31mValueError\u001b[0m                                Traceback (most recent call last)",
      "\u001b[1;32m/Users/podidiving/Developer/mipt/msai-python/week5/seminar.ipynb Cell 16\u001b[0m line \u001b[0;36m1\n\u001b[0;32m----> <a href='vscode-notebook-cell:/Users/podidiving/Developer/mipt/msai-python/week5/seminar.ipynb#X24sZmlsZQ%3D%3D?line=0'>1</a>\u001b[0m complex_number_1 \u001b[39m+\u001b[39;49m \u001b[39m\"\u001b[39;49m\u001b[39m-123.\u001b[39;49m\u001b[39m\"\u001b[39;49m\n",
      "\u001b[1;32m/Users/podidiving/Developer/mipt/msai-python/week5/seminar.ipynb Cell 16\u001b[0m line \u001b[0;36m1\n\u001b[1;32m     <a href='vscode-notebook-cell:/Users/podidiving/Developer/mipt/msai-python/week5/seminar.ipynb#X24sZmlsZQ%3D%3D?line=12'>13</a>\u001b[0m     \u001b[39mreturn\u001b[39;00m \u001b[39mself\u001b[39m\u001b[39m.\u001b[39m\u001b[39m__class__\u001b[39m(\u001b[39mself\u001b[39m\u001b[39m.\u001b[39mreal \u001b[39m+\u001b[39m other\u001b[39m.\u001b[39mreal, \u001b[39mself\u001b[39m\u001b[39m.\u001b[39mimg \u001b[39m+\u001b[39m other\u001b[39m.\u001b[39mimg)\n\u001b[1;32m     <a href='vscode-notebook-cell:/Users/podidiving/Developer/mipt/msai-python/week5/seminar.ipynb#X24sZmlsZQ%3D%3D?line=13'>14</a>\u001b[0m \u001b[39melse\u001b[39;00m:\n\u001b[0;32m---> <a href='vscode-notebook-cell:/Users/podidiving/Developer/mipt/msai-python/week5/seminar.ipynb#X24sZmlsZQ%3D%3D?line=14'>15</a>\u001b[0m     \u001b[39mraise\u001b[39;00m \u001b[39mValueError\u001b[39;00m(\u001b[39mf\u001b[39m\u001b[39m\"\u001b[39m\u001b[39mCannot add \u001b[39m\u001b[39m{\u001b[39;00m\u001b[39mself\u001b[39m\u001b[39m.\u001b[39m\u001b[39m__class__\u001b[39m\u001b[39m}\u001b[39;00m\u001b[39m and \u001b[39m\u001b[39m{\u001b[39;00mother\u001b[39m.\u001b[39m\u001b[39m__class__\u001b[39m\u001b[39m}\u001b[39;00m\u001b[39m\"\u001b[39m)\n",
      "\u001b[0;31mValueError\u001b[0m: Cannot add <class '__main__.Complex'> and <class 'str'>"
     ]
    }
   ],
   "source": [
    "complex_number_1 + \"-123.\""
   ]
  },
  {
   "cell_type": "code",
   "execution_count": null,
   "metadata": {},
   "outputs": [],
   "source": []
  },
  {
   "cell_type": "code",
   "execution_count": 67,
   "metadata": {},
   "outputs": [],
   "source": []
  },
  {
   "cell_type": "code",
   "execution_count": 68,
   "metadata": {},
   "outputs": [],
   "source": [
    "# inheritance\n",
    "class Point(Complex):\n",
    "    def __init__(self, x: float, y: float):\n",
    "        super().__init__(x, y)\n",
    "    \n",
    "    def __repr__(self) -> str:\n",
    "        return f\"({self.real}, {self.img})\"\n",
    "    \n",
    "    def distance(self, other: \"Point\") -> float:\n",
    "        return ((self.real - other.real)**2 + (self.img - other.img)**2)**0.5\n",
    "\n",
    "    def length(self) -> float:\n",
    "        return self.distance(self.__class__(0, 0))"
   ]
  },
  {
   "cell_type": "code",
   "execution_count": 70,
   "metadata": {},
   "outputs": [
    {
     "name": "stdout",
     "output_type": "stream",
     "text": [
      "5.0\n",
      "2.8284271247461903\n"
     ]
    }
   ],
   "source": [
    "xy1 = Point(3, 4)\n",
    "xy2 = Point(5, 5)\n",
    "print(xy1.length())\n",
    "print(xy1.distance(complex_number_1))"
   ]
  },
  {
   "cell_type": "code",
   "execution_count": 81,
   "metadata": {},
   "outputs": [],
   "source": [
    "# multiple inheritance\n",
    "class A:\n",
    "    def __init__(self):\n",
    "        print(\"A\")\n",
    "    \n",
    "    def foo(self):\n",
    "        print(\"foo in A\")\n",
    "\n",
    "    def bar(self):\n",
    "        print(\"bar in A\")\n",
    "\n",
    "class B:\n",
    "    def __init__(self):\n",
    "        print(\"B\")\n",
    "    \n",
    "    def foo(self):\n",
    "        print(\"foo in B\")\n",
    "\n",
    "    def buzz(self):\n",
    "        print(\"buzz in B\")\n",
    "\n",
    "class C(A, B):\n",
    "    def __init__(self):\n",
    "        super().__init__()\n",
    "        print(\"C\")\n",
    "    \n",
    "    def long_foo(self):\n",
    "        print(\"long foo in C\")\n",
    "    \n",
    "    def bar(self):\n",
    "        print(\"bar in C\")\n"
   ]
  },
  {
   "cell_type": "code",
   "execution_count": 85,
   "metadata": {},
   "outputs": [
    {
     "name": "stdout",
     "output_type": "stream",
     "text": [
      "A\n",
      "C\n",
      "foo in A\n",
      "bar in C\n",
      "buzz in B\n",
      "long foo in C\n"
     ]
    }
   ],
   "source": [
    "c = C()\n",
    "\n",
    "c.foo()\n",
    "c.bar()\n",
    "c.buzz()\n",
    "c.long_foo()"
   ]
  },
  {
   "cell_type": "code",
   "execution_count": null,
   "metadata": {},
   "outputs": [],
   "source": []
  },
  {
   "cell_type": "code",
   "execution_count": 86,
   "metadata": {},
   "outputs": [],
   "source": [
    "# polymorphism\n",
    "class Animal:\n",
    "    def play_sound(self):\n",
    "        print(\"...\")\n",
    "\n",
    "class Dog(Animal):\n",
    "    def play_sound(self):\n",
    "        print(\"woof\")\n",
    "\n",
    "class Cat(Animal):\n",
    "    def play_sound(self):\n",
    "        print(\"meow\")"
   ]
  },
  {
   "cell_type": "code",
   "execution_count": 87,
   "metadata": {},
   "outputs": [],
   "source": [
    "def make_sound(animal: Animal):\n",
    "    animal.play_sound()"
   ]
  },
  {
   "cell_type": "code",
   "execution_count": 88,
   "metadata": {},
   "outputs": [],
   "source": [
    "dog = Dog()\n",
    "cat = Cat()\n",
    "frog = Animal()"
   ]
  },
  {
   "cell_type": "code",
   "execution_count": 89,
   "metadata": {},
   "outputs": [
    {
     "name": "stdout",
     "output_type": "stream",
     "text": [
      "woof\n",
      "meow\n",
      "...\n"
     ]
    }
   ],
   "source": [
    "make_sound(dog)\n",
    "make_sound(cat)\n",
    "make_sound(frog)"
   ]
  },
  {
   "cell_type": "code",
   "execution_count": null,
   "metadata": {},
   "outputs": [],
   "source": []
  }
 ],
 "metadata": {
  "kernelspec": {
   "display_name": "env-classic-ml",
   "language": "python",
   "name": "python3"
  },
  "language_info": {
   "codemirror_mode": {
    "name": "ipython",
    "version": 3
   },
   "file_extension": ".py",
   "mimetype": "text/x-python",
   "name": "python",
   "nbconvert_exporter": "python",
   "pygments_lexer": "ipython3",
   "version": "3.9.16"
  }
 },
 "nbformat": 4,
 "nbformat_minor": 2
}
